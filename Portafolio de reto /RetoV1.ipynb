{
  "nbformat": 4,
  "nbformat_minor": 0,
  "metadata": {
    "colab": {
      "provenance": []
    },
    "kernelspec": {
      "name": "python3",
      "display_name": "Python 3"
    },
    "language_info": {
      "name": "python"
    }
  },
  "cells": [
    {
      "cell_type": "markdown",
      "source": [
        "<h1><b>Titanic - Machine Learning from Disaster</b></h1>"
      ],
      "metadata": {
        "id": "B-pzp7H9dL1x"
      }
    },
    {
      "cell_type": "markdown",
      "source": [
        "<h2><b>Equipo 5</b></h2>\n",
        "Cleber Gerardo Pérez Galicia - A01236390 <br>\n",
        "Juan Pablo Bernal Lafarga - A01742342 <br>\n",
        "Jacobo Hirsch Rodríguez - A00829679 <br>\n",
        "Eryk Elizondo González - A01284899 <br>\n",
        "\n",
        "\n",
        "\n"
      ],
      "metadata": {
        "id": "GSN_4gsYdvNf"
      }
    },
    {
      "cell_type": "markdown",
      "source": [
        "<h2><b>Descripción</b></h2>\n",
        "El hundimiento del Titanic es uno de los naufragios más infames de la historia.\n",
        "\n",
        "El 15 de abril de 1912, durante su viaje inaugural, el RMS Titanic, ampliamente considerado “insumergible”, se hundió después de chocar con un iceberg. Desafortunadamente, no había suficientes botes salvavidas para todos a bordo, lo que provocó la muerte de 1,502 de los 2,224 pasajeros y tripulantes.\n",
        "\n",
        "Si bien hubo algún elemento de suerte involucrado en la supervivencia, parece que algunos grupos de personas tenían más probabilidades de sobrevivir que otros.\n",
        "\n",
        "En este desafío, se construye un modelo predictivo que responda a la pregunta: \"¿qué tipo de personas tenían más probabilidades de sobrevivir?\" utilizando datos de los pasajeros (es decir, nombre, edad, sexo, clase socioeconómica, etc.)."
      ],
      "metadata": {
        "id": "s3ZCZe5QhsSJ"
      }
    },
    {
      "cell_type": "markdown",
      "source": [
        "<h2><b>Objetivo</b></h2>\n",
        "Utilizar el aprendizaje automático para crear un modelo que prediga qué pasajeros sobrevivieron al naufragio del Titanic."
      ],
      "metadata": {
        "id": "YoHJDoovhxTc"
      }
    },
    {
      "cell_type": "markdown",
      "source": [
        "# Análisis Inicial"
      ],
      "metadata": {
        "id": "awvG_ujcUO8a"
      }
    },
    {
      "cell_type": "markdown",
      "source": [
        "## Montar Dataset Dependiendo del Usuario"
      ],
      "metadata": {
        "id": "WcyyCq38iHaS"
      }
    },
    {
      "cell_type": "code",
      "source": [
        "from google.colab import drive\n",
        "drive.mount(\"/content/gdrive\")"
      ],
      "metadata": {
        "colab": {
          "base_uri": "https://localhost:8080/"
        },
        "id": "HZFo3sVQkpJg",
        "outputId": "b2b1af1d-4028-4c22-ad6d-b8812b4505ae"
      },
      "execution_count": null,
      "outputs": [
        {
          "output_type": "stream",
          "name": "stdout",
          "text": [
            "Mounted at /content/gdrive\n"
          ]
        }
      ]
    },
    {
      "cell_type": "code",
      "source": [
        "# Cleber Gerardo Pérez Galicia\n",
        "# %cd \"/content/gdrive/MyDrive/TC3006_7C_101_E5/Titanic/Datasets\""
      ],
      "metadata": {
        "id": "N3tnUKOliSYB"
      },
      "execution_count": null,
      "outputs": []
    },
    {
      "cell_type": "code",
      "source": [
        "# Juan Pablo Bernal Lafarga\n",
        "# %cd \"/content/gdrive/MyDrive/TC300_Titanic\""
      ],
      "metadata": {
        "id": "CqeEPz72irNI"
      },
      "execution_count": null,
      "outputs": []
    },
    {
      "cell_type": "code",
      "source": [
        "# Jacobo Hirsch Rodríguez\n",
        "#%cd \"/content/gdrive/MyDrive/SeptimoSemestre/titanicDataset\""
      ],
      "metadata": {
        "id": "feYevgU8itTO",
        "colab": {
          "base_uri": "https://localhost:8080/"
        },
        "outputId": "bea84fd7-8eb4-416c-c82f-6a7537c2eb10"
      },
      "execution_count": null,
      "outputs": [
        {
          "output_type": "stream",
          "name": "stdout",
          "text": [
            "/content/gdrive/MyDrive/SeptimoSemestre/titanicDataset\n"
          ]
        }
      ]
    },
    {
      "cell_type": "code",
      "source": [
        "# Eryk Elizondo González\n",
        "%cd \"/content/gdrive/MyDrive/ColabNotebooks/TC3006_7C_101_E5/Titanic/Datasets\""
      ],
      "metadata": {
        "colab": {
          "base_uri": "https://localhost:8080/"
        },
        "id": "BqK2nZVzi1Te",
        "outputId": "6123eba1-b097-480c-f164-a663145332be"
      },
      "execution_count": null,
      "outputs": [
        {
          "output_type": "stream",
          "name": "stdout",
          "text": [
            "/content/gdrive/MyDrive/ColabNotebooks/TC3006_7C_101_E5/Titanic/Datasets\n"
          ]
        }
      ]
    },
    {
      "cell_type": "markdown",
      "source": [
        "## Extracción de Datos"
      ],
      "metadata": {
        "id": "f8HsqVcZU3WJ"
      }
    },
    {
      "cell_type": "code",
      "source": [
        "# Importar librerias\n",
        "import pandas as pd\n",
        "import matplotlib.pyplot as plt\n",
        "import numpy as np\n",
        "import seaborn as sns\n",
        "import statsmodels.api as sm\n",
        "import statsmodels.formula.api as smf\n",
        "from sklearn.linear_model import LinearRegression\n",
        "from sklearn.model_selection import train_test_split\n",
        "from sklearn.metrics import r2_score\n",
        "from sklearn.metrics import mean_squared_error\n",
        "from sklearn.preprocessing import LabelEncoder"
      ],
      "metadata": {
        "id": "ARHs8NrVlggX"
      },
      "execution_count": null,
      "outputs": []
    },
    {
      "cell_type": "markdown",
      "source": [
        "### Archivo de Entrenamiento"
      ],
      "metadata": {
        "id": "abaVVqiHbpaM"
      }
    },
    {
      "cell_type": "code",
      "source": [
        "# Abrir archivo de entrenamiento\n",
        "train_data = pd.read_csv('train.csv')\n",
        "\n",
        "# Desplegar información superficial\n",
        "train_data.info()"
      ],
      "metadata": {
        "colab": {
          "base_uri": "https://localhost:8080/"
        },
        "id": "giBnOjKUlkOh",
        "outputId": "468b59c5-8398-49e7-985f-7bc16e7065e2"
      },
      "execution_count": null,
      "outputs": [
        {
          "output_type": "stream",
          "name": "stdout",
          "text": [
            "<class 'pandas.core.frame.DataFrame'>\n",
            "RangeIndex: 891 entries, 0 to 890\n",
            "Data columns (total 12 columns):\n",
            " #   Column       Non-Null Count  Dtype  \n",
            "---  ------       --------------  -----  \n",
            " 0   PassengerId  891 non-null    int64  \n",
            " 1   Survived     891 non-null    int64  \n",
            " 2   Pclass       891 non-null    int64  \n",
            " 3   Name         891 non-null    object \n",
            " 4   Sex          891 non-null    object \n",
            " 5   Age          714 non-null    float64\n",
            " 6   SibSp        891 non-null    int64  \n",
            " 7   Parch        891 non-null    int64  \n",
            " 8   Ticket       891 non-null    object \n",
            " 9   Fare         891 non-null    float64\n",
            " 10  Cabin        204 non-null    object \n",
            " 11  Embarked     889 non-null    object \n",
            "dtypes: float64(2), int64(5), object(5)\n",
            "memory usage: 83.7+ KB\n"
          ]
        }
      ]
    },
    {
      "cell_type": "code",
      "source": [
        "# Desplegar primeros datos\n",
        "train_data.head()"
      ],
      "metadata": {
        "colab": {
          "base_uri": "https://localhost:8080/",
          "height": 204
        },
        "id": "l7ZSZxDvb1fM",
        "outputId": "9b46f2e1-d5ef-4f7a-eafa-82cb7bc87115"
      },
      "execution_count": null,
      "outputs": [
        {
          "output_type": "execute_result",
          "data": {
            "text/plain": [
              "   PassengerId  Survived  Pclass  \\\n",
              "0            1         0       3   \n",
              "1            2         1       1   \n",
              "2            3         1       3   \n",
              "3            4         1       1   \n",
              "4            5         0       3   \n",
              "\n",
              "                                                Name     Sex   Age  SibSp  \\\n",
              "0                            Braund, Mr. Owen Harris    male  22.0      1   \n",
              "1  Cumings, Mrs. John Bradley (Florence Briggs Th...  female  38.0      1   \n",
              "2                             Heikkinen, Miss. Laina  female  26.0      0   \n",
              "3       Futrelle, Mrs. Jacques Heath (Lily May Peel)  female  35.0      1   \n",
              "4                           Allen, Mr. William Henry    male  35.0      0   \n",
              "\n",
              "   Parch            Ticket     Fare Cabin Embarked  \n",
              "0      0         A/5 21171   7.2500   NaN        S  \n",
              "1      0          PC 17599  71.2833   C85        C  \n",
              "2      0  STON/O2. 3101282   7.9250   NaN        S  \n",
              "3      0            113803  53.1000  C123        S  \n",
              "4      0            373450   8.0500   NaN        S  "
            ],
            "text/html": [
              "\n",
              "  <div id=\"df-0d612ae6-9638-4db0-b931-4f4d393cf0ba\" class=\"colab-df-container\">\n",
              "    <div>\n",
              "<style scoped>\n",
              "    .dataframe tbody tr th:only-of-type {\n",
              "        vertical-align: middle;\n",
              "    }\n",
              "\n",
              "    .dataframe tbody tr th {\n",
              "        vertical-align: top;\n",
              "    }\n",
              "\n",
              "    .dataframe thead th {\n",
              "        text-align: right;\n",
              "    }\n",
              "</style>\n",
              "<table border=\"1\" class=\"dataframe\">\n",
              "  <thead>\n",
              "    <tr style=\"text-align: right;\">\n",
              "      <th></th>\n",
              "      <th>PassengerId</th>\n",
              "      <th>Survived</th>\n",
              "      <th>Pclass</th>\n",
              "      <th>Name</th>\n",
              "      <th>Sex</th>\n",
              "      <th>Age</th>\n",
              "      <th>SibSp</th>\n",
              "      <th>Parch</th>\n",
              "      <th>Ticket</th>\n",
              "      <th>Fare</th>\n",
              "      <th>Cabin</th>\n",
              "      <th>Embarked</th>\n",
              "    </tr>\n",
              "  </thead>\n",
              "  <tbody>\n",
              "    <tr>\n",
              "      <th>0</th>\n",
              "      <td>1</td>\n",
              "      <td>0</td>\n",
              "      <td>3</td>\n",
              "      <td>Braund, Mr. Owen Harris</td>\n",
              "      <td>male</td>\n",
              "      <td>22.0</td>\n",
              "      <td>1</td>\n",
              "      <td>0</td>\n",
              "      <td>A/5 21171</td>\n",
              "      <td>7.2500</td>\n",
              "      <td>NaN</td>\n",
              "      <td>S</td>\n",
              "    </tr>\n",
              "    <tr>\n",
              "      <th>1</th>\n",
              "      <td>2</td>\n",
              "      <td>1</td>\n",
              "      <td>1</td>\n",
              "      <td>Cumings, Mrs. John Bradley (Florence Briggs Th...</td>\n",
              "      <td>female</td>\n",
              "      <td>38.0</td>\n",
              "      <td>1</td>\n",
              "      <td>0</td>\n",
              "      <td>PC 17599</td>\n",
              "      <td>71.2833</td>\n",
              "      <td>C85</td>\n",
              "      <td>C</td>\n",
              "    </tr>\n",
              "    <tr>\n",
              "      <th>2</th>\n",
              "      <td>3</td>\n",
              "      <td>1</td>\n",
              "      <td>3</td>\n",
              "      <td>Heikkinen, Miss. Laina</td>\n",
              "      <td>female</td>\n",
              "      <td>26.0</td>\n",
              "      <td>0</td>\n",
              "      <td>0</td>\n",
              "      <td>STON/O2. 3101282</td>\n",
              "      <td>7.9250</td>\n",
              "      <td>NaN</td>\n",
              "      <td>S</td>\n",
              "    </tr>\n",
              "    <tr>\n",
              "      <th>3</th>\n",
              "      <td>4</td>\n",
              "      <td>1</td>\n",
              "      <td>1</td>\n",
              "      <td>Futrelle, Mrs. Jacques Heath (Lily May Peel)</td>\n",
              "      <td>female</td>\n",
              "      <td>35.0</td>\n",
              "      <td>1</td>\n",
              "      <td>0</td>\n",
              "      <td>113803</td>\n",
              "      <td>53.1000</td>\n",
              "      <td>C123</td>\n",
              "      <td>S</td>\n",
              "    </tr>\n",
              "    <tr>\n",
              "      <th>4</th>\n",
              "      <td>5</td>\n",
              "      <td>0</td>\n",
              "      <td>3</td>\n",
              "      <td>Allen, Mr. William Henry</td>\n",
              "      <td>male</td>\n",
              "      <td>35.0</td>\n",
              "      <td>0</td>\n",
              "      <td>0</td>\n",
              "      <td>373450</td>\n",
              "      <td>8.0500</td>\n",
              "      <td>NaN</td>\n",
              "      <td>S</td>\n",
              "    </tr>\n",
              "  </tbody>\n",
              "</table>\n",
              "</div>\n",
              "    <div class=\"colab-df-buttons\">\n",
              "\n",
              "  <div class=\"colab-df-container\">\n",
              "    <button class=\"colab-df-convert\" onclick=\"convertToInteractive('df-0d612ae6-9638-4db0-b931-4f4d393cf0ba')\"\n",
              "            title=\"Convert this dataframe to an interactive table.\"\n",
              "            style=\"display:none;\">\n",
              "\n",
              "  <svg xmlns=\"http://www.w3.org/2000/svg\" height=\"24px\" viewBox=\"0 -960 960 960\">\n",
              "    <path d=\"M120-120v-720h720v720H120Zm60-500h600v-160H180v160Zm220 220h160v-160H400v160Zm0 220h160v-160H400v160ZM180-400h160v-160H180v160Zm440 0h160v-160H620v160ZM180-180h160v-160H180v160Zm440 0h160v-160H620v160Z\"/>\n",
              "  </svg>\n",
              "    </button>\n",
              "\n",
              "  <style>\n",
              "    .colab-df-container {\n",
              "      display:flex;\n",
              "      gap: 12px;\n",
              "    }\n",
              "\n",
              "    .colab-df-convert {\n",
              "      background-color: #E8F0FE;\n",
              "      border: none;\n",
              "      border-radius: 50%;\n",
              "      cursor: pointer;\n",
              "      display: none;\n",
              "      fill: #1967D2;\n",
              "      height: 32px;\n",
              "      padding: 0 0 0 0;\n",
              "      width: 32px;\n",
              "    }\n",
              "\n",
              "    .colab-df-convert:hover {\n",
              "      background-color: #E2EBFA;\n",
              "      box-shadow: 0px 1px 2px rgba(60, 64, 67, 0.3), 0px 1px 3px 1px rgba(60, 64, 67, 0.15);\n",
              "      fill: #174EA6;\n",
              "    }\n",
              "\n",
              "    .colab-df-buttons div {\n",
              "      margin-bottom: 4px;\n",
              "    }\n",
              "\n",
              "    [theme=dark] .colab-df-convert {\n",
              "      background-color: #3B4455;\n",
              "      fill: #D2E3FC;\n",
              "    }\n",
              "\n",
              "    [theme=dark] .colab-df-convert:hover {\n",
              "      background-color: #434B5C;\n",
              "      box-shadow: 0px 1px 3px 1px rgba(0, 0, 0, 0.15);\n",
              "      filter: drop-shadow(0px 1px 2px rgba(0, 0, 0, 0.3));\n",
              "      fill: #FFFFFF;\n",
              "    }\n",
              "  </style>\n",
              "\n",
              "    <script>\n",
              "      const buttonEl =\n",
              "        document.querySelector('#df-0d612ae6-9638-4db0-b931-4f4d393cf0ba button.colab-df-convert');\n",
              "      buttonEl.style.display =\n",
              "        google.colab.kernel.accessAllowed ? 'block' : 'none';\n",
              "\n",
              "      async function convertToInteractive(key) {\n",
              "        const element = document.querySelector('#df-0d612ae6-9638-4db0-b931-4f4d393cf0ba');\n",
              "        const dataTable =\n",
              "          await google.colab.kernel.invokeFunction('convertToInteractive',\n",
              "                                                    [key], {});\n",
              "        if (!dataTable) return;\n",
              "\n",
              "        const docLinkHtml = 'Like what you see? Visit the ' +\n",
              "          '<a target=\"_blank\" href=https://colab.research.google.com/notebooks/data_table.ipynb>data table notebook</a>'\n",
              "          + ' to learn more about interactive tables.';\n",
              "        element.innerHTML = '';\n",
              "        dataTable['output_type'] = 'display_data';\n",
              "        await google.colab.output.renderOutput(dataTable, element);\n",
              "        const docLink = document.createElement('div');\n",
              "        docLink.innerHTML = docLinkHtml;\n",
              "        element.appendChild(docLink);\n",
              "      }\n",
              "    </script>\n",
              "  </div>\n",
              "\n",
              "\n",
              "<div id=\"df-8704e5d9-b30e-4bd9-92aa-f96a88826ec8\">\n",
              "  <button class=\"colab-df-quickchart\" onclick=\"quickchart('df-8704e5d9-b30e-4bd9-92aa-f96a88826ec8')\"\n",
              "            title=\"Suggest charts\"\n",
              "            style=\"display:none;\">\n",
              "\n",
              "<svg xmlns=\"http://www.w3.org/2000/svg\" height=\"24px\"viewBox=\"0 0 24 24\"\n",
              "     width=\"24px\">\n",
              "    <g>\n",
              "        <path d=\"M19 3H5c-1.1 0-2 .9-2 2v14c0 1.1.9 2 2 2h14c1.1 0 2-.9 2-2V5c0-1.1-.9-2-2-2zM9 17H7v-7h2v7zm4 0h-2V7h2v10zm4 0h-2v-4h2v4z\"/>\n",
              "    </g>\n",
              "</svg>\n",
              "  </button>\n",
              "\n",
              "<style>\n",
              "  .colab-df-quickchart {\n",
              "      --bg-color: #E8F0FE;\n",
              "      --fill-color: #1967D2;\n",
              "      --hover-bg-color: #E2EBFA;\n",
              "      --hover-fill-color: #174EA6;\n",
              "      --disabled-fill-color: #AAA;\n",
              "      --disabled-bg-color: #DDD;\n",
              "  }\n",
              "\n",
              "  [theme=dark] .colab-df-quickchart {\n",
              "      --bg-color: #3B4455;\n",
              "      --fill-color: #D2E3FC;\n",
              "      --hover-bg-color: #434B5C;\n",
              "      --hover-fill-color: #FFFFFF;\n",
              "      --disabled-bg-color: #3B4455;\n",
              "      --disabled-fill-color: #666;\n",
              "  }\n",
              "\n",
              "  .colab-df-quickchart {\n",
              "    background-color: var(--bg-color);\n",
              "    border: none;\n",
              "    border-radius: 50%;\n",
              "    cursor: pointer;\n",
              "    display: none;\n",
              "    fill: var(--fill-color);\n",
              "    height: 32px;\n",
              "    padding: 0;\n",
              "    width: 32px;\n",
              "  }\n",
              "\n",
              "  .colab-df-quickchart:hover {\n",
              "    background-color: var(--hover-bg-color);\n",
              "    box-shadow: 0 1px 2px rgba(60, 64, 67, 0.3), 0 1px 3px 1px rgba(60, 64, 67, 0.15);\n",
              "    fill: var(--button-hover-fill-color);\n",
              "  }\n",
              "\n",
              "  .colab-df-quickchart-complete:disabled,\n",
              "  .colab-df-quickchart-complete:disabled:hover {\n",
              "    background-color: var(--disabled-bg-color);\n",
              "    fill: var(--disabled-fill-color);\n",
              "    box-shadow: none;\n",
              "  }\n",
              "\n",
              "  .colab-df-spinner {\n",
              "    border: 2px solid var(--fill-color);\n",
              "    border-color: transparent;\n",
              "    border-bottom-color: var(--fill-color);\n",
              "    animation:\n",
              "      spin 1s steps(1) infinite;\n",
              "  }\n",
              "\n",
              "  @keyframes spin {\n",
              "    0% {\n",
              "      border-color: transparent;\n",
              "      border-bottom-color: var(--fill-color);\n",
              "      border-left-color: var(--fill-color);\n",
              "    }\n",
              "    20% {\n",
              "      border-color: transparent;\n",
              "      border-left-color: var(--fill-color);\n",
              "      border-top-color: var(--fill-color);\n",
              "    }\n",
              "    30% {\n",
              "      border-color: transparent;\n",
              "      border-left-color: var(--fill-color);\n",
              "      border-top-color: var(--fill-color);\n",
              "      border-right-color: var(--fill-color);\n",
              "    }\n",
              "    40% {\n",
              "      border-color: transparent;\n",
              "      border-right-color: var(--fill-color);\n",
              "      border-top-color: var(--fill-color);\n",
              "    }\n",
              "    60% {\n",
              "      border-color: transparent;\n",
              "      border-right-color: var(--fill-color);\n",
              "    }\n",
              "    80% {\n",
              "      border-color: transparent;\n",
              "      border-right-color: var(--fill-color);\n",
              "      border-bottom-color: var(--fill-color);\n",
              "    }\n",
              "    90% {\n",
              "      border-color: transparent;\n",
              "      border-bottom-color: var(--fill-color);\n",
              "    }\n",
              "  }\n",
              "</style>\n",
              "\n",
              "  <script>\n",
              "    async function quickchart(key) {\n",
              "      const quickchartButtonEl =\n",
              "        document.querySelector('#' + key + ' button');\n",
              "      quickchartButtonEl.disabled = true;  // To prevent multiple clicks.\n",
              "      quickchartButtonEl.classList.add('colab-df-spinner');\n",
              "      try {\n",
              "        const charts = await google.colab.kernel.invokeFunction(\n",
              "            'suggestCharts', [key], {});\n",
              "      } catch (error) {\n",
              "        console.error('Error during call to suggestCharts:', error);\n",
              "      }\n",
              "      quickchartButtonEl.classList.remove('colab-df-spinner');\n",
              "      quickchartButtonEl.classList.add('colab-df-quickchart-complete');\n",
              "    }\n",
              "    (() => {\n",
              "      let quickchartButtonEl =\n",
              "        document.querySelector('#df-8704e5d9-b30e-4bd9-92aa-f96a88826ec8 button');\n",
              "      quickchartButtonEl.style.display =\n",
              "        google.colab.kernel.accessAllowed ? 'block' : 'none';\n",
              "    })();\n",
              "  </script>\n",
              "</div>\n",
              "\n",
              "    </div>\n",
              "  </div>\n"
            ],
            "application/vnd.google.colaboratory.intrinsic+json": {
              "type": "dataframe",
              "variable_name": "train_data",
              "summary": "{\n  \"name\": \"train_data\",\n  \"rows\": 891,\n  \"fields\": [\n    {\n      \"column\": \"PassengerId\",\n      \"properties\": {\n        \"dtype\": \"number\",\n        \"std\": 257,\n        \"min\": 1,\n        \"max\": 891,\n        \"num_unique_values\": 891,\n        \"samples\": [\n          710,\n          440,\n          841\n        ],\n        \"semantic_type\": \"\",\n        \"description\": \"\"\n      }\n    },\n    {\n      \"column\": \"Survived\",\n      \"properties\": {\n        \"dtype\": \"number\",\n        \"std\": 0,\n        \"min\": 0,\n        \"max\": 1,\n        \"num_unique_values\": 2,\n        \"samples\": [\n          1,\n          0\n        ],\n        \"semantic_type\": \"\",\n        \"description\": \"\"\n      }\n    },\n    {\n      \"column\": \"Pclass\",\n      \"properties\": {\n        \"dtype\": \"number\",\n        \"std\": 0,\n        \"min\": 1,\n        \"max\": 3,\n        \"num_unique_values\": 3,\n        \"samples\": [\n          3,\n          1\n        ],\n        \"semantic_type\": \"\",\n        \"description\": \"\"\n      }\n    },\n    {\n      \"column\": \"Name\",\n      \"properties\": {\n        \"dtype\": \"string\",\n        \"num_unique_values\": 891,\n        \"samples\": [\n          \"Moubarek, Master. Halim Gonios (\\\"William George\\\")\",\n          \"Kvillner, Mr. Johan Henrik Johannesson\"\n        ],\n        \"semantic_type\": \"\",\n        \"description\": \"\"\n      }\n    },\n    {\n      \"column\": \"Sex\",\n      \"properties\": {\n        \"dtype\": \"category\",\n        \"num_unique_values\": 2,\n        \"samples\": [\n          \"female\",\n          \"male\"\n        ],\n        \"semantic_type\": \"\",\n        \"description\": \"\"\n      }\n    },\n    {\n      \"column\": \"Age\",\n      \"properties\": {\n        \"dtype\": \"number\",\n        \"std\": 14.526497332334042,\n        \"min\": 0.42,\n        \"max\": 80.0,\n        \"num_unique_values\": 88,\n        \"samples\": [\n          0.75,\n          22.0\n        ],\n        \"semantic_type\": \"\",\n        \"description\": \"\"\n      }\n    },\n    {\n      \"column\": \"SibSp\",\n      \"properties\": {\n        \"dtype\": \"number\",\n        \"std\": 1,\n        \"min\": 0,\n        \"max\": 8,\n        \"num_unique_values\": 7,\n        \"samples\": [\n          1,\n          0\n        ],\n        \"semantic_type\": \"\",\n        \"description\": \"\"\n      }\n    },\n    {\n      \"column\": \"Parch\",\n      \"properties\": {\n        \"dtype\": \"number\",\n        \"std\": 0,\n        \"min\": 0,\n        \"max\": 6,\n        \"num_unique_values\": 7,\n        \"samples\": [\n          0,\n          1\n        ],\n        \"semantic_type\": \"\",\n        \"description\": \"\"\n      }\n    },\n    {\n      \"column\": \"Ticket\",\n      \"properties\": {\n        \"dtype\": \"string\",\n        \"num_unique_values\": 681,\n        \"samples\": [\n          \"11774\",\n          \"248740\"\n        ],\n        \"semantic_type\": \"\",\n        \"description\": \"\"\n      }\n    },\n    {\n      \"column\": \"Fare\",\n      \"properties\": {\n        \"dtype\": \"number\",\n        \"std\": 49.6934285971809,\n        \"min\": 0.0,\n        \"max\": 512.3292,\n        \"num_unique_values\": 248,\n        \"samples\": [\n          11.2417,\n          51.8625\n        ],\n        \"semantic_type\": \"\",\n        \"description\": \"\"\n      }\n    },\n    {\n      \"column\": \"Cabin\",\n      \"properties\": {\n        \"dtype\": \"category\",\n        \"num_unique_values\": 147,\n        \"samples\": [\n          \"D45\",\n          \"B49\"\n        ],\n        \"semantic_type\": \"\",\n        \"description\": \"\"\n      }\n    },\n    {\n      \"column\": \"Embarked\",\n      \"properties\": {\n        \"dtype\": \"category\",\n        \"num_unique_values\": 3,\n        \"samples\": [\n          \"S\",\n          \"C\"\n        ],\n        \"semantic_type\": \"\",\n        \"description\": \"\"\n      }\n    }\n  ]\n}"
            }
          },
          "metadata": {},
          "execution_count": 6
        }
      ]
    },
    {
      "cell_type": "markdown",
      "source": [
        "Observamos que los datos representan un listado de los pasajeros del Titanic, incluyendo su nombre, información de su pasaje y si sobrevivieron o fallecieron en la trajedia.\n",
        "- Hay 12 columnas\n",
        "- Hay 3 columnas que le faltan datos: Age, Cabin & Embarked"
      ],
      "metadata": {
        "id": "JMtvvE6iV65t"
      }
    },
    {
      "cell_type": "markdown",
      "source": [
        "### Archivo de Prueba"
      ],
      "metadata": {
        "id": "UkL_DCM9dmhT"
      }
    },
    {
      "cell_type": "code",
      "source": [
        "# Abrir archivo de prueba\n",
        "test_data = pd.read_csv('test.csv')\n",
        "\n",
        "# Desplegar información superficial\n",
        "test_data.info()"
      ],
      "metadata": {
        "colab": {
          "base_uri": "https://localhost:8080/"
        },
        "id": "cpsTZx50dsdr",
        "outputId": "d1c47d51-18ee-4054-8fe1-e721f65a6c05"
      },
      "execution_count": null,
      "outputs": [
        {
          "output_type": "stream",
          "name": "stdout",
          "text": [
            "<class 'pandas.core.frame.DataFrame'>\n",
            "RangeIndex: 418 entries, 0 to 417\n",
            "Data columns (total 11 columns):\n",
            " #   Column       Non-Null Count  Dtype  \n",
            "---  ------       --------------  -----  \n",
            " 0   PassengerId  418 non-null    int64  \n",
            " 1   Pclass       418 non-null    int64  \n",
            " 2   Name         418 non-null    object \n",
            " 3   Sex          418 non-null    object \n",
            " 4   Age          332 non-null    float64\n",
            " 5   SibSp        418 non-null    int64  \n",
            " 6   Parch        418 non-null    int64  \n",
            " 7   Ticket       418 non-null    object \n",
            " 8   Fare         417 non-null    float64\n",
            " 9   Cabin        91 non-null     object \n",
            " 10  Embarked     418 non-null    object \n",
            "dtypes: float64(2), int64(4), object(5)\n",
            "memory usage: 36.0+ KB\n"
          ]
        }
      ]
    },
    {
      "cell_type": "code",
      "source": [
        "# Desplegar primeros datos\n",
        "test_data.head()"
      ],
      "metadata": {
        "colab": {
          "base_uri": "https://localhost:8080/",
          "height": 204
        },
        "id": "fq3I1GpJd4WK",
        "outputId": "dd17157d-f709-4aff-c3ce-b705793e0228"
      },
      "execution_count": null,
      "outputs": [
        {
          "output_type": "execute_result",
          "data": {
            "text/plain": [
              "   PassengerId  Pclass                                          Name     Sex  \\\n",
              "0          892       3                              Kelly, Mr. James    male   \n",
              "1          893       3              Wilkes, Mrs. James (Ellen Needs)  female   \n",
              "2          894       2                     Myles, Mr. Thomas Francis    male   \n",
              "3          895       3                              Wirz, Mr. Albert    male   \n",
              "4          896       3  Hirvonen, Mrs. Alexander (Helga E Lindqvist)  female   \n",
              "\n",
              "    Age  SibSp  Parch   Ticket     Fare Cabin Embarked  \n",
              "0  34.5      0      0   330911   7.8292   NaN        Q  \n",
              "1  47.0      1      0   363272   7.0000   NaN        S  \n",
              "2  62.0      0      0   240276   9.6875   NaN        Q  \n",
              "3  27.0      0      0   315154   8.6625   NaN        S  \n",
              "4  22.0      1      1  3101298  12.2875   NaN        S  "
            ],
            "text/html": [
              "\n",
              "  <div id=\"df-a631210f-a8a8-4e04-aee5-faf482548ae9\" class=\"colab-df-container\">\n",
              "    <div>\n",
              "<style scoped>\n",
              "    .dataframe tbody tr th:only-of-type {\n",
              "        vertical-align: middle;\n",
              "    }\n",
              "\n",
              "    .dataframe tbody tr th {\n",
              "        vertical-align: top;\n",
              "    }\n",
              "\n",
              "    .dataframe thead th {\n",
              "        text-align: right;\n",
              "    }\n",
              "</style>\n",
              "<table border=\"1\" class=\"dataframe\">\n",
              "  <thead>\n",
              "    <tr style=\"text-align: right;\">\n",
              "      <th></th>\n",
              "      <th>PassengerId</th>\n",
              "      <th>Pclass</th>\n",
              "      <th>Name</th>\n",
              "      <th>Sex</th>\n",
              "      <th>Age</th>\n",
              "      <th>SibSp</th>\n",
              "      <th>Parch</th>\n",
              "      <th>Ticket</th>\n",
              "      <th>Fare</th>\n",
              "      <th>Cabin</th>\n",
              "      <th>Embarked</th>\n",
              "    </tr>\n",
              "  </thead>\n",
              "  <tbody>\n",
              "    <tr>\n",
              "      <th>0</th>\n",
              "      <td>892</td>\n",
              "      <td>3</td>\n",
              "      <td>Kelly, Mr. James</td>\n",
              "      <td>male</td>\n",
              "      <td>34.5</td>\n",
              "      <td>0</td>\n",
              "      <td>0</td>\n",
              "      <td>330911</td>\n",
              "      <td>7.8292</td>\n",
              "      <td>NaN</td>\n",
              "      <td>Q</td>\n",
              "    </tr>\n",
              "    <tr>\n",
              "      <th>1</th>\n",
              "      <td>893</td>\n",
              "      <td>3</td>\n",
              "      <td>Wilkes, Mrs. James (Ellen Needs)</td>\n",
              "      <td>female</td>\n",
              "      <td>47.0</td>\n",
              "      <td>1</td>\n",
              "      <td>0</td>\n",
              "      <td>363272</td>\n",
              "      <td>7.0000</td>\n",
              "      <td>NaN</td>\n",
              "      <td>S</td>\n",
              "    </tr>\n",
              "    <tr>\n",
              "      <th>2</th>\n",
              "      <td>894</td>\n",
              "      <td>2</td>\n",
              "      <td>Myles, Mr. Thomas Francis</td>\n",
              "      <td>male</td>\n",
              "      <td>62.0</td>\n",
              "      <td>0</td>\n",
              "      <td>0</td>\n",
              "      <td>240276</td>\n",
              "      <td>9.6875</td>\n",
              "      <td>NaN</td>\n",
              "      <td>Q</td>\n",
              "    </tr>\n",
              "    <tr>\n",
              "      <th>3</th>\n",
              "      <td>895</td>\n",
              "      <td>3</td>\n",
              "      <td>Wirz, Mr. Albert</td>\n",
              "      <td>male</td>\n",
              "      <td>27.0</td>\n",
              "      <td>0</td>\n",
              "      <td>0</td>\n",
              "      <td>315154</td>\n",
              "      <td>8.6625</td>\n",
              "      <td>NaN</td>\n",
              "      <td>S</td>\n",
              "    </tr>\n",
              "    <tr>\n",
              "      <th>4</th>\n",
              "      <td>896</td>\n",
              "      <td>3</td>\n",
              "      <td>Hirvonen, Mrs. Alexander (Helga E Lindqvist)</td>\n",
              "      <td>female</td>\n",
              "      <td>22.0</td>\n",
              "      <td>1</td>\n",
              "      <td>1</td>\n",
              "      <td>3101298</td>\n",
              "      <td>12.2875</td>\n",
              "      <td>NaN</td>\n",
              "      <td>S</td>\n",
              "    </tr>\n",
              "  </tbody>\n",
              "</table>\n",
              "</div>\n",
              "    <div class=\"colab-df-buttons\">\n",
              "\n",
              "  <div class=\"colab-df-container\">\n",
              "    <button class=\"colab-df-convert\" onclick=\"convertToInteractive('df-a631210f-a8a8-4e04-aee5-faf482548ae9')\"\n",
              "            title=\"Convert this dataframe to an interactive table.\"\n",
              "            style=\"display:none;\">\n",
              "\n",
              "  <svg xmlns=\"http://www.w3.org/2000/svg\" height=\"24px\" viewBox=\"0 -960 960 960\">\n",
              "    <path d=\"M120-120v-720h720v720H120Zm60-500h600v-160H180v160Zm220 220h160v-160H400v160Zm0 220h160v-160H400v160ZM180-400h160v-160H180v160Zm440 0h160v-160H620v160ZM180-180h160v-160H180v160Zm440 0h160v-160H620v160Z\"/>\n",
              "  </svg>\n",
              "    </button>\n",
              "\n",
              "  <style>\n",
              "    .colab-df-container {\n",
              "      display:flex;\n",
              "      gap: 12px;\n",
              "    }\n",
              "\n",
              "    .colab-df-convert {\n",
              "      background-color: #E8F0FE;\n",
              "      border: none;\n",
              "      border-radius: 50%;\n",
              "      cursor: pointer;\n",
              "      display: none;\n",
              "      fill: #1967D2;\n",
              "      height: 32px;\n",
              "      padding: 0 0 0 0;\n",
              "      width: 32px;\n",
              "    }\n",
              "\n",
              "    .colab-df-convert:hover {\n",
              "      background-color: #E2EBFA;\n",
              "      box-shadow: 0px 1px 2px rgba(60, 64, 67, 0.3), 0px 1px 3px 1px rgba(60, 64, 67, 0.15);\n",
              "      fill: #174EA6;\n",
              "    }\n",
              "\n",
              "    .colab-df-buttons div {\n",
              "      margin-bottom: 4px;\n",
              "    }\n",
              "\n",
              "    [theme=dark] .colab-df-convert {\n",
              "      background-color: #3B4455;\n",
              "      fill: #D2E3FC;\n",
              "    }\n",
              "\n",
              "    [theme=dark] .colab-df-convert:hover {\n",
              "      background-color: #434B5C;\n",
              "      box-shadow: 0px 1px 3px 1px rgba(0, 0, 0, 0.15);\n",
              "      filter: drop-shadow(0px 1px 2px rgba(0, 0, 0, 0.3));\n",
              "      fill: #FFFFFF;\n",
              "    }\n",
              "  </style>\n",
              "\n",
              "    <script>\n",
              "      const buttonEl =\n",
              "        document.querySelector('#df-a631210f-a8a8-4e04-aee5-faf482548ae9 button.colab-df-convert');\n",
              "      buttonEl.style.display =\n",
              "        google.colab.kernel.accessAllowed ? 'block' : 'none';\n",
              "\n",
              "      async function convertToInteractive(key) {\n",
              "        const element = document.querySelector('#df-a631210f-a8a8-4e04-aee5-faf482548ae9');\n",
              "        const dataTable =\n",
              "          await google.colab.kernel.invokeFunction('convertToInteractive',\n",
              "                                                    [key], {});\n",
              "        if (!dataTable) return;\n",
              "\n",
              "        const docLinkHtml = 'Like what you see? Visit the ' +\n",
              "          '<a target=\"_blank\" href=https://colab.research.google.com/notebooks/data_table.ipynb>data table notebook</a>'\n",
              "          + ' to learn more about interactive tables.';\n",
              "        element.innerHTML = '';\n",
              "        dataTable['output_type'] = 'display_data';\n",
              "        await google.colab.output.renderOutput(dataTable, element);\n",
              "        const docLink = document.createElement('div');\n",
              "        docLink.innerHTML = docLinkHtml;\n",
              "        element.appendChild(docLink);\n",
              "      }\n",
              "    </script>\n",
              "  </div>\n",
              "\n",
              "\n",
              "<div id=\"df-0bd1b70f-2343-495a-93ba-7f95c5c081ba\">\n",
              "  <button class=\"colab-df-quickchart\" onclick=\"quickchart('df-0bd1b70f-2343-495a-93ba-7f95c5c081ba')\"\n",
              "            title=\"Suggest charts\"\n",
              "            style=\"display:none;\">\n",
              "\n",
              "<svg xmlns=\"http://www.w3.org/2000/svg\" height=\"24px\"viewBox=\"0 0 24 24\"\n",
              "     width=\"24px\">\n",
              "    <g>\n",
              "        <path d=\"M19 3H5c-1.1 0-2 .9-2 2v14c0 1.1.9 2 2 2h14c1.1 0 2-.9 2-2V5c0-1.1-.9-2-2-2zM9 17H7v-7h2v7zm4 0h-2V7h2v10zm4 0h-2v-4h2v4z\"/>\n",
              "    </g>\n",
              "</svg>\n",
              "  </button>\n",
              "\n",
              "<style>\n",
              "  .colab-df-quickchart {\n",
              "      --bg-color: #E8F0FE;\n",
              "      --fill-color: #1967D2;\n",
              "      --hover-bg-color: #E2EBFA;\n",
              "      --hover-fill-color: #174EA6;\n",
              "      --disabled-fill-color: #AAA;\n",
              "      --disabled-bg-color: #DDD;\n",
              "  }\n",
              "\n",
              "  [theme=dark] .colab-df-quickchart {\n",
              "      --bg-color: #3B4455;\n",
              "      --fill-color: #D2E3FC;\n",
              "      --hover-bg-color: #434B5C;\n",
              "      --hover-fill-color: #FFFFFF;\n",
              "      --disabled-bg-color: #3B4455;\n",
              "      --disabled-fill-color: #666;\n",
              "  }\n",
              "\n",
              "  .colab-df-quickchart {\n",
              "    background-color: var(--bg-color);\n",
              "    border: none;\n",
              "    border-radius: 50%;\n",
              "    cursor: pointer;\n",
              "    display: none;\n",
              "    fill: var(--fill-color);\n",
              "    height: 32px;\n",
              "    padding: 0;\n",
              "    width: 32px;\n",
              "  }\n",
              "\n",
              "  .colab-df-quickchart:hover {\n",
              "    background-color: var(--hover-bg-color);\n",
              "    box-shadow: 0 1px 2px rgba(60, 64, 67, 0.3), 0 1px 3px 1px rgba(60, 64, 67, 0.15);\n",
              "    fill: var(--button-hover-fill-color);\n",
              "  }\n",
              "\n",
              "  .colab-df-quickchart-complete:disabled,\n",
              "  .colab-df-quickchart-complete:disabled:hover {\n",
              "    background-color: var(--disabled-bg-color);\n",
              "    fill: var(--disabled-fill-color);\n",
              "    box-shadow: none;\n",
              "  }\n",
              "\n",
              "  .colab-df-spinner {\n",
              "    border: 2px solid var(--fill-color);\n",
              "    border-color: transparent;\n",
              "    border-bottom-color: var(--fill-color);\n",
              "    animation:\n",
              "      spin 1s steps(1) infinite;\n",
              "  }\n",
              "\n",
              "  @keyframes spin {\n",
              "    0% {\n",
              "      border-color: transparent;\n",
              "      border-bottom-color: var(--fill-color);\n",
              "      border-left-color: var(--fill-color);\n",
              "    }\n",
              "    20% {\n",
              "      border-color: transparent;\n",
              "      border-left-color: var(--fill-color);\n",
              "      border-top-color: var(--fill-color);\n",
              "    }\n",
              "    30% {\n",
              "      border-color: transparent;\n",
              "      border-left-color: var(--fill-color);\n",
              "      border-top-color: var(--fill-color);\n",
              "      border-right-color: var(--fill-color);\n",
              "    }\n",
              "    40% {\n",
              "      border-color: transparent;\n",
              "      border-right-color: var(--fill-color);\n",
              "      border-top-color: var(--fill-color);\n",
              "    }\n",
              "    60% {\n",
              "      border-color: transparent;\n",
              "      border-right-color: var(--fill-color);\n",
              "    }\n",
              "    80% {\n",
              "      border-color: transparent;\n",
              "      border-right-color: var(--fill-color);\n",
              "      border-bottom-color: var(--fill-color);\n",
              "    }\n",
              "    90% {\n",
              "      border-color: transparent;\n",
              "      border-bottom-color: var(--fill-color);\n",
              "    }\n",
              "  }\n",
              "</style>\n",
              "\n",
              "  <script>\n",
              "    async function quickchart(key) {\n",
              "      const quickchartButtonEl =\n",
              "        document.querySelector('#' + key + ' button');\n",
              "      quickchartButtonEl.disabled = true;  // To prevent multiple clicks.\n",
              "      quickchartButtonEl.classList.add('colab-df-spinner');\n",
              "      try {\n",
              "        const charts = await google.colab.kernel.invokeFunction(\n",
              "            'suggestCharts', [key], {});\n",
              "      } catch (error) {\n",
              "        console.error('Error during call to suggestCharts:', error);\n",
              "      }\n",
              "      quickchartButtonEl.classList.remove('colab-df-spinner');\n",
              "      quickchartButtonEl.classList.add('colab-df-quickchart-complete');\n",
              "    }\n",
              "    (() => {\n",
              "      let quickchartButtonEl =\n",
              "        document.querySelector('#df-0bd1b70f-2343-495a-93ba-7f95c5c081ba button');\n",
              "      quickchartButtonEl.style.display =\n",
              "        google.colab.kernel.accessAllowed ? 'block' : 'none';\n",
              "    })();\n",
              "  </script>\n",
              "</div>\n",
              "\n",
              "    </div>\n",
              "  </div>\n"
            ],
            "application/vnd.google.colaboratory.intrinsic+json": {
              "type": "dataframe",
              "variable_name": "test_data",
              "summary": "{\n  \"name\": \"test_data\",\n  \"rows\": 418,\n  \"fields\": [\n    {\n      \"column\": \"PassengerId\",\n      \"properties\": {\n        \"dtype\": \"number\",\n        \"std\": 120,\n        \"min\": 892,\n        \"max\": 1309,\n        \"num_unique_values\": 418,\n        \"samples\": [\n          1213,\n          1216,\n          1280\n        ],\n        \"semantic_type\": \"\",\n        \"description\": \"\"\n      }\n    },\n    {\n      \"column\": \"Pclass\",\n      \"properties\": {\n        \"dtype\": \"number\",\n        \"std\": 0,\n        \"min\": 1,\n        \"max\": 3,\n        \"num_unique_values\": 3,\n        \"samples\": [\n          3,\n          2,\n          1\n        ],\n        \"semantic_type\": \"\",\n        \"description\": \"\"\n      }\n    },\n    {\n      \"column\": \"Name\",\n      \"properties\": {\n        \"dtype\": \"string\",\n        \"num_unique_values\": 418,\n        \"samples\": [\n          \"Krekorian, Mr. Neshan\",\n          \"Kreuchen, Miss. Emilie\",\n          \"Canavan, Mr. Patrick\"\n        ],\n        \"semantic_type\": \"\",\n        \"description\": \"\"\n      }\n    },\n    {\n      \"column\": \"Sex\",\n      \"properties\": {\n        \"dtype\": \"category\",\n        \"num_unique_values\": 2,\n        \"samples\": [\n          \"female\",\n          \"male\"\n        ],\n        \"semantic_type\": \"\",\n        \"description\": \"\"\n      }\n    },\n    {\n      \"column\": \"Age\",\n      \"properties\": {\n        \"dtype\": \"number\",\n        \"std\": 14.181209235624422,\n        \"min\": 0.17,\n        \"max\": 76.0,\n        \"num_unique_values\": 79,\n        \"samples\": [\n          10.0,\n          34.5\n        ],\n        \"semantic_type\": \"\",\n        \"description\": \"\"\n      }\n    },\n    {\n      \"column\": \"SibSp\",\n      \"properties\": {\n        \"dtype\": \"number\",\n        \"std\": 0,\n        \"min\": 0,\n        \"max\": 8,\n        \"num_unique_values\": 7,\n        \"samples\": [\n          0,\n          1\n        ],\n        \"semantic_type\": \"\",\n        \"description\": \"\"\n      }\n    },\n    {\n      \"column\": \"Parch\",\n      \"properties\": {\n        \"dtype\": \"number\",\n        \"std\": 0,\n        \"min\": 0,\n        \"max\": 9,\n        \"num_unique_values\": 8,\n        \"samples\": [\n          1,\n          6\n        ],\n        \"semantic_type\": \"\",\n        \"description\": \"\"\n      }\n    },\n    {\n      \"column\": \"Ticket\",\n      \"properties\": {\n        \"dtype\": \"string\",\n        \"num_unique_values\": 363,\n        \"samples\": [\n          \"2673\",\n          \"W./C. 6607\"\n        ],\n        \"semantic_type\": \"\",\n        \"description\": \"\"\n      }\n    },\n    {\n      \"column\": \"Fare\",\n      \"properties\": {\n        \"dtype\": \"number\",\n        \"std\": 55.907576179973844,\n        \"min\": 0.0,\n        \"max\": 512.3292,\n        \"num_unique_values\": 169,\n        \"samples\": [\n          41.5792,\n          57.75\n        ],\n        \"semantic_type\": \"\",\n        \"description\": \"\"\n      }\n    },\n    {\n      \"column\": \"Cabin\",\n      \"properties\": {\n        \"dtype\": \"category\",\n        \"num_unique_values\": 76,\n        \"samples\": [\n          \"A21\",\n          \"E45\"\n        ],\n        \"semantic_type\": \"\",\n        \"description\": \"\"\n      }\n    },\n    {\n      \"column\": \"Embarked\",\n      \"properties\": {\n        \"dtype\": \"category\",\n        \"num_unique_values\": 3,\n        \"samples\": [\n          \"Q\",\n          \"S\"\n        ],\n        \"semantic_type\": \"\",\n        \"description\": \"\"\n      }\n    }\n  ]\n}"
            }
          },
          "metadata": {},
          "execution_count": 6
        }
      ]
    },
    {
      "cell_type": "markdown",
      "source": [
        "Vemos similitudes en los datos de prueba a los datos de entrenamiento.\n",
        "- Hay 11 columnas, no incluye la de Survived que es la que se va a predecir con el modelo.\n",
        "- Igualmnete hay 3 columnas que le faltan datos: Age, Cabin & Embarked."
      ],
      "metadata": {
        "id": "1bPvePIBd-KA"
      }
    },
    {
      "cell_type": "code",
      "source": [
        "# Descripción general de las columnas numéricas\n",
        "print(train_data.describe())"
      ],
      "metadata": {
        "colab": {
          "base_uri": "https://localhost:8080/"
        },
        "id": "U4kaHCNneyXj",
        "outputId": "729a20dd-efa1-48c5-8c2e-8881996b8e3d"
      },
      "execution_count": null,
      "outputs": [
        {
          "output_type": "stream",
          "name": "stdout",
          "text": [
            "       PassengerId    Survived      Pclass         Age       SibSp  \\\n",
            "count   891.000000  891.000000  891.000000  714.000000  891.000000   \n",
            "mean    446.000000    0.383838    2.308642   29.699118    0.523008   \n",
            "std     257.353842    0.486592    0.836071   14.526497    1.102743   \n",
            "min       1.000000    0.000000    1.000000    0.420000    0.000000   \n",
            "25%     223.500000    0.000000    2.000000   20.125000    0.000000   \n",
            "50%     446.000000    0.000000    3.000000   28.000000    0.000000   \n",
            "75%     668.500000    1.000000    3.000000   38.000000    1.000000   \n",
            "max     891.000000    1.000000    3.000000   80.000000    8.000000   \n",
            "\n",
            "            Parch        Fare  \n",
            "count  891.000000  891.000000  \n",
            "mean     0.381594   32.204208  \n",
            "std      0.806057   49.693429  \n",
            "min      0.000000    0.000000  \n",
            "25%      0.000000    7.910400  \n",
            "50%      0.000000   14.454200  \n",
            "75%      0.000000   31.000000  \n",
            "max      6.000000  512.329200  \n"
          ]
        }
      ]
    },
    {
      "cell_type": "code",
      "source": [
        "# Porcentaje de datos faltantes por columna\n",
        "print(round(train_data.isnull().sum().sort_values(ascending=False)/len(train_data)*100,2))"
      ],
      "metadata": {
        "colab": {
          "base_uri": "https://localhost:8080/"
        },
        "id": "hFz-smPgfL7F",
        "outputId": "36e5be1a-c815-4a40-f453-c6b98a8f37e0"
      },
      "execution_count": null,
      "outputs": [
        {
          "output_type": "stream",
          "name": "stdout",
          "text": [
            "Cabin          77.10\n",
            "Age            19.87\n",
            "Embarked        0.22\n",
            "PassengerId     0.00\n",
            "Survived        0.00\n",
            "Pclass          0.00\n",
            "Name            0.00\n",
            "Sex             0.00\n",
            "SibSp           0.00\n",
            "Parch           0.00\n",
            "Ticket          0.00\n",
            "Fare            0.00\n",
            "dtype: float64\n"
          ]
        }
      ]
    },
    {
      "cell_type": "markdown",
      "source": [
        "Considerando que más del 77% de los datos de Cabin están faltantes, no la podremos usar para el modelo ya que nos generará demasiado ruido intentar llenar esos datos faltantes.\n",
        "\n",
        "Para considerar la utilidad de las demás variables analizaremos cada una más a detalle."
      ],
      "metadata": {
        "id": "UraZRGEigA-j"
      }
    },
    {
      "cell_type": "markdown",
      "source": [
        "# Análisis de Variables"
      ],
      "metadata": {
        "id": "vU1Fu3l7mxH1"
      }
    },
    {
      "cell_type": "markdown",
      "source": [
        "## PassengerId\n"
      ],
      "metadata": {
        "id": "YxWTw47Mg4TP"
      }
    },
    {
      "cell_type": "markdown",
      "source": [
        "PassengerId es una columna de identificador primario para las tuplas, no nos servirá para el análisis."
      ],
      "metadata": {
        "id": "waKiQZ4fhDRh"
      }
    },
    {
      "cell_type": "markdown",
      "source": [
        "<h4><b>PassengerId</b></h4>\n",
        "PassengerId es una columna de identificador primario para las tuplas, no nos servirá para el análisis, más que para contar el número completo de pasajeros en la muestra."
      ],
      "metadata": {
        "id": "lbNhHtCinj9Y"
      }
    },
    {
      "cell_type": "markdown",
      "source": [
        "<h4><b>Survived</b></h4>\n",
        "Survived es la columna más importante para el análisis ya que nos indica si es que la persona falleció (0) o sobrevivió (1) lo cual es escencial para cumplir el objetivo. Es una columna de tipo entero con 2 valores binarios. No hay datos faltantes en la muestra."
      ],
      "metadata": {
        "id": "CuBvRtA9ntU0"
      }
    },
    {
      "cell_type": "code",
      "source": [
        "num_survived = train_data.groupby('Survived')['Survived'].count()[0]\n",
        "print(\"Número de Sobrevivientes:\", num_survived)\n",
        "num_deceased = train_data.groupby('Survived')['Survived'].count()[1]\n",
        "print(\"Número de Fallecidos:\", num_deceased)\n",
        "print(\"Procentaje de Supervivencia:\", round((num_survived) / (num_survived + num_deceased) * 100, 2), \"%\")\n",
        "print(\"Procentaje de Fallecimiento:\", round((num_deceased) / (num_survived + num_deceased) * 100, 2), \"%\")"
      ],
      "metadata": {
        "colab": {
          "base_uri": "https://localhost:8080/"
        },
        "id": "0nLMswEnxCpu",
        "outputId": "d657e1a9-110c-4ac5-d130-bb04aaa86ff2"
      },
      "execution_count": null,
      "outputs": [
        {
          "output_type": "stream",
          "name": "stdout",
          "text": [
            "Número de Sobrevivientes: 549\n",
            "Número de Fallecidos: 342\n",
            "Procentaje de Supervivencia: 61.62 %\n",
            "Procentaje de Fallecimiento: 38.38 %\n"
          ]
        }
      ]
    },
    {
      "cell_type": "markdown",
      "source": [
        "En la muestra, 61.6% o 549 de los pasajeros sobrevivieron, mientras que 38.4% o 342 no sobrevivieron."
      ],
      "metadata": {
        "id": "mYPqq6ipyoxS"
      }
    },
    {
      "cell_type": "markdown",
      "source": [
        "<h4><b>Pclass</b></h4>\n",
        "La variable \"Pclass\" es una variable categórica con 3 resultados.<br>\n",
        "\n",
        "1.   Pasajero de clase alta<br>\n",
        "2.   Pasajero de clase media<br>\n",
        "3.   Pasajero de clase baja<br>\n",
        "\n",
        "Es una variable con 891 datos registrados y es de tipo int64. El rango de valores va de 1 a 3."
      ],
      "metadata": {
        "id": "6EgiVXQZnv62"
      }
    },
    {
      "cell_type": "code",
      "source": [
        "sns.histplot(x = 'Pclass', hue = 'Survived', data = train_data, multiple='stack', palette='pastel')"
      ],
      "metadata": {
        "id": "QATYBvP-7W3z",
        "colab": {
          "base_uri": "https://localhost:8080/",
          "height": 466
        },
        "outputId": "9671534b-e138-4ad3-bd9e-30b5ca689fad"
      },
      "execution_count": null,
      "outputs": [
        {
          "output_type": "execute_result",
          "data": {
            "text/plain": [
              "<Axes: xlabel='Pclass', ylabel='Count'>"
            ]
          },
          "metadata": {},
          "execution_count": 11
        },
        {
          "output_type": "display_data",
          "data": {
            "text/plain": [
              "<Figure size 640x480 with 1 Axes>"
            ],
            "image/png": "[encoded data removed]"
          },
          "metadata": {}
        }
      ]
    },
    {
      "cell_type": "code",
      "source": [
        "train_data.groupby('Pclass')['Survived'].value_counts()"
      ],
      "metadata": {
        "id": "fA9hHl6g7qP5",
        "colab": {
          "base_uri": "https://localhost:8080/",
          "height": 300
        },
        "outputId": "99e810db-d450-43f5-89dd-9f8ddd3f5f9e"
      },
      "execution_count": null,
      "outputs": [
        {
          "output_type": "execute_result",
          "data": {
            "text/plain": [
              "Pclass  Survived\n",
              "1       1           136\n",
              "        0            80\n",
              "2       0            97\n",
              "        1            87\n",
              "3       0           372\n",
              "        1           119\n",
              "Name: count, dtype: int64"
            ],
            "text/html": [
              "<div>\n",
              "<style scoped>\n",
              "    .dataframe tbody tr th:only-of-type {\n",
              "        vertical-align: middle;\n",
              "    }\n",
              "\n",
              "    .dataframe tbody tr th {\n",
              "        vertical-align: top;\n",
              "    }\n",
              "\n",
              "    .dataframe thead th {\n",
              "        text-align: right;\n",
              "    }\n",
              "</style>\n",
              "<table border=\"1\" class=\"dataframe\">\n",
              "  <thead>\n",
              "    <tr style=\"text-align: right;\">\n",
              "      <th></th>\n",
              "      <th></th>\n",
              "      <th>count</th>\n",
              "    </tr>\n",
              "    <tr>\n",
              "      <th>Pclass</th>\n",
              "      <th>Survived</th>\n",
              "      <th></th>\n",
              "    </tr>\n",
              "  </thead>\n",
              "  <tbody>\n",
              "    <tr>\n",
              "      <th rowspan=\"2\" valign=\"top\">1</th>\n",
              "      <th>1</th>\n",
              "      <td>136</td>\n",
              "    </tr>\n",
              "    <tr>\n",
              "      <th>0</th>\n",
              "      <td>80</td>\n",
              "    </tr>\n",
              "    <tr>\n",
              "      <th rowspan=\"2\" valign=\"top\">2</th>\n",
              "      <th>0</th>\n",
              "      <td>97</td>\n",
              "    </tr>\n",
              "    <tr>\n",
              "      <th>1</th>\n",
              "      <td>87</td>\n",
              "    </tr>\n",
              "    <tr>\n",
              "      <th rowspan=\"2\" valign=\"top\">3</th>\n",
              "      <th>0</th>\n",
              "      <td>372</td>\n",
              "    </tr>\n",
              "    <tr>\n",
              "      <th>1</th>\n",
              "      <td>119</td>\n",
              "    </tr>\n",
              "  </tbody>\n",
              "</table>\n",
              "</div><br><label><b>dtype:</b> int64</label>"
            ]
          },
          "metadata": {},
          "execution_count": 12
        }
      ]
    },
    {
      "cell_type": "markdown",
      "source": [
        "Hay 216 personas en la clase 1, 184 en la clase 2 y 491 en la clase 3.\n",
        "Los supervivientes y muertos por clase son:\n",
        "\n",
        "\tClase 1: 80 bajas y 136 supervivientes (El 62.96% de los pasajeros de la clase 1 sobrevivieron)\n",
        "\tClase 2: 97 bajas y 87 supervivientes (El 47.48% de los pasajeros de la clase 2 sobrevivieron)\n",
        "\tClase 3: 372 bajas y 119 supervivientes (El 24.36% de los pasajeros de la clase 3 sobrevivieron)"
      ],
      "metadata": {
        "id": "G5tp8kmZ7ppm"
      }
    },
    {
      "cell_type": "markdown",
      "source": [
        "Con esta información podemos concluir que la probabilidad de supervivencia de acuerdo a tu clase aumenta conforme más alta sea. Las personas de clase 1 tienen casi el triple de probabilidades de sobrevivir que una pasajero de 3ra. clase."
      ],
      "metadata": {
        "id": "Id3m8u6u7_JA"
      }
    },
    {
      "cell_type": "markdown",
      "source": [
        "<h4><b>Name</b></h4>\n",
        "Name es una columna que indica el nombre del pasajero, como todos los nombres son distintos y los apellidos que se repiten son representados con sibsp o parch esta variable no nos servirá para el análisis."
      ],
      "metadata": {
        "id": "nRURVka1nyWz"
      }
    },
    {
      "cell_type": "markdown",
      "source": [
        "<h4><b>Sex</b></h4>\n"
      ],
      "metadata": {
        "id": "DwMddzYhn0W-"
      }
    },
    {
      "cell_type": "markdown",
      "source": [
        "vamos a analizar la variable sexo ya que se podría considerar que es de las variables mas importantes. Esta variable es una variable categorica nominal ya que no se considera que tenga alguna jerarquia implicita. Lo primero que necesitamos saber revisar si existen datos nulos del total de datos."
      ],
      "metadata": {
        "id": "zXw-5BrV_Hxh"
      }
    },
    {
      "cell_type": "code",
      "source": [
        "nulos_sex = train_data['Sex'].isnull().sum()\n",
        "\n",
        "# Muestra la cantidad de valores nulos\n",
        "print(f'La columna \"sex\" tiene {nulos_sex} valores nulos.')"
      ],
      "metadata": {
        "id": "8H8sew5r_LCb",
        "colab": {
          "base_uri": "https://localhost:8080/"
        },
        "outputId": "54d820e7-7758-41c3-c2a0-aeb6c5eef414"
      },
      "execution_count": null,
      "outputs": [
        {
          "output_type": "stream",
          "name": "stdout",
          "text": [
            "La columna \"sex\" tiene 0 valores nulos.\n"
          ]
        }
      ]
    },
    {
      "cell_type": "markdown",
      "source": [
        "una vez que nos aseguramos que no tiene datos nulos o la cantidad es irrelevante, vamos a ver como se distribuye la informacion, es decir cuantos hombres y cuantas mujeres hay"
      ],
      "metadata": {
        "id": "NmZFf4gR_UJU"
      }
    },
    {
      "cell_type": "code",
      "source": [
        "train_data['Sex'].value_counts()"
      ],
      "metadata": {
        "id": "GvTgKykp_WnF",
        "colab": {
          "base_uri": "https://localhost:8080/",
          "height": 176
        },
        "outputId": "8e6d6587-9fa9-4cc4-e417-db105306879b"
      },
      "execution_count": null,
      "outputs": [
        {
          "output_type": "execute_result",
          "data": {
            "text/plain": [
              "Sex\n",
              "male      577\n",
              "female    314\n",
              "Name: count, dtype: int64"
            ],
            "text/html": [
              "<div>\n",
              "<style scoped>\n",
              "    .dataframe tbody tr th:only-of-type {\n",
              "        vertical-align: middle;\n",
              "    }\n",
              "\n",
              "    .dataframe tbody tr th {\n",
              "        vertical-align: top;\n",
              "    }\n",
              "\n",
              "    .dataframe thead th {\n",
              "        text-align: right;\n",
              "    }\n",
              "</style>\n",
              "<table border=\"1\" class=\"dataframe\">\n",
              "  <thead>\n",
              "    <tr style=\"text-align: right;\">\n",
              "      <th></th>\n",
              "      <th>count</th>\n",
              "    </tr>\n",
              "    <tr>\n",
              "      <th>Sex</th>\n",
              "      <th></th>\n",
              "    </tr>\n",
              "  </thead>\n",
              "  <tbody>\n",
              "    <tr>\n",
              "      <th>male</th>\n",
              "      <td>577</td>\n",
              "    </tr>\n",
              "    <tr>\n",
              "      <th>female</th>\n",
              "      <td>314</td>\n",
              "    </tr>\n",
              "  </tbody>\n",
              "</table>\n",
              "</div><br><label><b>dtype:</b> int64</label>"
            ]
          },
          "metadata": {},
          "execution_count": 15
        }
      ]
    },
    {
      "cell_type": "markdown",
      "source": [
        "podemos saber el porcentaje de supervivencia de entre hombres y mujeres, esto es posible por que groupby separa nuestro dataset en dos conjuntos de Sex, lo empata con la columna survived y obtiene el promedio al final, esto es posible gracias a que survived es una variable categorica (0 or 1), si todos sobreviven en una categoría la media es 1, si nadie sobrevive la media es 0, es un grupo sobrevivio es un valor entre 0 y 1."
      ],
      "metadata": {
        "id": "4eoznHwt_ZaA"
      }
    },
    {
      "cell_type": "code",
      "source": [
        "survived_by_sex = train_data.groupby('Sex')['Survived'].mean()\n",
        "print(survived_by_sex)"
      ],
      "metadata": {
        "id": "uSrA2NR6_b3B",
        "colab": {
          "base_uri": "https://localhost:8080/"
        },
        "outputId": "0430d176-580a-4429-edad-0137e39c3f6e"
      },
      "execution_count": null,
      "outputs": [
        {
          "output_type": "stream",
          "name": "stdout",
          "text": [
            "Sex\n",
            "female    0.742038\n",
            "male      0.188908\n",
            "Name: Survived, dtype: float64\n"
          ]
        }
      ]
    },
    {
      "cell_type": "markdown",
      "source": [
        "Ahora vamos a graficarlo"
      ],
      "metadata": {
        "id": "bX_DDC0P_fXq"
      }
    },
    {
      "cell_type": "code",
      "source": [
        "# crea un dataframe donde lo filtras por la etiqueta survived == 1\n",
        "survived = train_data[train_data['Survived'] == 1]\n",
        "\n",
        "\n",
        "# Cuenta la cantidad de hombres y mujeres que sobrevivieron\n",
        "survived_count = survived['Sex'].value_counts()\n",
        "\n",
        "# Crea una gráfica de barras\n",
        "survived_count.plot(kind='bar', color=['pink', 'blue'])\n",
        "\n",
        "# Agrega un título y etiquetas a los ejes\n",
        "plt.title('Número de Hombres y Mujeres que Sobrevivieron')\n",
        "plt.xlabel('Sexo')\n",
        "plt.ylabel('Número de Supervivientes')\n",
        "\n",
        "# Muestra la gráfica"
      ],
      "metadata": {
        "id": "Dl2dlxnZ_hn3",
        "colab": {
          "base_uri": "https://localhost:8080/",
          "height": 523
        },
        "outputId": "73f084fa-b19d-43e3-cd86-7ee2584e5290"
      },
      "execution_count": null,
      "outputs": [
        {
          "output_type": "execute_result",
          "data": {
            "text/plain": [
              "Text(0, 0.5, 'Número de Supervivientes')"
            ]
          },
          "metadata": {},
          "execution_count": 17
        },
        {
          "output_type": "display_data",
          "data": {
            "text/plain": [
              "<Figure size 640x480 with 1 Axes>"
            ],
            "image/png": "[encoded data removed]"
          },
          "metadata": {}
        }
      ]
    },
    {
      "cell_type": "markdown",
      "source": [
        "Podemos observar en la grafica y en analisis de la media que la mayoría de las mujeres sobrevivieron a comparación de los hombres, por lo que es sensato suponer que existe una correlación entre la variable sexo y supervivencia. Vamos a comprobarlo"
      ],
      "metadata": {
        "id": "7HnQ3WIs_mxu"
      }
    },
    {
      "cell_type": "code",
      "source": [
        "train_data['Sex_num'] = train_data['Sex'].map({'male': 0, 'female': 1})\n",
        "correlation = train_data['Sex_num'].corr(train_data['Survived'])\n",
        "print(f\"Correlación entre Sex y Survived: {correlation}\")"
      ],
      "metadata": {
        "id": "W9QhMEbA_qwa",
        "colab": {
          "base_uri": "https://localhost:8080/"
        },
        "outputId": "8d6a0bc2-8187-48cc-ee9b-7f2911ef6196"
      },
      "execution_count": null,
      "outputs": [
        {
          "output_type": "stream",
          "name": "stdout",
          "text": [
            "Correlación entre Sex y Survived: 0.5433513806577555\n"
          ]
        }
      ]
    },
    {
      "cell_type": "markdown",
      "source": [
        "<h4><b>Age</b></h4>\n",
        "Age es una variable que indica la edad en años del pasajero. Es una variable de tipo flotante donde, si se estima la edad, está en la forma xx.5. Aproximadamente 20% de los datos están faltantes. Como es una variable continua se manejarán rango de edades para nuestro eje horizontal.\n"
      ],
      "metadata": {
        "id": "yh1kiYp3n6C9"
      }
    },
    {
      "cell_type": "code",
      "source": [
        "# Rango de la variable\n",
        "train_data.Age.describe()"
      ],
      "metadata": {
        "id": "LXYC-Hdv8g9F",
        "colab": {
          "base_uri": "https://localhost:8080/",
          "height": 331
        },
        "outputId": "00367a14-34cf-41e1-f947-f17c44020b28"
      },
      "execution_count": null,
      "outputs": [
        {
          "output_type": "execute_result",
          "data": {
            "text/plain": [
              "count    714.000000\n",
              "mean      29.699118\n",
              "std       14.526497\n",
              "min        0.420000\n",
              "25%       20.125000\n",
              "50%       28.000000\n",
              "75%       38.000000\n",
              "max       80.000000\n",
              "Name: Age, dtype: float64"
            ],
            "text/html": [
              "<div>\n",
              "<style scoped>\n",
              "    .dataframe tbody tr th:only-of-type {\n",
              "        vertical-align: middle;\n",
              "    }\n",
              "\n",
              "    .dataframe tbody tr th {\n",
              "        vertical-align: top;\n",
              "    }\n",
              "\n",
              "    .dataframe thead th {\n",
              "        text-align: right;\n",
              "    }\n",
              "</style>\n",
              "<table border=\"1\" class=\"dataframe\">\n",
              "  <thead>\n",
              "    <tr style=\"text-align: right;\">\n",
              "      <th></th>\n",
              "      <th>Age</th>\n",
              "    </tr>\n",
              "  </thead>\n",
              "  <tbody>\n",
              "    <tr>\n",
              "      <th>count</th>\n",
              "      <td>714.000000</td>\n",
              "    </tr>\n",
              "    <tr>\n",
              "      <th>mean</th>\n",
              "      <td>29.699118</td>\n",
              "    </tr>\n",
              "    <tr>\n",
              "      <th>std</th>\n",
              "      <td>14.526497</td>\n",
              "    </tr>\n",
              "    <tr>\n",
              "      <th>min</th>\n",
              "      <td>0.420000</td>\n",
              "    </tr>\n",
              "    <tr>\n",
              "      <th>25%</th>\n",
              "      <td>20.125000</td>\n",
              "    </tr>\n",
              "    <tr>\n",
              "      <th>50%</th>\n",
              "      <td>28.000000</td>\n",
              "    </tr>\n",
              "    <tr>\n",
              "      <th>75%</th>\n",
              "      <td>38.000000</td>\n",
              "    </tr>\n",
              "    <tr>\n",
              "      <th>max</th>\n",
              "      <td>80.000000</td>\n",
              "    </tr>\n",
              "  </tbody>\n",
              "</table>\n",
              "</div><br><label><b>dtype:</b> float64</label>"
            ]
          },
          "metadata": {},
          "execution_count": 19
        }
      ]
    },
    {
      "cell_type": "code",
      "source": [
        "# Definir rango de edad\n",
        "age = train_data.dropna(subset=['Age'])\n",
        "sns.histplot(age, x=\"Age\", hue='Survived', multiple=\"dodge\")"
      ],
      "metadata": {
        "id": "y5clnGpz9lm-",
        "colab": {
          "base_uri": "https://localhost:8080/",
          "height": 466
        },
        "outputId": "e59faa51-dafe-4330-d4f4-75645a5dcd2b"
      },
      "execution_count": null,
      "outputs": [
        {
          "output_type": "execute_result",
          "data": {
            "text/plain": [
              "<Axes: xlabel='Age', ylabel='Count'>"
            ]
          },
          "metadata": {},
          "execution_count": 20
        },
        {
          "output_type": "display_data",
          "data": {
            "text/plain": [
              "<Figure size 640x480 with 1 Axes>"
            ],
            "image/png": "[encoded data removed]"
          },
          "metadata": {}
        }
      ]
    },
    {
      "cell_type": "code",
      "source": [
        "sns.kdeplot(df, x= \"Age\", hue='Survived', fill=True, legend=True)"
      ],
      "metadata": {
        "id": "i_PGfn2rHOMT"
      },
      "execution_count": null,
      "outputs": []
    },
    {
      "cell_type": "markdown",
      "source": [
        "Mayor sobrevivencia abajo de 5?, mayor muerte en los 20s"
      ],
      "metadata": {
        "id": "pMy7ltk7NTl6"
      }
    },
    {
      "cell_type": "markdown",
      "source": [
        "<h4><b>SibSp</b></h4>\n",
        "Esta variable nos indica la cantidad de relaciones familiares que tenia una persona, en esta variable agrupa a los hermanos / esposos. Dentro del analisis es importante saber si esta variable nos puede ser de utilidad ya que podemos ver si el hecho de tener mas familiares afecta a la supervivencia de las personas. Por ejemplo, si estas personas pudieron obtener ayuda de sus familiares a la hora de huir del barco o si priorizaron las supervivencia de sus seres queridos."
      ],
      "metadata": {
        "id": "e08cF1wan-3R"
      }
    },
    {
      "cell_type": "code",
      "source": [
        "# Porcentaje de supervivencia en función de SibSp\n",
        "sibsp_survival = train_data.groupby('SibSp')['Survived'].mean() * 100\n",
        "sibsp_counts = train_data['SibSp'].value_counts().sort_index()\n",
        "\n",
        "plt.figure(figsize=(10, 5))\n",
        "sns.barplot(x=sibsp_survival.index, y=sibsp_survival.values, palette=\"viridis\", hue=sibsp_survival.index, dodge=False, legend=False)\n",
        "plt.title('Porcentaje de Supervivencia en función de la cantidad de Hermanos/Esposos (SibSp)')\n",
        "plt.xlabel('Cantidad de Hermanos/Esposos a bordo')\n",
        "plt.ylabel('Porcentaje de Supervivencia (%)')\n",
        "\n",
        "# Mostrar el número de pasajeros y el porcentaje de supervivencia por cada categoría\n",
        "for i, count in enumerate(sibsp_counts):\n",
        "    plt.text(i, sibsp_survival.iloc[i] + 1, f'{sibsp_survival.iloc[i]:.2f}%', ha='center')\n",
        "    plt.text(i, sibsp_survival.iloc[i] - 5, f'N={count}', color='white', ha='center')\n",
        "\n",
        "plt.ylim(0, 60)\n",
        "plt.show()"
      ],
      "metadata": {
        "id": "1WjQx9xNhT2i",
        "colab": {
          "base_uri": "https://localhost:8080/",
          "height": 488
        },
        "outputId": "5d1c336b-1113-43ae-fad8-52f8731e0820"
      },
      "execution_count": null,
      "outputs": [
        {
          "output_type": "display_data",
          "data": {
            "text/plain": [
              "<Figure size 1000x500 with 1 Axes>"
            ],
            "image/png": "[encoded data removed]"
          },
          "metadata": {}
        }
      ]
    },
    {
      "cell_type": "markdown",
      "source": [
        "De la siguiente tabla podemos observar que si existe un aumento en el porcentaje de supervivencia en las personas que tengan almenos 1 o mas hermanos/esposos, aunque podemos observar un decremento si la cifra sube a mas de 2."
      ],
      "metadata": {
        "id": "uP9R86-1hmWI"
      }
    },
    {
      "cell_type": "markdown",
      "source": [
        "<h4><b>Parch</b></h4>\n",
        "Esta variable es parecida a la anterior ya que mide tambien los familiares de las personas, pero esta es en base de si son hijos / padres.\n"
      ],
      "metadata": {
        "id": "QXG1i1JGoDU7"
      }
    },
    {
      "cell_type": "code",
      "source": [
        "# Porcentaje de supervivencia en función de Parch\n",
        "parch_survival = train_data.groupby('Parch')['Survived'].mean() * 100\n",
        "parch_counts = train_data['Parch'].value_counts().sort_index()\n",
        "\n",
        "plt.figure(figsize=(10, 5))\n",
        "sns.barplot(x=parch_survival.index, y=parch_survival.values, palette=\"magma\", hue=parch_survival.index, dodge=False, legend=False)\n",
        "plt.title('Porcentaje de Supervivencia en función de la cantidad de Padres/Hijos (Parch)')\n",
        "plt.xlabel('Cantidad de Padres/Hijos a bordo')\n",
        "plt.ylabel('Porcentaje de Supervivencia (%)')\n",
        "\n",
        "# Mostrar el número de pasajeros y el porcentaje de supervivencia por cada categoría\n",
        "for i, count in enumerate(parch_counts):\n",
        "    plt.text(i, parch_survival.iloc[i] + 1, f'{parch_survival.iloc[i]:.2f}%', ha='center')\n",
        "    plt.text(i, parch_survival.iloc[i] - 5, f'N={count}', color='white', ha='center')\n",
        "\n",
        "plt.ylim(0, 65)\n",
        "plt.show()"
      ],
      "metadata": {
        "id": "ezBeIOr2iRcd",
        "colab": {
          "base_uri": "https://localhost:8080/",
          "height": 488
        },
        "outputId": "cfee65e1-2a64-4f15-d018-48bf9213c7d4"
      },
      "execution_count": null,
      "outputs": [
        {
          "output_type": "display_data",
          "data": {
            "text/plain": [
              "<Figure size 1000x500 with 1 Axes>"
            ],
            "image/png": "[encoded data removed]"
          },
          "metadata": {}
        }
      ]
    },
    {
      "cell_type": "markdown",
      "source": [
        "Podemos observar que como en el anterior caso, el porcentaje de supervivientes se ve incrementada si se tiene almenos 1 o mas familiares hijos / padres, y si la cantidad llega a a ser mas numerosa de 4 en adelante la mortalidad es mas probable."
      ],
      "metadata": {
        "id": "mKWJXK3wih2r"
      }
    },
    {
      "cell_type": "markdown",
      "source": [
        "<h4><b>FamilySize</b></h4>\n",
        "Esta es una nueva variable que creamos a partir de los datos anteriores de Sibsp y Parch, esto para obtener mejores datos para saber la cantidad de integrantes de familia que tiene cada persona dentro del titanic, para esto se calculo de siguiente manera: Sibsp + Parch + 1, este ultimo uno para incluir a la persona a su familia."
      ],
      "metadata": {
        "id": "T8CTyi152bO5"
      }
    },
    {
      "cell_type": "code",
      "source": [
        "# Crear la columna FamilySize (SibSp + Parch + 1 para incluir al propio pasajero)\n",
        "train_data['FamilySize'] = train_data['SibSp'] + train_data['Parch'] + 1\n",
        "\n",
        "# Calcular el porcentaje de supervivencia para cada tamaño de familia\n",
        "family_survival = train_data.groupby('FamilySize')['Survived'].mean() * 100\n",
        "\n",
        "# Contar el número de pasajeros para cada tamaño de familia\n",
        "family_counts = train_data['FamilySize'].value_counts().sort_index()\n",
        "\n",
        "# Crear la gráfica de barras\n",
        "plt.figure(figsize=(10, 5))\n",
        "sns.barplot(x=family_survival.index, y=family_survival.values, palette=\"viridis\", hue=family_survival.index, dodge=False, legend=False)\n",
        "plt.title('Porcentaje de Supervivencia en función del Tamaño de la Familia (FamilySize)')\n",
        "plt.xlabel('Tamaño de la Familia a bordo')\n",
        "plt.ylabel('Porcentaje de Supervivencia (%)')\n",
        "\n",
        "# Mostrar el número de pasajeros y el porcentaje de supervivencia por cada categoría en las barras\n",
        "for i, count in enumerate(family_counts):\n",
        "    plt.text(i, family_survival.iloc[i] + 1, f'{family_survival.iloc[i]:.2f}%', ha='center')\n",
        "    plt.text(i, family_survival.iloc[i] - 5, f'N={count}', color='white', ha='center')\n",
        "\n",
        "plt.ylim(0, 80)\n",
        "plt.show()"
      ],
      "metadata": {
        "id": "Ud5w4_fR3MK8",
        "colab": {
          "base_uri": "https://localhost:8080/",
          "height": 488
        },
        "outputId": "fa5fc6a2-c026-4fff-8db1-3b7e22b11485"
      },
      "execution_count": null,
      "outputs": [
        {
          "output_type": "display_data",
          "data": {
            "text/plain": [
              "<Figure size 1000x500 with 1 Axes>"
            ],
            "image/png": "[encoded data removed]"
          },
          "metadata": {}
        }
      ]
    },
    {
      "cell_type": "markdown",
      "source": [
        "<h4><b>Ticket</b></h4>\n",
        "Ticket es una columna que nos indica el número de ticket del pasajero, como ya tenemos una cuenta de los pasajeros e información de su clase no nos sirve para el análisis."
      ],
      "metadata": {
        "id": "HTa_4bEjoDyf"
      }
    },
    {
      "cell_type": "markdown",
      "source": [
        "<h4><b>Fare</b></h4>\n",
        "Fare es una columna que nos indica el costo que pagó cada pasajero para subirse al Titanic, como los datos no están respaldados con equivalencias, como tal lugar o persona costaba más y como algunas tuplas están en $0.00 no nos va a servir para el análisis."
      ],
      "metadata": {
        "id": "2jAd2dgvoENb"
      }
    },
    {
      "cell_type": "markdown",
      "source": [
        "<h4><b>Cabin</b></h4>\n",
        "Cabin es una columna que nos indica el número de cabina del pasajero. Aunque este dato nos puede ayudar a ubicar geográficamente a cada pasajero en el Titanic lo cual puede influir en la tasa de mortalidad, faltan el 77% de los datos para los pasajeros. Como existe una enorme falta de información para esta columna, no sería posible realizar un modelo con un error bajo debido a la falta de datos. Con base en lo anterior, esta variable no nos será de utilidad."
      ],
      "metadata": {
        "id": "N88xKd_1oEln"
      }
    },
    {
      "cell_type": "markdown",
      "source": [
        "<h4><b>Embarked</b></h4>\n",
        "Embarked es una columna que nos indica de qué puerto embarcó cada pasajero, sin embargo, los datos no indican ninguna correlación con la tasa de mortalidad, entonces no servirá esta variable."
      ],
      "metadata": {
        "id": "IPacjJweoFJu"
      }
    },
    {
      "cell_type": "markdown",
      "source": [
        "## Predicción de supervivencia utilizando regresión lineal simple con la variable \"Sex\""
      ],
      "metadata": {
        "id": "t0uI7ffQ9VUA"
      }
    },
    {
      "cell_type": "markdown",
      "source": [
        "Primero, transformamos la columna \"Sex\" de strings a ints."
      ],
      "metadata": {
        "id": "m2JjSpNi99iP"
      }
    },
    {
      "cell_type": "code",
      "source": [
        "\n",
        "label_encoder = LabelEncoder()\n",
        "train_data['Sex'] = label_encoder.fit_transform(train_data['Sex'])"
      ],
      "metadata": {
        "id": "RZCKouXbxDmi"
      },
      "execution_count": null,
      "outputs": []
    },
    {
      "cell_type": "markdown",
      "source": [
        "A continuación, se llaman los paquetes y librerías necesarias, que en este caso se utiliza sklearn y statsmodels.\n",
        "Además, inicializamos un modelo con la variable dependiente (Survived) y la variable independiente (Sex)."
      ],
      "metadata": {
        "id": "1EX02-X_A_bH"
      }
    },
    {
      "cell_type": "code",
      "source": [
        "\n",
        "\n",
        "# División de los datos en train y test\n",
        "# ==============================================================================\n",
        "X = train_data['Sex']\n",
        "y = train_data['Survived']\n",
        "\n",
        "X_train, X_test, y_train, y_test = train_test_split(\n",
        "                                        X.values.reshape(-1,1),\n",
        "                                        y.values.reshape(-1,1),\n",
        "                                        train_size   = 0.8,\n",
        "                                        random_state = 1234,\n",
        "                                        shuffle      = True\n",
        "                                    )\n",
        "\n",
        "# Creación del modelo\n",
        "# ==============================================================================\n",
        "modelo = LinearRegression()\n",
        "modelo.fit(X = X_train.reshape(-1, 1), y = y_train)"
      ],
      "metadata": {
        "id": "86RvthZF_7nR",
        "colab": {
          "base_uri": "https://localhost:8080/",
          "height": 74
        },
        "outputId": "41446d9d-2c6c-4f84-ec40-076973d825ff"
      },
      "execution_count": null,
      "outputs": [
        {
          "output_type": "execute_result",
          "data": {
            "text/plain": [
              "LinearRegression()"
            ],
            "text/html": [
              "<style>#sk-container-id-1 {color: black;}#sk-container-id-1 pre{padding: 0;}#sk-container-id-1 div.sk-toggleable {background-color: white;}#sk-container-id-1 label.sk-toggleable__label {cursor: pointer;display: block;width: 100%;margin-bottom: 0;padding: 0.3em;box-sizing: border-box;text-align: center;}#sk-container-id-1 label.sk-toggleable__label-arrow:before {content: \"▸\";float: left;margin-right: 0.25em;color: #696969;}#sk-container-id-1 label.sk-toggleable__label-arrow:hover:before {color: black;}#sk-container-id-1 div.sk-estimator:hover label.sk-toggleable__label-arrow:before {color: black;}#sk-container-id-1 div.sk-toggleable__content {max-height: 0;max-width: 0;overflow: hidden;text-align: left;background-color: #f0f8ff;}#sk-container-id-1 div.sk-toggleable__content pre {margin: 0.2em;color: black;border-radius: 0.25em;background-color: #f0f8ff;}#sk-container-id-1 input.sk-toggleable__control:checked~div.sk-toggleable__content {max-height: 200px;max-width: 100%;overflow: auto;}#sk-container-id-1 input.sk-toggleable__control:checked~label.sk-toggleable__label-arrow:before {content: \"▾\";}#sk-container-id-1 div.sk-estimator input.sk-toggleable__control:checked~label.sk-toggleable__label {background-color: #d4ebff;}#sk-container-id-1 div.sk-label input.sk-toggleable__control:checked~label.sk-toggleable__label {background-color: #d4ebff;}#sk-container-id-1 input.sk-hidden--visually {border: 0;clip: rect(1px 1px 1px 1px);clip: rect(1px, 1px, 1px, 1px);height: 1px;margin: -1px;overflow: hidden;padding: 0;position: absolute;width: 1px;}#sk-container-id-1 div.sk-estimator {font-family: monospace;background-color: #f0f8ff;border: 1px dotted black;border-radius: 0.25em;box-sizing: border-box;margin-bottom: 0.5em;}#sk-container-id-1 div.sk-estimator:hover {background-color: #d4ebff;}#sk-container-id-1 div.sk-parallel-item::after {content: \"\";width: 100%;border-bottom: 1px solid gray;flex-grow: 1;}#sk-container-id-1 div.sk-label:hover label.sk-toggleable__label {background-color: #d4ebff;}#sk-container-id-1 div.sk-serial::before {content: \"\";position: absolute;border-left: 1px solid gray;box-sizing: border-box;top: 0;bottom: 0;left: 50%;z-index: 0;}#sk-container-id-1 div.sk-serial {display: flex;flex-direction: column;align-items: center;background-color: white;padding-right: 0.2em;padding-left: 0.2em;position: relative;}#sk-container-id-1 div.sk-item {position: relative;z-index: 1;}#sk-container-id-1 div.sk-parallel {display: flex;align-items: stretch;justify-content: center;background-color: white;position: relative;}#sk-container-id-1 div.sk-item::before, #sk-container-id-1 div.sk-parallel-item::before {content: \"\";position: absolute;border-left: 1px solid gray;box-sizing: border-box;top: 0;bottom: 0;left: 50%;z-index: -1;}#sk-container-id-1 div.sk-parallel-item {display: flex;flex-direction: column;z-index: 1;position: relative;background-color: white;}#sk-container-id-1 div.sk-parallel-item:first-child::after {align-self: flex-end;width: 50%;}#sk-container-id-1 div.sk-parallel-item:last-child::after {align-self: flex-start;width: 50%;}#sk-container-id-1 div.sk-parallel-item:only-child::after {width: 0;}#sk-container-id-1 div.sk-dashed-wrapped {border: 1px dashed gray;margin: 0 0.4em 0.5em 0.4em;box-sizing: border-box;padding-bottom: 0.4em;background-color: white;}#sk-container-id-1 div.sk-label label {font-family: monospace;font-weight: bold;display: inline-block;line-height: 1.2em;}#sk-container-id-1 div.sk-label-container {text-align: center;}#sk-container-id-1 div.sk-container {/* jupyter's `normalize.less` sets `[hidden] { display: none; }` but bootstrap.min.css set `[hidden] { display: none !important; }` so we also need the `!important` here to be able to override the default hidden behavior on the sphinx rendered scikit-learn.org. See: https://github.com/scikit-learn/scikit-learn/issues/21755 */display: inline-block !important;position: relative;}#sk-container-id-1 div.sk-text-repr-fallback {display: none;}</style><div id=\"sk-container-id-1\" class=\"sk-top-container\"><div class=\"sk-text-repr-fallback\"><pre>LinearRegression()</pre><b>In a Jupyter environment, please rerun this cell to show the HTML representation or trust the notebook. <br />On GitHub, the HTML representation is unable to render, please try loading this page with nbviewer.org.</b></div><div class=\"sk-container\" hidden><div class=\"sk-item\"><div class=\"sk-estimator sk-toggleable\"><input class=\"sk-toggleable__control sk-hidden--visually\" id=\"sk-estimator-id-1\" type=\"checkbox\" checked><label for=\"sk-estimator-id-1\" class=\"sk-toggleable__label sk-toggleable__label-arrow\">LinearRegression</label><div class=\"sk-toggleable__content\"><pre>LinearRegression()</pre></div></div></div></div></div>"
            ]
          },
          "metadata": {},
          "execution_count": 25
        }
      ]
    },
    {
      "cell_type": "markdown",
      "source": [
        "Aquí se calcula el intercepto y coeficiente de la eucación de regresión y = m*x + b. Y además, se calcula la eficiencia del modelo, que es el coeficiente R^2."
      ],
      "metadata": {
        "id": "ZK0GJAENB3Ov"
      }
    },
    {
      "cell_type": "code",
      "source": [
        "# Información del modelo\n",
        "# ==============================================================================\n",
        "print(\"Intercept:\", modelo.intercept_)\n",
        "print(\"Coeficiente:\", list(zip(X, modelo.coef_.flatten(), )))\n",
        "print(\"Coeficiente de determinación R^2:\", modelo.score(X.array.reshape(-1,1), y))"
      ],
      "metadata": {
        "id": "Eq6ByHrYAE5g",
        "colab": {
          "base_uri": "https://localhost:8080/"
        },
        "outputId": "9b208f5e-c5ae-41fe-cc56-e4489249adb9"
      },
      "execution_count": null,
      "outputs": [
        {
          "output_type": "stream",
          "name": "stdout",
          "text": [
            "Intercept: [0.72265625]\n",
            "Coeficiente: [(1, -0.5318667763157882)]\n",
            "Coeficiente de determinación R^2: 0.29466126800890324\n"
          ]
        }
      ]
    },
    {
      "cell_type": "markdown",
      "source": [
        "Ahora, tenemos el error medio cuadrático del modelo."
      ],
      "metadata": {
        "id": "blJuBPzgCHb4"
      }
    },
    {
      "cell_type": "code",
      "source": [
        "# Error de test del modelo\n",
        "# ==============================================================================\n",
        "predicciones = modelo.predict(X = X_test)\n",
        "print(predicciones[0:3,])\n",
        "\n",
        "rmse = mean_squared_error(\n",
        "        y_true  = y_test,\n",
        "        y_pred  = predicciones,\n",
        "        squared = False\n",
        "       )\n",
        "print(\"\")\n",
        "print(f\"El error (rmse) de test es: {rmse}\")"
      ],
      "metadata": {
        "id": "7B7M53NxAJTo",
        "colab": {
          "base_uri": "https://localhost:8080/"
        },
        "outputId": "e79a5160-e956-4772-8ee8-8f498f0ace05"
      },
      "execution_count": null,
      "outputs": [
        {
          "output_type": "stream",
          "name": "stdout",
          "text": [
            "[[0.72265625]\n",
            " [0.19078947]\n",
            " [0.19078947]]\n",
            "\n",
            "El error (rmse) de test es: 0.38783309923200737\n"
          ]
        }
      ]
    },
    {
      "cell_type": "markdown",
      "source": [
        "Cargamos la base de datos de prueba, la cual no tiene la columna \"Survived\""
      ],
      "metadata": {
        "id": "2XF1nWw5CLfh"
      }
    },
    {
      "cell_type": "code",
      "source": [
        "datatest = pd.read_csv('test.csv')\n",
        "datatest.head()"
      ],
      "metadata": {
        "id": "ZWRVv9udANJ9",
        "colab": {
          "base_uri": "https://localhost:8080/",
          "height": 204
        },
        "outputId": "f5237319-ad83-42a1-9221-a98dcc921859"
      },
      "execution_count": null,
      "outputs": [
        {
          "output_type": "execute_result",
          "data": {
            "text/plain": [
              "   PassengerId  Pclass                                          Name     Sex  \\\n",
              "0          892       3                              Kelly, Mr. James    male   \n",
              "1          893       3              Wilkes, Mrs. James (Ellen Needs)  female   \n",
              "2          894       2                     Myles, Mr. Thomas Francis    male   \n",
              "3          895       3                              Wirz, Mr. Albert    male   \n",
              "4          896       3  Hirvonen, Mrs. Alexander (Helga E Lindqvist)  female   \n",
              "\n",
              "    Age  SibSp  Parch   Ticket     Fare Cabin Embarked  \n",
              "0  34.5      0      0   330911   7.8292   NaN        Q  \n",
              "1  47.0      1      0   363272   7.0000   NaN        S  \n",
              "2  62.0      0      0   240276   9.6875   NaN        Q  \n",
              "3  27.0      0      0   315154   8.6625   NaN        S  \n",
              "4  22.0      1      1  3101298  12.2875   NaN        S  "
            ],
            "text/html": [
              "\n",
              "  <div id=\"df-657e2b83-30f6-413d-bc28-55d40f949310\" class=\"colab-df-container\">\n",
              "    <div>\n",
              "<style scoped>\n",
              "    .dataframe tbody tr th:only-of-type {\n",
              "        vertical-align: middle;\n",
              "    }\n",
              "\n",
              "    .dataframe tbody tr th {\n",
              "        vertical-align: top;\n",
              "    }\n",
              "\n",
              "    .dataframe thead th {\n",
              "        text-align: right;\n",
              "    }\n",
              "</style>\n",
              "<table border=\"1\" class=\"dataframe\">\n",
              "  <thead>\n",
              "    <tr style=\"text-align: right;\">\n",
              "      <th></th>\n",
              "      <th>PassengerId</th>\n",
              "      <th>Pclass</th>\n",
              "      <th>Name</th>\n",
              "      <th>Sex</th>\n",
              "      <th>Age</th>\n",
              "      <th>SibSp</th>\n",
              "      <th>Parch</th>\n",
              "      <th>Ticket</th>\n",
              "      <th>Fare</th>\n",
              "      <th>Cabin</th>\n",
              "      <th>Embarked</th>\n",
              "    </tr>\n",
              "  </thead>\n",
              "  <tbody>\n",
              "    <tr>\n",
              "      <th>0</th>\n",
              "      <td>892</td>\n",
              "      <td>3</td>\n",
              "      <td>Kelly, Mr. James</td>\n",
              "      <td>male</td>\n",
              "      <td>34.5</td>\n",
              "      <td>0</td>\n",
              "      <td>0</td>\n",
              "      <td>330911</td>\n",
              "      <td>7.8292</td>\n",
              "      <td>NaN</td>\n",
              "      <td>Q</td>\n",
              "    </tr>\n",
              "    <tr>\n",
              "      <th>1</th>\n",
              "      <td>893</td>\n",
              "      <td>3</td>\n",
              "      <td>Wilkes, Mrs. James (Ellen Needs)</td>\n",
              "      <td>female</td>\n",
              "      <td>47.0</td>\n",
              "      <td>1</td>\n",
              "      <td>0</td>\n",
              "      <td>363272</td>\n",
              "      <td>7.0000</td>\n",
              "      <td>NaN</td>\n",
              "      <td>S</td>\n",
              "    </tr>\n",
              "    <tr>\n",
              "      <th>2</th>\n",
              "      <td>894</td>\n",
              "      <td>2</td>\n",
              "      <td>Myles, Mr. Thomas Francis</td>\n",
              "      <td>male</td>\n",
              "      <td>62.0</td>\n",
              "      <td>0</td>\n",
              "      <td>0</td>\n",
              "      <td>240276</td>\n",
              "      <td>9.6875</td>\n",
              "      <td>NaN</td>\n",
              "      <td>Q</td>\n",
              "    </tr>\n",
              "    <tr>\n",
              "      <th>3</th>\n",
              "      <td>895</td>\n",
              "      <td>3</td>\n",
              "      <td>Wirz, Mr. Albert</td>\n",
              "      <td>male</td>\n",
              "      <td>27.0</td>\n",
              "      <td>0</td>\n",
              "      <td>0</td>\n",
              "      <td>315154</td>\n",
              "      <td>8.6625</td>\n",
              "      <td>NaN</td>\n",
              "      <td>S</td>\n",
              "    </tr>\n",
              "    <tr>\n",
              "      <th>4</th>\n",
              "      <td>896</td>\n",
              "      <td>3</td>\n",
              "      <td>Hirvonen, Mrs. Alexander (Helga E Lindqvist)</td>\n",
              "      <td>female</td>\n",
              "      <td>22.0</td>\n",
              "      <td>1</td>\n",
              "      <td>1</td>\n",
              "      <td>3101298</td>\n",
              "      <td>12.2875</td>\n",
              "      <td>NaN</td>\n",
              "      <td>S</td>\n",
              "    </tr>\n",
              "  </tbody>\n",
              "</table>\n",
              "</div>\n",
              "    <div class=\"colab-df-buttons\">\n",
              "\n",
              "  <div class=\"colab-df-container\">\n",
              "    <button class=\"colab-df-convert\" onclick=\"convertToInteractive('df-657e2b83-30f6-413d-bc28-55d40f949310')\"\n",
              "            title=\"Convert this dataframe to an interactive table.\"\n",
              "            style=\"display:none;\">\n",
              "\n",
              "  <svg xmlns=\"http://www.w3.org/2000/svg\" height=\"24px\" viewBox=\"0 -960 960 960\">\n",
              "    <path d=\"M120-120v-720h720v720H120Zm60-500h600v-160H180v160Zm220 220h160v-160H400v160Zm0 220h160v-160H400v160ZM180-400h160v-160H180v160Zm440 0h160v-160H620v160ZM180-180h160v-160H180v160Zm440 0h160v-160H620v160Z\"/>\n",
              "  </svg>\n",
              "    </button>\n",
              "\n",
              "  <style>\n",
              "    .colab-df-container {\n",
              "      display:flex;\n",
              "      gap: 12px;\n",
              "    }\n",
              "\n",
              "    .colab-df-convert {\n",
              "      background-color: #E8F0FE;\n",
              "      border: none;\n",
              "      border-radius: 50%;\n",
              "      cursor: pointer;\n",
              "      display: none;\n",
              "      fill: #1967D2;\n",
              "      height: 32px;\n",
              "      padding: 0 0 0 0;\n",
              "      width: 32px;\n",
              "    }\n",
              "\n",
              "    .colab-df-convert:hover {\n",
              "      background-color: #E2EBFA;\n",
              "      box-shadow: 0px 1px 2px rgba(60, 64, 67, 0.3), 0px 1px 3px 1px rgba(60, 64, 67, 0.15);\n",
              "      fill: #174EA6;\n",
              "    }\n",
              "\n",
              "    .colab-df-buttons div {\n",
              "      margin-bottom: 4px;\n",
              "    }\n",
              "\n",
              "    [theme=dark] .colab-df-convert {\n",
              "      background-color: #3B4455;\n",
              "      fill: #D2E3FC;\n",
              "    }\n",
              "\n",
              "    [theme=dark] .colab-df-convert:hover {\n",
              "      background-color: #434B5C;\n",
              "      box-shadow: 0px 1px 3px 1px rgba(0, 0, 0, 0.15);\n",
              "      filter: drop-shadow(0px 1px 2px rgba(0, 0, 0, 0.3));\n",
              "      fill: #FFFFFF;\n",
              "    }\n",
              "  </style>\n",
              "\n",
              "    <script>\n",
              "      const buttonEl =\n",
              "        document.querySelector('#df-657e2b83-30f6-413d-bc28-55d40f949310 button.colab-df-convert');\n",
              "      buttonEl.style.display =\n",
              "        google.colab.kernel.accessAllowed ? 'block' : 'none';\n",
              "\n",
              "      async function convertToInteractive(key) {\n",
              "        const element = document.querySelector('#df-657e2b83-30f6-413d-bc28-55d40f949310');\n",
              "        const dataTable =\n",
              "          await google.colab.kernel.invokeFunction('convertToInteractive',\n",
              "                                                    [key], {});\n",
              "        if (!dataTable) return;\n",
              "\n",
              "        const docLinkHtml = 'Like what you see? Visit the ' +\n",
              "          '<a target=\"_blank\" href=https://colab.research.google.com/notebooks/data_table.ipynb>data table notebook</a>'\n",
              "          + ' to learn more about interactive tables.';\n",
              "        element.innerHTML = '';\n",
              "        dataTable['output_type'] = 'display_data';\n",
              "        await google.colab.output.renderOutput(dataTable, element);\n",
              "        const docLink = document.createElement('div');\n",
              "        docLink.innerHTML = docLinkHtml;\n",
              "        element.appendChild(docLink);\n",
              "      }\n",
              "    </script>\n",
              "  </div>\n",
              "\n",
              "\n",
              "<div id=\"df-30b8f0d8-db09-4722-abed-4f2b9882a0eb\">\n",
              "  <button class=\"colab-df-quickchart\" onclick=\"quickchart('df-30b8f0d8-db09-4722-abed-4f2b9882a0eb')\"\n",
              "            title=\"Suggest charts\"\n",
              "            style=\"display:none;\">\n",
              "\n",
              "<svg xmlns=\"http://www.w3.org/2000/svg\" height=\"24px\"viewBox=\"0 0 24 24\"\n",
              "     width=\"24px\">\n",
              "    <g>\n",
              "        <path d=\"M19 3H5c-1.1 0-2 .9-2 2v14c0 1.1.9 2 2 2h14c1.1 0 2-.9 2-2V5c0-1.1-.9-2-2-2zM9 17H7v-7h2v7zm4 0h-2V7h2v10zm4 0h-2v-4h2v4z\"/>\n",
              "    </g>\n",
              "</svg>\n",
              "  </button>\n",
              "\n",
              "<style>\n",
              "  .colab-df-quickchart {\n",
              "      --bg-color: #E8F0FE;\n",
              "      --fill-color: #1967D2;\n",
              "      --hover-bg-color: #E2EBFA;\n",
              "      --hover-fill-color: #174EA6;\n",
              "      --disabled-fill-color: #AAA;\n",
              "      --disabled-bg-color: #DDD;\n",
              "  }\n",
              "\n",
              "  [theme=dark] .colab-df-quickchart {\n",
              "      --bg-color: #3B4455;\n",
              "      --fill-color: #D2E3FC;\n",
              "      --hover-bg-color: #434B5C;\n",
              "      --hover-fill-color: #FFFFFF;\n",
              "      --disabled-bg-color: #3B4455;\n",
              "      --disabled-fill-color: #666;\n",
              "  }\n",
              "\n",
              "  .colab-df-quickchart {\n",
              "    background-color: var(--bg-color);\n",
              "    border: none;\n",
              "    border-radius: 50%;\n",
              "    cursor: pointer;\n",
              "    display: none;\n",
              "    fill: var(--fill-color);\n",
              "    height: 32px;\n",
              "    padding: 0;\n",
              "    width: 32px;\n",
              "  }\n",
              "\n",
              "  .colab-df-quickchart:hover {\n",
              "    background-color: var(--hover-bg-color);\n",
              "    box-shadow: 0 1px 2px rgba(60, 64, 67, 0.3), 0 1px 3px 1px rgba(60, 64, 67, 0.15);\n",
              "    fill: var(--button-hover-fill-color);\n",
              "  }\n",
              "\n",
              "  .colab-df-quickchart-complete:disabled,\n",
              "  .colab-df-quickchart-complete:disabled:hover {\n",
              "    background-color: var(--disabled-bg-color);\n",
              "    fill: var(--disabled-fill-color);\n",
              "    box-shadow: none;\n",
              "  }\n",
              "\n",
              "  .colab-df-spinner {\n",
              "    border: 2px solid var(--fill-color);\n",
              "    border-color: transparent;\n",
              "    border-bottom-color: var(--fill-color);\n",
              "    animation:\n",
              "      spin 1s steps(1) infinite;\n",
              "  }\n",
              "\n",
              "  @keyframes spin {\n",
              "    0% {\n",
              "      border-color: transparent;\n",
              "      border-bottom-color: var(--fill-color);\n",
              "      border-left-color: var(--fill-color);\n",
              "    }\n",
              "    20% {\n",
              "      border-color: transparent;\n",
              "      border-left-color: var(--fill-color);\n",
              "      border-top-color: var(--fill-color);\n",
              "    }\n",
              "    30% {\n",
              "      border-color: transparent;\n",
              "      border-left-color: var(--fill-color);\n",
              "      border-top-color: var(--fill-color);\n",
              "      border-right-color: var(--fill-color);\n",
              "    }\n",
              "    40% {\n",
              "      border-color: transparent;\n",
              "      border-right-color: var(--fill-color);\n",
              "      border-top-color: var(--fill-color);\n",
              "    }\n",
              "    60% {\n",
              "      border-color: transparent;\n",
              "      border-right-color: var(--fill-color);\n",
              "    }\n",
              "    80% {\n",
              "      border-color: transparent;\n",
              "      border-right-color: var(--fill-color);\n",
              "      border-bottom-color: var(--fill-color);\n",
              "    }\n",
              "    90% {\n",
              "      border-color: transparent;\n",
              "      border-bottom-color: var(--fill-color);\n",
              "    }\n",
              "  }\n",
              "</style>\n",
              "\n",
              "  <script>\n",
              "    async function quickchart(key) {\n",
              "      const quickchartButtonEl =\n",
              "        document.querySelector('#' + key + ' button');\n",
              "      quickchartButtonEl.disabled = true;  // To prevent multiple clicks.\n",
              "      quickchartButtonEl.classList.add('colab-df-spinner');\n",
              "      try {\n",
              "        const charts = await google.colab.kernel.invokeFunction(\n",
              "            'suggestCharts', [key], {});\n",
              "      } catch (error) {\n",
              "        console.error('Error during call to suggestCharts:', error);\n",
              "      }\n",
              "      quickchartButtonEl.classList.remove('colab-df-spinner');\n",
              "      quickchartButtonEl.classList.add('colab-df-quickchart-complete');\n",
              "    }\n",
              "    (() => {\n",
              "      let quickchartButtonEl =\n",
              "        document.querySelector('#df-30b8f0d8-db09-4722-abed-4f2b9882a0eb button');\n",
              "      quickchartButtonEl.style.display =\n",
              "        google.colab.kernel.accessAllowed ? 'block' : 'none';\n",
              "    })();\n",
              "  </script>\n",
              "</div>\n",
              "\n",
              "    </div>\n",
              "  </div>\n"
            ],
            "application/vnd.google.colaboratory.intrinsic+json": {
              "type": "dataframe",
              "variable_name": "datatest",
              "summary": "{\n  \"name\": \"datatest\",\n  \"rows\": 418,\n  \"fields\": [\n    {\n      \"column\": \"PassengerId\",\n      \"properties\": {\n        \"dtype\": \"number\",\n        \"std\": 120,\n        \"min\": 892,\n        \"max\": 1309,\n        \"num_unique_values\": 418,\n        \"samples\": [\n          1213,\n          1216,\n          1280\n        ],\n        \"semantic_type\": \"\",\n        \"description\": \"\"\n      }\n    },\n    {\n      \"column\": \"Pclass\",\n      \"properties\": {\n        \"dtype\": \"number\",\n        \"std\": 0,\n        \"min\": 1,\n        \"max\": 3,\n        \"num_unique_values\": 3,\n        \"samples\": [\n          3,\n          2,\n          1\n        ],\n        \"semantic_type\": \"\",\n        \"description\": \"\"\n      }\n    },\n    {\n      \"column\": \"Name\",\n      \"properties\": {\n        \"dtype\": \"string\",\n        \"num_unique_values\": 418,\n        \"samples\": [\n          \"Krekorian, Mr. Neshan\",\n          \"Kreuchen, Miss. Emilie\",\n          \"Canavan, Mr. Patrick\"\n        ],\n        \"semantic_type\": \"\",\n        \"description\": \"\"\n      }\n    },\n    {\n      \"column\": \"Sex\",\n      \"properties\": {\n        \"dtype\": \"category\",\n        \"num_unique_values\": 2,\n        \"samples\": [\n          \"female\",\n          \"male\"\n        ],\n        \"semantic_type\": \"\",\n        \"description\": \"\"\n      }\n    },\n    {\n      \"column\": \"Age\",\n      \"properties\": {\n        \"dtype\": \"number\",\n        \"std\": 14.181209235624422,\n        \"min\": 0.17,\n        \"max\": 76.0,\n        \"num_unique_values\": 79,\n        \"samples\": [\n          10.0,\n          34.5\n        ],\n        \"semantic_type\": \"\",\n        \"description\": \"\"\n      }\n    },\n    {\n      \"column\": \"SibSp\",\n      \"properties\": {\n        \"dtype\": \"number\",\n        \"std\": 0,\n        \"min\": 0,\n        \"max\": 8,\n        \"num_unique_values\": 7,\n        \"samples\": [\n          0,\n          1\n        ],\n        \"semantic_type\": \"\",\n        \"description\": \"\"\n      }\n    },\n    {\n      \"column\": \"Parch\",\n      \"properties\": {\n        \"dtype\": \"number\",\n        \"std\": 0,\n        \"min\": 0,\n        \"max\": 9,\n        \"num_unique_values\": 8,\n        \"samples\": [\n          1,\n          6\n        ],\n        \"semantic_type\": \"\",\n        \"description\": \"\"\n      }\n    },\n    {\n      \"column\": \"Ticket\",\n      \"properties\": {\n        \"dtype\": \"string\",\n        \"num_unique_values\": 363,\n        \"samples\": [\n          \"2673\",\n          \"W./C. 6607\"\n        ],\n        \"semantic_type\": \"\",\n        \"description\": \"\"\n      }\n    },\n    {\n      \"column\": \"Fare\",\n      \"properties\": {\n        \"dtype\": \"number\",\n        \"std\": 55.907576179973844,\n        \"min\": 0.0,\n        \"max\": 512.3292,\n        \"num_unique_values\": 169,\n        \"samples\": [\n          41.5792,\n          57.75\n        ],\n        \"semantic_type\": \"\",\n        \"description\": \"\"\n      }\n    },\n    {\n      \"column\": \"Cabin\",\n      \"properties\": {\n        \"dtype\": \"category\",\n        \"num_unique_values\": 76,\n        \"samples\": [\n          \"A21\",\n          \"E45\"\n        ],\n        \"semantic_type\": \"\",\n        \"description\": \"\"\n      }\n    },\n    {\n      \"column\": \"Embarked\",\n      \"properties\": {\n        \"dtype\": \"category\",\n        \"num_unique_values\": 3,\n        \"samples\": [\n          \"Q\",\n          \"S\"\n        ],\n        \"semantic_type\": \"\",\n        \"description\": \"\"\n      }\n    }\n  ]\n}"
            }
          },
          "metadata": {},
          "execution_count": 46
        }
      ]
    },
    {
      "cell_type": "markdown",
      "source": [
        "Mediante el modelo entrenado y los datos de la base de datos \"test\", obtenemos las predicciones sobre los nuevos pasajeros."
      ],
      "metadata": {
        "id": "lK9GMNhRCRYj"
      }
    },
    {
      "cell_type": "code",
      "source": [
        "# Predicciones con intervalo de confianza del 95%\n",
        "# ==============================================================================\n",
        "label_encoder = LabelEncoder()\n",
        "datatest['Sex'] = label_encoder.fit_transform(datatest['Sex'])\n",
        "predicciones = np.round(modelo.predict(datatest['Sex'].array.reshape(-1,1)),0)"
      ],
      "metadata": {
        "id": "LvXzTdxlATed"
      },
      "execution_count": null,
      "outputs": []
    },
    {
      "cell_type": "markdown",
      "source": [
        "Aquí se crea el DataFrame con el PassengerId de los nuevos pasajeros y la predicción de si sobrevivieron o no."
      ],
      "metadata": {
        "id": "AV2WXfwwDXlk"
      }
    },
    {
      "cell_type": "code",
      "source": [
        "datanew = pd.DataFrame(index=range(418))\n",
        "datanew['PassengerId'] = datatest['PassengerId']\n",
        "datanew['Survived'] = predicciones\n",
        "datanew.head()"
      ],
      "metadata": {
        "id": "u6MymrUNAcKS",
        "colab": {
          "base_uri": "https://localhost:8080/",
          "height": 204
        },
        "outputId": "6f7d32f3-3e85-4e3e-f154-b335763fc0cb"
      },
      "execution_count": null,
      "outputs": [
        {
          "output_type": "execute_result",
          "data": {
            "text/plain": [
              "   PassengerId  Survived\n",
              "0          892       0.0\n",
              "1          893       1.0\n",
              "2          894       0.0\n",
              "3          895       0.0\n",
              "4          896       1.0"
            ],
            "text/html": [
              "\n",
              "  <div id=\"df-da8c53a2-9f01-4918-9945-ce320242290d\" class=\"colab-df-container\">\n",
              "    <div>\n",
              "<style scoped>\n",
              "    .dataframe tbody tr th:only-of-type {\n",
              "        vertical-align: middle;\n",
              "    }\n",
              "\n",
              "    .dataframe tbody tr th {\n",
              "        vertical-align: top;\n",
              "    }\n",
              "\n",
              "    .dataframe thead th {\n",
              "        text-align: right;\n",
              "    }\n",
              "</style>\n",
              "<table border=\"1\" class=\"dataframe\">\n",
              "  <thead>\n",
              "    <tr style=\"text-align: right;\">\n",
              "      <th></th>\n",
              "      <th>PassengerId</th>\n",
              "      <th>Survived</th>\n",
              "    </tr>\n",
              "  </thead>\n",
              "  <tbody>\n",
              "    <tr>\n",
              "      <th>0</th>\n",
              "      <td>892</td>\n",
              "      <td>0.0</td>\n",
              "    </tr>\n",
              "    <tr>\n",
              "      <th>1</th>\n",
              "      <td>893</td>\n",
              "      <td>1.0</td>\n",
              "    </tr>\n",
              "    <tr>\n",
              "      <th>2</th>\n",
              "      <td>894</td>\n",
              "      <td>0.0</td>\n",
              "    </tr>\n",
              "    <tr>\n",
              "      <th>3</th>\n",
              "      <td>895</td>\n",
              "      <td>0.0</td>\n",
              "    </tr>\n",
              "    <tr>\n",
              "      <th>4</th>\n",
              "      <td>896</td>\n",
              "      <td>1.0</td>\n",
              "    </tr>\n",
              "  </tbody>\n",
              "</table>\n",
              "</div>\n",
              "    <div class=\"colab-df-buttons\">\n",
              "\n",
              "  <div class=\"colab-df-container\">\n",
              "    <button class=\"colab-df-convert\" onclick=\"convertToInteractive('df-da8c53a2-9f01-4918-9945-ce320242290d')\"\n",
              "            title=\"Convert this dataframe to an interactive table.\"\n",
              "            style=\"display:none;\">\n",
              "\n",
              "  <svg xmlns=\"http://www.w3.org/2000/svg\" height=\"24px\" viewBox=\"0 -960 960 960\">\n",
              "    <path d=\"M120-120v-720h720v720H120Zm60-500h600v-160H180v160Zm220 220h160v-160H400v160Zm0 220h160v-160H400v160ZM180-400h160v-160H180v160Zm440 0h160v-160H620v160ZM180-180h160v-160H180v160Zm440 0h160v-160H620v160Z\"/>\n",
              "  </svg>\n",
              "    </button>\n",
              "\n",
              "  <style>\n",
              "    .colab-df-container {\n",
              "      display:flex;\n",
              "      gap: 12px;\n",
              "    }\n",
              "\n",
              "    .colab-df-convert {\n",
              "      background-color: #E8F0FE;\n",
              "      border: none;\n",
              "      border-radius: 50%;\n",
              "      cursor: pointer;\n",
              "      display: none;\n",
              "      fill: #1967D2;\n",
              "      height: 32px;\n",
              "      padding: 0 0 0 0;\n",
              "      width: 32px;\n",
              "    }\n",
              "\n",
              "    .colab-df-convert:hover {\n",
              "      background-color: #E2EBFA;\n",
              "      box-shadow: 0px 1px 2px rgba(60, 64, 67, 0.3), 0px 1px 3px 1px rgba(60, 64, 67, 0.15);\n",
              "      fill: #174EA6;\n",
              "    }\n",
              "\n",
              "    .colab-df-buttons div {\n",
              "      margin-bottom: 4px;\n",
              "    }\n",
              "\n",
              "    [theme=dark] .colab-df-convert {\n",
              "      background-color: #3B4455;\n",
              "      fill: #D2E3FC;\n",
              "    }\n",
              "\n",
              "    [theme=dark] .colab-df-convert:hover {\n",
              "      background-color: #434B5C;\n",
              "      box-shadow: 0px 1px 3px 1px rgba(0, 0, 0, 0.15);\n",
              "      filter: drop-shadow(0px 1px 2px rgba(0, 0, 0, 0.3));\n",
              "      fill: #FFFFFF;\n",
              "    }\n",
              "  </style>\n",
              "\n",
              "    <script>\n",
              "      const buttonEl =\n",
              "        document.querySelector('#df-da8c53a2-9f01-4918-9945-ce320242290d button.colab-df-convert');\n",
              "      buttonEl.style.display =\n",
              "        google.colab.kernel.accessAllowed ? 'block' : 'none';\n",
              "\n",
              "      async function convertToInteractive(key) {\n",
              "        const element = document.querySelector('#df-da8c53a2-9f01-4918-9945-ce320242290d');\n",
              "        const dataTable =\n",
              "          await google.colab.kernel.invokeFunction('convertToInteractive',\n",
              "                                                    [key], {});\n",
              "        if (!dataTable) return;\n",
              "\n",
              "        const docLinkHtml = 'Like what you see? Visit the ' +\n",
              "          '<a target=\"_blank\" href=https://colab.research.google.com/notebooks/data_table.ipynb>data table notebook</a>'\n",
              "          + ' to learn more about interactive tables.';\n",
              "        element.innerHTML = '';\n",
              "        dataTable['output_type'] = 'display_data';\n",
              "        await google.colab.output.renderOutput(dataTable, element);\n",
              "        const docLink = document.createElement('div');\n",
              "        docLink.innerHTML = docLinkHtml;\n",
              "        element.appendChild(docLink);\n",
              "      }\n",
              "    </script>\n",
              "  </div>\n",
              "\n",
              "\n",
              "<div id=\"df-ee94c629-56ca-4e0d-903f-643de04351a2\">\n",
              "  <button class=\"colab-df-quickchart\" onclick=\"quickchart('df-ee94c629-56ca-4e0d-903f-643de04351a2')\"\n",
              "            title=\"Suggest charts\"\n",
              "            style=\"display:none;\">\n",
              "\n",
              "<svg xmlns=\"http://www.w3.org/2000/svg\" height=\"24px\"viewBox=\"0 0 24 24\"\n",
              "     width=\"24px\">\n",
              "    <g>\n",
              "        <path d=\"M19 3H5c-1.1 0-2 .9-2 2v14c0 1.1.9 2 2 2h14c1.1 0 2-.9 2-2V5c0-1.1-.9-2-2-2zM9 17H7v-7h2v7zm4 0h-2V7h2v10zm4 0h-2v-4h2v4z\"/>\n",
              "    </g>\n",
              "</svg>\n",
              "  </button>\n",
              "\n",
              "<style>\n",
              "  .colab-df-quickchart {\n",
              "      --bg-color: #E8F0FE;\n",
              "      --fill-color: #1967D2;\n",
              "      --hover-bg-color: #E2EBFA;\n",
              "      --hover-fill-color: #174EA6;\n",
              "      --disabled-fill-color: #AAA;\n",
              "      --disabled-bg-color: #DDD;\n",
              "  }\n",
              "\n",
              "  [theme=dark] .colab-df-quickchart {\n",
              "      --bg-color: #3B4455;\n",
              "      --fill-color: #D2E3FC;\n",
              "      --hover-bg-color: #434B5C;\n",
              "      --hover-fill-color: #FFFFFF;\n",
              "      --disabled-bg-color: #3B4455;\n",
              "      --disabled-fill-color: #666;\n",
              "  }\n",
              "\n",
              "  .colab-df-quickchart {\n",
              "    background-color: var(--bg-color);\n",
              "    border: none;\n",
              "    border-radius: 50%;\n",
              "    cursor: pointer;\n",
              "    display: none;\n",
              "    fill: var(--fill-color);\n",
              "    height: 32px;\n",
              "    padding: 0;\n",
              "    width: 32px;\n",
              "  }\n",
              "\n",
              "  .colab-df-quickchart:hover {\n",
              "    background-color: var(--hover-bg-color);\n",
              "    box-shadow: 0 1px 2px rgba(60, 64, 67, 0.3), 0 1px 3px 1px rgba(60, 64, 67, 0.15);\n",
              "    fill: var(--button-hover-fill-color);\n",
              "  }\n",
              "\n",
              "  .colab-df-quickchart-complete:disabled,\n",
              "  .colab-df-quickchart-complete:disabled:hover {\n",
              "    background-color: var(--disabled-bg-color);\n",
              "    fill: var(--disabled-fill-color);\n",
              "    box-shadow: none;\n",
              "  }\n",
              "\n",
              "  .colab-df-spinner {\n",
              "    border: 2px solid var(--fill-color);\n",
              "    border-color: transparent;\n",
              "    border-bottom-color: var(--fill-color);\n",
              "    animation:\n",
              "      spin 1s steps(1) infinite;\n",
              "  }\n",
              "\n",
              "  @keyframes spin {\n",
              "    0% {\n",
              "      border-color: transparent;\n",
              "      border-bottom-color: var(--fill-color);\n",
              "      border-left-color: var(--fill-color);\n",
              "    }\n",
              "    20% {\n",
              "      border-color: transparent;\n",
              "      border-left-color: var(--fill-color);\n",
              "      border-top-color: var(--fill-color);\n",
              "    }\n",
              "    30% {\n",
              "      border-color: transparent;\n",
              "      border-left-color: var(--fill-color);\n",
              "      border-top-color: var(--fill-color);\n",
              "      border-right-color: var(--fill-color);\n",
              "    }\n",
              "    40% {\n",
              "      border-color: transparent;\n",
              "      border-right-color: var(--fill-color);\n",
              "      border-top-color: var(--fill-color);\n",
              "    }\n",
              "    60% {\n",
              "      border-color: transparent;\n",
              "      border-right-color: var(--fill-color);\n",
              "    }\n",
              "    80% {\n",
              "      border-color: transparent;\n",
              "      border-right-color: var(--fill-color);\n",
              "      border-bottom-color: var(--fill-color);\n",
              "    }\n",
              "    90% {\n",
              "      border-color: transparent;\n",
              "      border-bottom-color: var(--fill-color);\n",
              "    }\n",
              "  }\n",
              "</style>\n",
              "\n",
              "  <script>\n",
              "    async function quickchart(key) {\n",
              "      const quickchartButtonEl =\n",
              "        document.querySelector('#' + key + ' button');\n",
              "      quickchartButtonEl.disabled = true;  // To prevent multiple clicks.\n",
              "      quickchartButtonEl.classList.add('colab-df-spinner');\n",
              "      try {\n",
              "        const charts = await google.colab.kernel.invokeFunction(\n",
              "            'suggestCharts', [key], {});\n",
              "      } catch (error) {\n",
              "        console.error('Error during call to suggestCharts:', error);\n",
              "      }\n",
              "      quickchartButtonEl.classList.remove('colab-df-spinner');\n",
              "      quickchartButtonEl.classList.add('colab-df-quickchart-complete');\n",
              "    }\n",
              "    (() => {\n",
              "      let quickchartButtonEl =\n",
              "        document.querySelector('#df-ee94c629-56ca-4e0d-903f-643de04351a2 button');\n",
              "      quickchartButtonEl.style.display =\n",
              "        google.colab.kernel.accessAllowed ? 'block' : 'none';\n",
              "    })();\n",
              "  </script>\n",
              "</div>\n",
              "\n",
              "    </div>\n",
              "  </div>\n"
            ],
            "application/vnd.google.colaboratory.intrinsic+json": {
              "type": "dataframe",
              "variable_name": "datanew",
              "summary": "{\n  \"name\": \"datanew\",\n  \"rows\": 418,\n  \"fields\": [\n    {\n      \"column\": \"PassengerId\",\n      \"properties\": {\n        \"dtype\": \"number\",\n        \"std\": 120,\n        \"min\": 892,\n        \"max\": 1309,\n        \"num_unique_values\": 418,\n        \"samples\": [\n          1213,\n          1216,\n          1280\n        ],\n        \"semantic_type\": \"\",\n        \"description\": \"\"\n      }\n    },\n    {\n      \"column\": \"Survived\",\n      \"properties\": {\n        \"dtype\": \"number\",\n        \"std\": 0.4816221409322309,\n        \"min\": 0.0,\n        \"max\": 1.0,\n        \"num_unique_values\": 2,\n        \"samples\": [\n          1.0,\n          0.0\n        ],\n        \"semantic_type\": \"\",\n        \"description\": \"\"\n      }\n    }\n  ]\n}"
            }
          },
          "metadata": {},
          "execution_count": 30
        }
      ]
    },
    {
      "cell_type": "markdown",
      "source": [
        "Dada la eficiencia del modelo y la naturaleza de la regresión lineal, podemos concluir que este modelo no es el necesario ni el adecuado para la clasificación correcta de la supervivencia de los pasajeros porque es un problema de clasificación binaria, no de predicción continua. Para estos casos, modelos de clasificación como la regresión logística son más adecuados y proporcionarán mejores resultados."
      ],
      "metadata": {
        "id": "DbYMc4e7Dm0J"
      }
    },
    {
      "cell_type": "markdown",
      "source": [
        "## Predicción con porcentajes de clases"
      ],
      "metadata": {
        "id": "PY3hDkVCEIDH"
      }
    },
    {
      "cell_type": "code",
      "source": [
        "# Crear rangos de edad\n",
        "# https://www.researchgate.net/figure/Age-intervals-and-age-groups_tbl1_228404297#:~:text=Meanwhile%2C%20it%20is%20worth%20noting,)%20and%20old%20(60%20%2B).\n",
        "# Bebé: 0-1 años\n",
        "# Niño pequeño: 2-4 años\n",
        "# Niño: 5-12 años\n",
        "# Adolescente: 13-17 años\n",
        "# Joven Adulto: 18-24 años\n",
        "# Adulto: 25-34 años\n",
        "# Mediana Edad: 35-54 años\n",
        "# Mayor: 55-64 años\n",
        "# Anciano: 65+ años\n",
        "\n",
        "# Separar rangos de edad\n",
        "train_data['AgeGroup'] = pd.cut(train_data['Age'], bins=[0, 1, 4, 12, 17, 24, 34, 54, 64, 100], labels=['Bebé', 'Niño pequeño', 'Niño', 'Adolescente', 'Joven Adulto', 'Adulto', 'Mediana Edad', 'Mayor', 'Anciano'])\n",
        "\n",
        "# Calcular probabilidades de supervivencia por género, clase y grupo de edad comparando sobrevivientes/fallecidos/Total\n",
        "probabilidades_sobrevivencia = (\n",
        "    train_data.groupby(['Sex', 'Pclass', 'AgeGroup'])['Survived']\n",
        "    .agg(lambda x: x.sum() / len(x) if len(x) > 0 else 0)\n",
        "    .to_dict()\n",
        ")\n",
        "\n",
        "# Definimos umbral para decidir si predecimos supervivencia o no\n",
        "umbral = 0.5\n",
        "\n",
        "# Función para convertir edad a grupo\n",
        "def convertir_edad_a_grupo(edad):\n",
        "    if edad < 0:\n",
        "        raise ValueError(\"La edad no puede ser negativa\")\n",
        "    elif edad <= 1:\n",
        "        return 'Bebé'\n",
        "    elif edad <= 4:\n",
        "        return 'Niño pequeño'\n",
        "    elif edad <= 12:\n",
        "        return 'Niño'\n",
        "    elif edad <= 17:\n",
        "        return 'Adolescente'\n",
        "    elif edad <= 24:\n",
        "        return 'Joven Adulto'\n",
        "    elif edad <= 34:\n",
        "        return 'Adulto'\n",
        "    elif edad <= 54:\n",
        "        return 'Mediana Edad'\n",
        "    elif edad <= 64:\n",
        "        return 'Mayor'\n",
        "    else:\n",
        "        return 'Anciano'\n",
        "\n",
        "# Función para predecir la supervivencia basada en género, clase y edad\n",
        "def predecir_sobrevivencia(genero, clase, edad):\n",
        "    grupo_edad = convertir_edad_a_grupo(edad)\n",
        "    probabilidad = probabilidades_sobrevivencia.get((genero, clase, grupo_edad), 0)\n",
        "    return 1 if probabilidad > umbral else 0\n",
        "\n",
        "# Probamos modelo\n",
        "dft = pd.DataFrame(pd.read_csv('test.csv'))\n",
        "dft['Survived'] = dft.apply(lambda row: predecir_sobrevivencia(row['Sex'], row['Pclass'], row['Age']), axis=1)\n",
        "dft[['PassengerId','Survived']]"
      ],
      "metadata": {
        "id": "2OVUz1snEUaV",
        "colab": {
          "base_uri": "https://localhost:8080/",
          "height": 473
        },
        "outputId": "1f4c8db8-61a9-43a9-9ffe-fd47498f7c7f"
      },
      "execution_count": null,
      "outputs": [
        {
          "output_type": "stream",
          "name": "stderr",
          "text": [
            "<ipython-input-32-8989701fbeea>:18: FutureWarning: The default of observed=False is deprecated and will be changed to True in a future version of pandas. Pass observed=False to retain current behavior or observed=True to adopt the future default and silence this warning.\n",
            "  train_data.groupby(['Sex', 'Pclass', 'AgeGroup'])['Survived']\n"
          ]
        },
        {
          "output_type": "execute_result",
          "data": {
            "text/plain": [
              "     PassengerId  Survived\n",
              "0            892         0\n",
              "1            893         0\n",
              "2            894         0\n",
              "3            895         0\n",
              "4            896         0\n",
              "..           ...       ...\n",
              "413         1305         0\n",
              "414         1306         0\n",
              "415         1307         0\n",
              "416         1308         0\n",
              "417         1309         0\n",
              "\n",
              "[418 rows x 2 columns]"
            ],
            "text/html": [
              "\n",
              "  <div id=\"df-c2d613f2-2d98-43ae-8423-2c9cfaf33cfe\" class=\"colab-df-container\">\n",
              "    <div>\n",
              "<style scoped>\n",
              "    .dataframe tbody tr th:only-of-type {\n",
              "        vertical-align: middle;\n",
              "    }\n",
              "\n",
              "    .dataframe tbody tr th {\n",
              "        vertical-align: top;\n",
              "    }\n",
              "\n",
              "    .dataframe thead th {\n",
              "        text-align: right;\n",
              "    }\n",
              "</style>\n",
              "<table border=\"1\" class=\"dataframe\">\n",
              "  <thead>\n",
              "    <tr style=\"text-align: right;\">\n",
              "      <th></th>\n",
              "      <th>PassengerId</th>\n",
              "      <th>Survived</th>\n",
              "    </tr>\n",
              "  </thead>\n",
              "  <tbody>\n",
              "    <tr>\n",
              "      <th>0</th>\n",
              "      <td>892</td>\n",
              "      <td>0</td>\n",
              "    </tr>\n",
              "    <tr>\n",
              "      <th>1</th>\n",
              "      <td>893</td>\n",
              "      <td>0</td>\n",
              "    </tr>\n",
              "    <tr>\n",
              "      <th>2</th>\n",
              "      <td>894</td>\n",
              "      <td>0</td>\n",
              "    </tr>\n",
              "    <tr>\n",
              "      <th>3</th>\n",
              "      <td>895</td>\n",
              "      <td>0</td>\n",
              "    </tr>\n",
              "    <tr>\n",
              "      <th>4</th>\n",
              "      <td>896</td>\n",
              "      <td>0</td>\n",
              "    </tr>\n",
              "    <tr>\n",
              "      <th>...</th>\n",
              "      <td>...</td>\n",
              "      <td>...</td>\n",
              "    </tr>\n",
              "    <tr>\n",
              "      <th>413</th>\n",
              "      <td>1305</td>\n",
              "      <td>0</td>\n",
              "    </tr>\n",
              "    <tr>\n",
              "      <th>414</th>\n",
              "      <td>1306</td>\n",
              "      <td>0</td>\n",
              "    </tr>\n",
              "    <tr>\n",
              "      <th>415</th>\n",
              "      <td>1307</td>\n",
              "      <td>0</td>\n",
              "    </tr>\n",
              "    <tr>\n",
              "      <th>416</th>\n",
              "      <td>1308</td>\n",
              "      <td>0</td>\n",
              "    </tr>\n",
              "    <tr>\n",
              "      <th>417</th>\n",
              "      <td>1309</td>\n",
              "      <td>0</td>\n",
              "    </tr>\n",
              "  </tbody>\n",
              "</table>\n",
              "<p>418 rows × 2 columns</p>\n",
              "</div>\n",
              "    <div class=\"colab-df-buttons\">\n",
              "\n",
              "  <div class=\"colab-df-container\">\n",
              "    <button class=\"colab-df-convert\" onclick=\"convertToInteractive('df-c2d613f2-2d98-43ae-8423-2c9cfaf33cfe')\"\n",
              "            title=\"Convert this dataframe to an interactive table.\"\n",
              "            style=\"display:none;\">\n",
              "\n",
              "  <svg xmlns=\"http://www.w3.org/2000/svg\" height=\"24px\" viewBox=\"0 -960 960 960\">\n",
              "    <path d=\"M120-120v-720h720v720H120Zm60-500h600v-160H180v160Zm220 220h160v-160H400v160Zm0 220h160v-160H400v160ZM180-400h160v-160H180v160Zm440 0h160v-160H620v160ZM180-180h160v-160H180v160Zm440 0h160v-160H620v160Z\"/>\n",
              "  </svg>\n",
              "    </button>\n",
              "\n",
              "  <style>\n",
              "    .colab-df-container {\n",
              "      display:flex;\n",
              "      gap: 12px;\n",
              "    }\n",
              "\n",
              "    .colab-df-convert {\n",
              "      background-color: #E8F0FE;\n",
              "      border: none;\n",
              "      border-radius: 50%;\n",
              "      cursor: pointer;\n",
              "      display: none;\n",
              "      fill: #1967D2;\n",
              "      height: 32px;\n",
              "      padding: 0 0 0 0;\n",
              "      width: 32px;\n",
              "    }\n",
              "\n",
              "    .colab-df-convert:hover {\n",
              "      background-color: #E2EBFA;\n",
              "      box-shadow: 0px 1px 2px rgba(60, 64, 67, 0.3), 0px 1px 3px 1px rgba(60, 64, 67, 0.15);\n",
              "      fill: #174EA6;\n",
              "    }\n",
              "\n",
              "    .colab-df-buttons div {\n",
              "      margin-bottom: 4px;\n",
              "    }\n",
              "\n",
              "    [theme=dark] .colab-df-convert {\n",
              "      background-color: #3B4455;\n",
              "      fill: #D2E3FC;\n",
              "    }\n",
              "\n",
              "    [theme=dark] .colab-df-convert:hover {\n",
              "      background-color: #434B5C;\n",
              "      box-shadow: 0px 1px 3px 1px rgba(0, 0, 0, 0.15);\n",
              "      filter: drop-shadow(0px 1px 2px rgba(0, 0, 0, 0.3));\n",
              "      fill: #FFFFFF;\n",
              "    }\n",
              "  </style>\n",
              "\n",
              "    <script>\n",
              "      const buttonEl =\n",
              "        document.querySelector('#df-c2d613f2-2d98-43ae-8423-2c9cfaf33cfe button.colab-df-convert');\n",
              "      buttonEl.style.display =\n",
              "        google.colab.kernel.accessAllowed ? 'block' : 'none';\n",
              "\n",
              "      async function convertToInteractive(key) {\n",
              "        const element = document.querySelector('#df-c2d613f2-2d98-43ae-8423-2c9cfaf33cfe');\n",
              "        const dataTable =\n",
              "          await google.colab.kernel.invokeFunction('convertToInteractive',\n",
              "                                                    [key], {});\n",
              "        if (!dataTable) return;\n",
              "\n",
              "        const docLinkHtml = 'Like what you see? Visit the ' +\n",
              "          '<a target=\"_blank\" href=https://colab.research.google.com/notebooks/data_table.ipynb>data table notebook</a>'\n",
              "          + ' to learn more about interactive tables.';\n",
              "        element.innerHTML = '';\n",
              "        dataTable['output_type'] = 'display_data';\n",
              "        await google.colab.output.renderOutput(dataTable, element);\n",
              "        const docLink = document.createElement('div');\n",
              "        docLink.innerHTML = docLinkHtml;\n",
              "        element.appendChild(docLink);\n",
              "      }\n",
              "    </script>\n",
              "  </div>\n",
              "\n",
              "\n",
              "<div id=\"df-68c93b1a-f6f1-4fec-a503-4a1159868d5f\">\n",
              "  <button class=\"colab-df-quickchart\" onclick=\"quickchart('df-68c93b1a-f6f1-4fec-a503-4a1159868d5f')\"\n",
              "            title=\"Suggest charts\"\n",
              "            style=\"display:none;\">\n",
              "\n",
              "<svg xmlns=\"http://www.w3.org/2000/svg\" height=\"24px\"viewBox=\"0 0 24 24\"\n",
              "     width=\"24px\">\n",
              "    <g>\n",
              "        <path d=\"M19 3H5c-1.1 0-2 .9-2 2v14c0 1.1.9 2 2 2h14c1.1 0 2-.9 2-2V5c0-1.1-.9-2-2-2zM9 17H7v-7h2v7zm4 0h-2V7h2v10zm4 0h-2v-4h2v4z\"/>\n",
              "    </g>\n",
              "</svg>\n",
              "  </button>\n",
              "\n",
              "<style>\n",
              "  .colab-df-quickchart {\n",
              "      --bg-color: #E8F0FE;\n",
              "      --fill-color: #1967D2;\n",
              "      --hover-bg-color: #E2EBFA;\n",
              "      --hover-fill-color: #174EA6;\n",
              "      --disabled-fill-color: #AAA;\n",
              "      --disabled-bg-color: #DDD;\n",
              "  }\n",
              "\n",
              "  [theme=dark] .colab-df-quickchart {\n",
              "      --bg-color: #3B4455;\n",
              "      --fill-color: #D2E3FC;\n",
              "      --hover-bg-color: #434B5C;\n",
              "      --hover-fill-color: #FFFFFF;\n",
              "      --disabled-bg-color: #3B4455;\n",
              "      --disabled-fill-color: #666;\n",
              "  }\n",
              "\n",
              "  .colab-df-quickchart {\n",
              "    background-color: var(--bg-color);\n",
              "    border: none;\n",
              "    border-radius: 50%;\n",
              "    cursor: pointer;\n",
              "    display: none;\n",
              "    fill: var(--fill-color);\n",
              "    height: 32px;\n",
              "    padding: 0;\n",
              "    width: 32px;\n",
              "  }\n",
              "\n",
              "  .colab-df-quickchart:hover {\n",
              "    background-color: var(--hover-bg-color);\n",
              "    box-shadow: 0 1px 2px rgba(60, 64, 67, 0.3), 0 1px 3px 1px rgba(60, 64, 67, 0.15);\n",
              "    fill: var(--button-hover-fill-color);\n",
              "  }\n",
              "\n",
              "  .colab-df-quickchart-complete:disabled,\n",
              "  .colab-df-quickchart-complete:disabled:hover {\n",
              "    background-color: var(--disabled-bg-color);\n",
              "    fill: var(--disabled-fill-color);\n",
              "    box-shadow: none;\n",
              "  }\n",
              "\n",
              "  .colab-df-spinner {\n",
              "    border: 2px solid var(--fill-color);\n",
              "    border-color: transparent;\n",
              "    border-bottom-color: var(--fill-color);\n",
              "    animation:\n",
              "      spin 1s steps(1) infinite;\n",
              "  }\n",
              "\n",
              "  @keyframes spin {\n",
              "    0% {\n",
              "      border-color: transparent;\n",
              "      border-bottom-color: var(--fill-color);\n",
              "      border-left-color: var(--fill-color);\n",
              "    }\n",
              "    20% {\n",
              "      border-color: transparent;\n",
              "      border-left-color: var(--fill-color);\n",
              "      border-top-color: var(--fill-color);\n",
              "    }\n",
              "    30% {\n",
              "      border-color: transparent;\n",
              "      border-left-color: var(--fill-color);\n",
              "      border-top-color: var(--fill-color);\n",
              "      border-right-color: var(--fill-color);\n",
              "    }\n",
              "    40% {\n",
              "      border-color: transparent;\n",
              "      border-right-color: var(--fill-color);\n",
              "      border-top-color: var(--fill-color);\n",
              "    }\n",
              "    60% {\n",
              "      border-color: transparent;\n",
              "      border-right-color: var(--fill-color);\n",
              "    }\n",
              "    80% {\n",
              "      border-color: transparent;\n",
              "      border-right-color: var(--fill-color);\n",
              "      border-bottom-color: var(--fill-color);\n",
              "    }\n",
              "    90% {\n",
              "      border-color: transparent;\n",
              "      border-bottom-color: var(--fill-color);\n",
              "    }\n",
              "  }\n",
              "</style>\n",
              "\n",
              "  <script>\n",
              "    async function quickchart(key) {\n",
              "      const quickchartButtonEl =\n",
              "        document.querySelector('#' + key + ' button');\n",
              "      quickchartButtonEl.disabled = true;  // To prevent multiple clicks.\n",
              "      quickchartButtonEl.classList.add('colab-df-spinner');\n",
              "      try {\n",
              "        const charts = await google.colab.kernel.invokeFunction(\n",
              "            'suggestCharts', [key], {});\n",
              "      } catch (error) {\n",
              "        console.error('Error during call to suggestCharts:', error);\n",
              "      }\n",
              "      quickchartButtonEl.classList.remove('colab-df-spinner');\n",
              "      quickchartButtonEl.classList.add('colab-df-quickchart-complete');\n",
              "    }\n",
              "    (() => {\n",
              "      let quickchartButtonEl =\n",
              "        document.querySelector('#df-68c93b1a-f6f1-4fec-a503-4a1159868d5f button');\n",
              "      quickchartButtonEl.style.display =\n",
              "        google.colab.kernel.accessAllowed ? 'block' : 'none';\n",
              "    })();\n",
              "  </script>\n",
              "</div>\n",
              "\n",
              "    </div>\n",
              "  </div>\n"
            ],
            "application/vnd.google.colaboratory.intrinsic+json": {
              "type": "dataframe",
              "summary": "{\n  \"name\": \"dft[['PassengerId','Survived']]\",\n  \"rows\": 418,\n  \"fields\": [\n    {\n      \"column\": \"PassengerId\",\n      \"properties\": {\n        \"dtype\": \"number\",\n        \"std\": 120,\n        \"min\": 892,\n        \"max\": 1309,\n        \"num_unique_values\": 418,\n        \"samples\": [\n          1213,\n          1216,\n          1280\n        ],\n        \"semantic_type\": \"\",\n        \"description\": \"\"\n      }\n    },\n    {\n      \"column\": \"Survived\",\n      \"properties\": {\n        \"dtype\": \"number\",\n        \"std\": 0,\n        \"min\": 0,\n        \"max\": 0,\n        \"num_unique_values\": 1,\n        \"samples\": [\n          0\n        ],\n        \"semantic_type\": \"\",\n        \"description\": \"\"\n      }\n    }\n  ]\n}"
            }
          },
          "metadata": {},
          "execution_count": 32
        }
      ]
    },
    {
      "cell_type": "markdown",
      "source": [
        "# Predicción utilizando regresión logistica\n",
        "\n",
        "la siguiente función \"logistic_reg\" recibe los siguiente parametros: iterations (número de iteraciones, th0 (el primer parametro), th1 (es el segundo parametro), alfa (el hiperparametro) y los arreglos x_arr que representa las entradas o la variable independiente y y_arr que representa las salidas o la variable dependiente. Se asume que nuestra función de hipotesis se presenta externamente como f, siendo f una función lambda. La función regresa una tupla con los valores estimados de th0 y th1 para predecir los valores."
      ],
      "metadata": {
        "id": "Lr9xeUlPp88O"
      }
    },
    {
      "cell_type": "code",
      "source": [
        "# Por convencion se colocan los parametros dentro de un array\n",
        "# Valores de theta 0 y theta 1 respectivamente\n",
        "parametros = np.array([-5,0.1], dtype= float)\n",
        "\n",
        "\n",
        "def log_loss(y_true, y_pred):\n",
        "    # Evitar el logaritmo de cero agregando un pequeño valor epsilon.\n",
        "    epsilon = 1e-15\n",
        "    y_pred = np.clip(y_pred, epsilon, 1 - epsilon)\n",
        "\n",
        "    # Cálculo del log-loss\n",
        "    cost = -np.mean(y_true * np.log(y_pred) + (1 - y_true) * np.log(1 - y_pred))\n",
        "    return cost\n",
        "\n",
        "\n",
        "\n",
        "# Crear función lambda para la función de hipótesis\n",
        "f = lambda th0 , th1, x : 1 / (1 + np.exp(-1*(th0+th1*x)))\n",
        "\n",
        "\n",
        "def logistic_reg(iterations, th0, th1, alfa, x_arr, y_arr):\n",
        "    n = x_arr.size\n",
        "    delta0 = np.zeros(n)\n",
        "    delta1 = np.zeros(n)\n",
        "    cost_history = []\n",
        "\n",
        "    for _ in range(iterations):\n",
        "\n",
        "        # en cada iteración se calcula con los parametros correspondientes la predicción de y\n",
        "        y_pred = np.array([f(th0, th1, x) for x in x_arr])\n",
        "\n",
        "        for i in range(n):\n",
        "            delta0[i] = f(th0, th1, x_arr[i]) - y_arr[i]\n",
        "            delta1[i] = delta0[i] * x_arr[i]\n",
        "\n",
        "        th0 -= alfa * np.mean(delta0)\n",
        "        th1 -= alfa * np.mean(delta1)\n",
        "\n",
        "        # Calcular y almacenar la función de costo log-loss en cada iteración\n",
        "        cost = log_loss(y_arr, y_pred)\n",
        "        cost_history.append(cost)\n",
        "\n",
        "    return th0, th1, cost_history"
      ],
      "metadata": {
        "id": "OIbR3S43qjgx"
      },
      "execution_count": null,
      "outputs": []
    },
    {
      "cell_type": "markdown",
      "source": [
        "vamos a crear nuestros arrays que contendrán nuestro x_arr y y_arr de la función. El método to_numpy() cambia el tipo de datos series de pandas a un array de numpy."
      ],
      "metadata": {
        "id": "1bg71WGF9GJ8"
      }
    },
    {
      "cell_type": "code",
      "source": [
        "x_train = train_data[\"Sex_num\"].to_numpy()\n",
        "y_train = train_data[\"Survived\"].to_numpy()\n",
        "\n",
        "x_train_one, x_test_one, y_train_one, y_test_one = train_test_split(x_train, y_train, test_size=0.25, random_state=42)"
      ],
      "metadata": {
        "id": "HGk1Lfpe76cM"
      },
      "execution_count": null,
      "outputs": []
    },
    {
      "cell_type": "markdown",
      "source": [
        "evaluamos con nuesta información, en donde haremos 1000 iteraciones, definimos arriba th0 como -5 y th1 como 0.1 que extraemos del array definido anteriormente, definimos alfa como 0.1 e insertamos los arrays de x_test1 y y_test1"
      ],
      "metadata": {
        "id": "owzTyUL22GW3"
      }
    },
    {
      "cell_type": "code",
      "source": [
        "new_th0, new_th1, cost_history =logistic_reg(1000,parametros[0],parametros[1],0.1, x_train_one , y_train_one)"
      ],
      "metadata": {
        "id": "ogcVvAIu9eBx"
      },
      "execution_count": null,
      "outputs": []
    },
    {
      "cell_type": "markdown",
      "source": [
        "Bien, necesitamos un lugar donde guardar nuestras predicciones ya que ahora podemos utilizar nuestros valores de theta0 y theta1, por lo que necesitamos una función que nos regrese dichas predicciones."
      ],
      "metadata": {
        "id": "UlWBMiOZ1ZkT"
      }
    },
    {
      "cell_type": "code",
      "source": [
        "# Función de hipótesis con los parámetros aprendidos\n",
        "def predict(th0, th1, x):\n",
        "    return 1 / (1 + np.exp(-1 * (th0 + th1 * x)))\n",
        "\n",
        "# Calcular las predicciones para el conjunto de prueba\n",
        "predicciones = predict(new_th0, new_th1, x_test_one)\n",
        "\n",
        "#como devuelve un valor entre 0 y 1 representativo de la probabilidad, vamos a convertirlo a un array booleano\n",
        "# true si es mayor a un umbral de 0.5 y luevo convertir dicho valor a int\n",
        "predicciones = (predicciones >= 0.5).astype(int)"
      ],
      "metadata": {
        "id": "s7xxLGUX1org"
      },
      "execution_count": null,
      "outputs": []
    },
    {
      "cell_type": "markdown",
      "source": [
        "ahora que tenemos nuestra función, podemos utilizarla para poder predecir algunos valores, el único problema es que no tenemos forma de poder predecir que tan bien o que tan mal se esta comportando por lo que necesitaremos herramientas para poder hacer dichos juicios de valor. Estas herramientas son las siguientes métricas: Exactitud, Precisión, Exhaustividad y F1-Score.\n",
        "\n",
        "Si vemos en la definición de estas métricas podemos observas que necesitamos comparar los resultados estimados con los reales y obtener los verdaderos positivos *(VP)* , verdaderos negativos* (VN)*, falsos positivos *(FP)* y falsos negativos *(FN)*.\n",
        "\n",
        "**Cálculo de la matriz de confusión **"
      ],
      "metadata": {
        "id": "ZmwkUV6Ir6lH"
      }
    },
    {
      "cell_type": "code",
      "source": [
        "#se asume que los valores de entrada son arrays de numpy\n",
        "\n",
        "def matriz_de_confusion(y_true, y_pred):\n",
        "\n",
        "  array = np.zeros(4, dtype=int) #array[0] = VP, array[1] = VN, array[2] = FP, array[3] = FN\n",
        "\n",
        "  # Verdaderos positivos (VP)\n",
        "  VP = np.sum((y_pred == 1) & (y_true == 1))\n",
        "\n",
        "  # Verdaderos negativos (VN)\n",
        "  VN = np.sum((y_pred == 0) & (y_true == 0))\n",
        "\n",
        "  # Falsos positivos (FP)\n",
        "  FP = np.sum((y_pred == 1) & (y_true == 0))\n",
        "\n",
        "  # Falsos negativos (FN)\n",
        "  FN = np.sum((y_pred == 0) & (y_true == 1))\n",
        "\n",
        "  array[0] = VP\n",
        "  array[1] = VN\n",
        "  array[2] = FP\n",
        "  array[3] = FN\n",
        "\n",
        "  return array"
      ],
      "metadata": {
        "id": "jW7CAscmvpJG"
      },
      "execution_count": null,
      "outputs": []
    },
    {
      "cell_type": "markdown",
      "source": [
        "\n",
        "***Exactitud ***\n",
        "\n",
        "se define como el total de aciertos sobre el total, en otras palabras es:\n",
        "![image.png](data:image/png;base64,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)"
      ],
      "metadata": {
        "id": "9ZrSwOvnvnlH"
      }
    },
    {
      "cell_type": "code",
      "source": [
        "def exactitud(matriz_de_confusion):\n",
        "\n",
        "  total_de_aciertos = matriz_de_confusion[0]+matriz_de_confusion[1]\n",
        "  total = np.sum(matriz_de_confusion)\n",
        "\n",
        "  return total_de_aciertos/total\n"
      ],
      "metadata": {
        "id": "WqiSS4nStccZ"
      },
      "execution_count": null,
      "outputs": []
    },
    {
      "cell_type": "markdown",
      "source": [
        "**Precisión **\n",
        "\n",
        "se define como el total de positivos correctos sobre el total de positivos. Dicho de otro modo:\n",
        "\n",
        "![image.png](data:image/png;base64,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)"
      ],
      "metadata": {
        "id": "Sm0GJ9o1tNaQ"
      }
    },
    {
      "cell_type": "code",
      "source": [
        "def precision(matriz_de_confusion):\n",
        "\n",
        "  total_de_positivos_correctos = matriz_de_confusion[0]\n",
        "  total_de_positivos = matriz_de_confusion[0]+matriz_de_confusion[2]\n",
        "\n",
        "  return total_de_positivos_correctos / total_de_positivos\n"
      ],
      "metadata": {
        "id": "g6Xz6dXVzTQ6"
      },
      "execution_count": null,
      "outputs": []
    },
    {
      "cell_type": "markdown",
      "source": [
        "**Exhaustividad **\n",
        "\n",
        "se define como el total de positivos correctos sobre el total de positivos reales. Dicho de otro modo: ![image.png](data:image/png;base64,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)"
      ],
      "metadata": {
        "id": "ilEIJ7HNtO6u"
      }
    },
    {
      "cell_type": "code",
      "source": [
        "def exhaustividad(matriz_de_confusion):\n",
        "\n",
        "  total_de_positivos_correctos = matriz_de_confusion[0]\n",
        "  total_de_positivos_reales = matriz_de_confusion[0]+matriz_de_confusion[3]\n",
        "\n",
        "  return total_de_positivos_correctos/total_de_positivos_reales"
      ],
      "metadata": {
        "id": "fWIU8DBLzzn5"
      },
      "execution_count": null,
      "outputs": []
    },
    {
      "cell_type": "markdown",
      "source": [
        "**F1-Score **\n",
        "\n",
        "Se combina la precisión y la exhausitividad en un solo indicador, podemos calcularlo de la siguiente manera:\n",
        "\n",
        "![image.png](data:image/png;base64,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)"
      ],
      "metadata": {
        "id": "VD78psvUtSzq"
      }
    },
    {
      "cell_type": "code",
      "source": [
        "def f1_score(matriz_de_confusion):\n",
        "\n",
        "  dividendo = 2 * precision(matriz_de_confusion) * exhaustividad(matriz_de_confusion)\n",
        "  divisor = precision(matriz_de_confusion) + exhaustividad(matriz_de_confusion)\n",
        "\n",
        "  return dividendo / divisor"
      ],
      "metadata": {
        "id": "0hTdvC_rtJZp"
      },
      "execution_count": null,
      "outputs": []
    },
    {
      "cell_type": "markdown",
      "source": [
        "Hacemos el calculo de las metricas anteriores para nuestro array de predicciones:"
      ],
      "metadata": {
        "id": "KC6GylvI-tVZ"
      }
    },
    {
      "cell_type": "code",
      "source": [
        "# primero tenemos que obtener la matriz de confusion\n",
        "matriz_de_confusion = matriz_de_confusion(y_test_one, predicciones)\n",
        "\n",
        "print(exactitud(matriz_de_confusion))\n",
        "\n",
        "print(precision(matriz_de_confusion))\n",
        "\n",
        "print(exhaustividad(matriz_de_confusion))\n",
        "\n",
        "print(f1_score(matriz_de_confusion))"
      ],
      "metadata": {
        "colab": {
          "base_uri": "https://localhost:8080/"
        },
        "id": "6zJnE-NV-1CY",
        "outputId": "e3ec335e-d9f7-4d86-934b-098cdc2297bd"
      },
      "execution_count": null,
      "outputs": [
        {
          "output_type": "stream",
          "name": "stdout",
          "text": [
            "0.7847533632286996\n",
            "0.7411764705882353\n",
            "0.7078651685393258\n",
            "0.7241379310344828\n"
          ]
        }
      ]
    }
  ]
}