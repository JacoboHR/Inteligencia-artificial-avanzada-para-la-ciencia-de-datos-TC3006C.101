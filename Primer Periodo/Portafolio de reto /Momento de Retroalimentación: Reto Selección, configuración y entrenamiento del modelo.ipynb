{
  "nbformat": 4,
  "nbformat_minor": 0,
  "metadata": {
    "colab": {
      "provenance": []
    },
    "kernelspec": {
      "name": "python3",
      "display_name": "Python 3"
    },
    "language_info": {
      "name": "python"
    }
  },
  "cells": [
    {
      "cell_type": "code",
      "source": [
        "from google.colab import drive\n",
        "drive.mount(\"/content/gdrive\")"
      ],
      "metadata": {
        "colab": {
          "base_uri": "https://localhost:8080/"
        },
        "id": "HZFo3sVQkpJg",
        "outputId": "79d5e9b7-330d-4e04-f67a-7c23184a31b0"
      },
      "execution_count": 1,
      "outputs": [
        {
          "output_type": "stream",
          "name": "stdout",
          "text": [
            "Mounted at /content/gdrive\n"
          ]
        }
      ]
    },
    {
      "cell_type": "code",
      "source": [
        "# Eryk Elizondo González\n",
        "%cd \"/content/gdrive/MyDrive/ColabNotebooks/TC3006_7C_101_E5/Titanic/Datasets\""
      ],
      "metadata": {
        "colab": {
          "base_uri": "https://localhost:8080/"
        },
        "id": "BqK2nZVzi1Te",
        "outputId": "22876411-eb66-47af-f368-4362482a435b"
      },
      "execution_count": 2,
      "outputs": [
        {
          "output_type": "stream",
          "name": "stdout",
          "text": [
            "/content/gdrive/MyDrive/ColabNotebooks/TC3006_7C_101_E5/Titanic/Datasets\n"
          ]
        }
      ]
    },
    {
      "cell_type": "markdown",
      "source": [
        "Fuente: https://www.kaggle.com/code/startupsci/titanic-data-science-solutions/notebook"
      ],
      "metadata": {
        "id": "euEXMAt7d57t"
      }
    },
    {
      "cell_type": "code",
      "source": [
        "# Importar librerias\n",
        "import pandas as pd\n",
        "import numpy as np\n",
        "from sklearn.ensemble import RandomForestClassifier\n",
        "from sklearn.tree import DecisionTreeClassifier"
      ],
      "metadata": {
        "id": "aJWGQnTnP3S_"
      },
      "execution_count": 3,
      "outputs": []
    },
    {
      "cell_type": "code",
      "source": [
        "# Función para limpiar los datos\n",
        "def limpiar_datos(df):\n",
        "    # Convertir 'Sex' a valores numéricos\n",
        "    df['Sex'] = df['Sex'].map({'female': 1, 'male': 0}).astype(int)\n",
        "\n",
        "    # Rellenar edades NA con la mediana de 'Sex' y 'Pclass'\n",
        "    df['Age'] = df['Age'].fillna(df.groupby(['Sex', 'Pclass'])['Age'].transform('median')).astype(int)\n",
        "\n",
        "    # Clasificar edades en bandas\n",
        "    df['Age'] = pd.cut(df['Age'], bins=[-1, 16, 32, 48, 64, 80], labels=False, include_lowest=True)\n",
        "\n",
        "    # Crear características adicionales\n",
        "    df['IsAlone'] = (df['SibSp'] + df['Parch'] == 0).astype(int)\n",
        "    df['Age*Class'] = df['Age'] * df['Pclass']\n",
        "\n",
        "    # Eliminar columnas innecesarias\n",
        "    df.drop(['Name', 'SibSp', 'Parch', 'Ticket', 'Fare', 'Cabin', 'Embarked'], axis=1, inplace=True)\n",
        "\n",
        "    return df"
      ],
      "metadata": {
        "id": "SgmCv-0wxiDs"
      },
      "execution_count": 4,
      "outputs": []
    },
    {
      "cell_type": "code",
      "source": [
        "# Extraer y limpiar los datos\n",
        "train_data = limpiar_datos(pd.read_csv('train.csv'))\n",
        "test_data = limpiar_datos(pd.read_csv('test.csv'))"
      ],
      "metadata": {
        "id": "WyIE1GqM0n9d"
      },
      "execution_count": 5,
      "outputs": []
    },
    {
      "cell_type": "code",
      "source": [
        "# Preparar conjuntos de entrenamiento y prueba\n",
        "X_train = train_data.drop([\"Survived\", \"PassengerId\"], axis=1)\n",
        "Y_train = train_data[\"Survived\"]\n",
        "X_test = test_data.drop(\"PassengerId\", axis=1)"
      ],
      "metadata": {
        "id": "5h3GX0pnSTL1"
      },
      "execution_count": 6,
      "outputs": []
    },
    {
      "cell_type": "code",
      "source": [
        "# Modelo Random Forest\n",
        "random_forest = RandomForestClassifier(n_estimators=100).fit(X_train, Y_train)\n",
        "acc_random_forest = round(random_forest.score(X_train, Y_train) * 100, 2)\n",
        "print(\"Accuracy Random Forest:\", acc_random_forest)"
      ],
      "metadata": {
        "colab": {
          "base_uri": "https://localhost:8080/"
        },
        "id": "jA36hI_cdE33",
        "outputId": "1bcc8180-cffd-4ce0-9562-e6ca0b7a1cd6"
      },
      "execution_count": 7,
      "outputs": [
        {
          "output_type": "stream",
          "name": "stdout",
          "text": [
            "Accuracy Random Forest: 81.82\n"
          ]
        }
      ]
    },
    {
      "cell_type": "code",
      "source": [
        "# Modelo Decision Tree\n",
        "decision_tree = DecisionTreeClassifier().fit(X_train, Y_train)\n",
        "acc_decision_tree = round(decision_tree.score(X_train, Y_train) * 100, 2)\n",
        "print(\"Accuracy Decision Tree:\", acc_decision_tree)"
      ],
      "metadata": {
        "colab": {
          "base_uri": "https://localhost:8080/"
        },
        "id": "w66xk0U6dDTZ",
        "outputId": "7bcdd820-0fcc-4c10-8dd3-c7a01ab15173"
      },
      "execution_count": 8,
      "outputs": [
        {
          "output_type": "stream",
          "name": "stdout",
          "text": [
            "Accuracy Decision Tree: 81.82\n"
          ]
        }
      ]
    },
    {
      "cell_type": "code",
      "source": [
        "# Predicciones y exportación para el modelo Random Forest\n",
        "submission = pd.DataFrame({\n",
        "    \"PassengerId\": test_data[\"PassengerId\"],\n",
        "    \"Survived\": random_forest.predict(X_test)\n",
        "})\n",
        "submission.to_csv('Prediction_RandomForest.csv', index=False)"
      ],
      "metadata": {
        "id": "5WJcJM_XcphD"
      },
      "execution_count": 9,
      "outputs": []
    }
  ]
}