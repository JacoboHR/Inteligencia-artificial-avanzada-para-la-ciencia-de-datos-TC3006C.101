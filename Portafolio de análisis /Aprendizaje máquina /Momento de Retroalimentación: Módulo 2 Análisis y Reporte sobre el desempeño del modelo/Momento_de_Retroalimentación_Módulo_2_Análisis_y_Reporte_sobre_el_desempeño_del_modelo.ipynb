{
  "nbformat": 4,
  "nbformat_minor": 0,
  "metadata": {
    "colab": {
      "provenance": []
    },
    "kernelspec": {
      "name": "python3",
      "display_name": "Python 3"
    },
    "language_info": {
      "name": "python"
    }
  },
  "cells": [
    {
      "cell_type": "markdown",
      "source": [
        "\n",
        "# Momento de Retroalimentación: Módulo 2 Análisis y Reporte sobre el desempeño del modelo\n",
        "Jacobo Hirsch Rodriguez A00829679\n"
      ],
      "metadata": {
        "id": "S0LzzjWDedII"
      }
    },
    {
      "cell_type": "markdown",
      "source": [
        "# Definición de datos y librerias\n"
      ],
      "metadata": {
        "id": "GujMPJf6jILP"
      }
    },
    {
      "cell_type": "code",
      "source": [
        "from google.colab import drive\n",
        "\n",
        "drive.mount(\"/content/gdrive\")\n",
        "!pwd  # show current path"
      ],
      "metadata": {
        "colab": {
          "base_uri": "https://localhost:8080/"
        },
        "id": "FLJEcpgtem-g",
        "outputId": "b74529cf-ccb4-46fc-c309-cc02bf8dc375"
      },
      "execution_count": null,
      "outputs": [
        {
          "output_type": "stream",
          "name": "stdout",
          "text": [
            "Drive already mounted at /content/gdrive; to attempt to forcibly remount, call drive.mount(\"/content/gdrive\", force_remount=True).\n",
            "/content\n"
          ]
        }
      ]
    },
    {
      "cell_type": "code",
      "source": [
        "%cd \"/content/gdrive/MyDrive/ITESM ITC/Septimo semestre/Datasets\"\n",
        "!ls  # show current directory"
      ],
      "metadata": {
        "colab": {
          "base_uri": "https://localhost:8080/"
        },
        "id": "7tsQ-wu3epT_",
        "outputId": "57ba3d1b-d9d6-4fb1-aefe-e38a8423e9ca"
      },
      "execution_count": null,
      "outputs": [
        {
          "output_type": "stream",
          "name": "stdout",
          "text": [
            "/content/gdrive/MyDrive/ITESM ITC/Septimo semestre/Datasets\n",
            "amazon_product.csv  iris.data  mc-donalds-menu.csv  titanic  Valhalla23.csv  wine.data\twine.names\n"
          ]
        }
      ]
    },
    {
      "cell_type": "code",
      "source": [
        "import numpy as np\n",
        "import pandas as pd\n",
        "from sklearn.model_selection import train_test_split #se usa para dividir un conjunto de datos en dos subconjuntos: entrenamiento y prueba.\n",
        "from sklearn.linear_model import SGDRegressor # implementa un modelo de regresión lineal utilizando un algoritmo de descenso de gradiente estocástico.\n",
        "from sklearn.metrics import mean_squared_error #Función para calcular el error cuadrático medio (MSE), una métrica que mide el rendimiento de un modelo de regresión.\n",
        "import matplotlib.pyplot as plt #se utiliza para crear visualizaciones de datos en Python.\n",
        "from sklearn.preprocessing import StandardScaler\n",
        "from sklearn.linear_model import LinearRegression\n",
        "\n"
      ],
      "metadata": {
        "id": "dYxw9RM-erMm"
      },
      "execution_count": null,
      "outputs": []
    },
    {
      "cell_type": "code",
      "source": [
        "valhalla = pd.read_csv(\"Valhalla23.csv\")\n",
        "valhalla.head()"
      ],
      "metadata": {
        "colab": {
          "base_uri": "https://localhost:8080/",
          "height": 204
        },
        "id": "0PMvAAe3exCb",
        "outputId": "46e706a2-718f-46ee-ecee-d8b5440ef3c3"
      },
      "execution_count": null,
      "outputs": [
        {
          "output_type": "execute_result",
          "data": {
            "text/plain": [
              "   Celsius    Valks\n",
              "0  61.4720 -139.740\n",
              "1  70.5790 -156.600\n",
              "2  -7.3013   73.269\n",
              "3  71.3380 -165.420\n",
              "4  43.2360  -75.835"
            ],
            "text/html": [
              "\n",
              "  <div id=\"df-aa6a42a6-3183-41f8-99dd-425b94f08884\" class=\"colab-df-container\">\n",
              "    <div>\n",
              "<style scoped>\n",
              "    .dataframe tbody tr th:only-of-type {\n",
              "        vertical-align: middle;\n",
              "    }\n",
              "\n",
              "    .dataframe tbody tr th {\n",
              "        vertical-align: top;\n",
              "    }\n",
              "\n",
              "    .dataframe thead th {\n",
              "        text-align: right;\n",
              "    }\n",
              "</style>\n",
              "<table border=\"1\" class=\"dataframe\">\n",
              "  <thead>\n",
              "    <tr style=\"text-align: right;\">\n",
              "      <th></th>\n",
              "      <th>Celsius</th>\n",
              "      <th>Valks</th>\n",
              "    </tr>\n",
              "  </thead>\n",
              "  <tbody>\n",
              "    <tr>\n",
              "      <th>0</th>\n",
              "      <td>61.4720</td>\n",
              "      <td>-139.740</td>\n",
              "    </tr>\n",
              "    <tr>\n",
              "      <th>1</th>\n",
              "      <td>70.5790</td>\n",
              "      <td>-156.600</td>\n",
              "    </tr>\n",
              "    <tr>\n",
              "      <th>2</th>\n",
              "      <td>-7.3013</td>\n",
              "      <td>73.269</td>\n",
              "    </tr>\n",
              "    <tr>\n",
              "      <th>3</th>\n",
              "      <td>71.3380</td>\n",
              "      <td>-165.420</td>\n",
              "    </tr>\n",
              "    <tr>\n",
              "      <th>4</th>\n",
              "      <td>43.2360</td>\n",
              "      <td>-75.835</td>\n",
              "    </tr>\n",
              "  </tbody>\n",
              "</table>\n",
              "</div>\n",
              "    <div class=\"colab-df-buttons\">\n",
              "\n",
              "  <div class=\"colab-df-container\">\n",
              "    <button class=\"colab-df-convert\" onclick=\"convertToInteractive('df-aa6a42a6-3183-41f8-99dd-425b94f08884')\"\n",
              "            title=\"Convert this dataframe to an interactive table.\"\n",
              "            style=\"display:none;\">\n",
              "\n",
              "  <svg xmlns=\"http://www.w3.org/2000/svg\" height=\"24px\" viewBox=\"0 -960 960 960\">\n",
              "    <path d=\"M120-120v-720h720v720H120Zm60-500h600v-160H180v160Zm220 220h160v-160H400v160Zm0 220h160v-160H400v160ZM180-400h160v-160H180v160Zm440 0h160v-160H620v160ZM180-180h160v-160H180v160Zm440 0h160v-160H620v160Z\"/>\n",
              "  </svg>\n",
              "    </button>\n",
              "\n",
              "  <style>\n",
              "    .colab-df-container {\n",
              "      display:flex;\n",
              "      gap: 12px;\n",
              "    }\n",
              "\n",
              "    .colab-df-convert {\n",
              "      background-color: #E8F0FE;\n",
              "      border: none;\n",
              "      border-radius: 50%;\n",
              "      cursor: pointer;\n",
              "      display: none;\n",
              "      fill: #1967D2;\n",
              "      height: 32px;\n",
              "      padding: 0 0 0 0;\n",
              "      width: 32px;\n",
              "    }\n",
              "\n",
              "    .colab-df-convert:hover {\n",
              "      background-color: #E2EBFA;\n",
              "      box-shadow: 0px 1px 2px rgba(60, 64, 67, 0.3), 0px 1px 3px 1px rgba(60, 64, 67, 0.15);\n",
              "      fill: #174EA6;\n",
              "    }\n",
              "\n",
              "    .colab-df-buttons div {\n",
              "      margin-bottom: 4px;\n",
              "    }\n",
              "\n",
              "    [theme=dark] .colab-df-convert {\n",
              "      background-color: #3B4455;\n",
              "      fill: #D2E3FC;\n",
              "    }\n",
              "\n",
              "    [theme=dark] .colab-df-convert:hover {\n",
              "      background-color: #434B5C;\n",
              "      box-shadow: 0px 1px 3px 1px rgba(0, 0, 0, 0.15);\n",
              "      filter: drop-shadow(0px 1px 2px rgba(0, 0, 0, 0.3));\n",
              "      fill: #FFFFFF;\n",
              "    }\n",
              "  </style>\n",
              "\n",
              "    <script>\n",
              "      const buttonEl =\n",
              "        document.querySelector('#df-aa6a42a6-3183-41f8-99dd-425b94f08884 button.colab-df-convert');\n",
              "      buttonEl.style.display =\n",
              "        google.colab.kernel.accessAllowed ? 'block' : 'none';\n",
              "\n",
              "      async function convertToInteractive(key) {\n",
              "        const element = document.querySelector('#df-aa6a42a6-3183-41f8-99dd-425b94f08884');\n",
              "        const dataTable =\n",
              "          await google.colab.kernel.invokeFunction('convertToInteractive',\n",
              "                                                    [key], {});\n",
              "        if (!dataTable) return;\n",
              "\n",
              "        const docLinkHtml = 'Like what you see? Visit the ' +\n",
              "          '<a target=\"_blank\" href=https://colab.research.google.com/notebooks/data_table.ipynb>data table notebook</a>'\n",
              "          + ' to learn more about interactive tables.';\n",
              "        element.innerHTML = '';\n",
              "        dataTable['output_type'] = 'display_data';\n",
              "        await google.colab.output.renderOutput(dataTable, element);\n",
              "        const docLink = document.createElement('div');\n",
              "        docLink.innerHTML = docLinkHtml;\n",
              "        element.appendChild(docLink);\n",
              "      }\n",
              "    </script>\n",
              "  </div>\n",
              "\n",
              "\n",
              "<div id=\"df-016f5062-25fc-40d9-963f-e5f216383a8f\">\n",
              "  <button class=\"colab-df-quickchart\" onclick=\"quickchart('df-016f5062-25fc-40d9-963f-e5f216383a8f')\"\n",
              "            title=\"Suggest charts\"\n",
              "            style=\"display:none;\">\n",
              "\n",
              "<svg xmlns=\"http://www.w3.org/2000/svg\" height=\"24px\"viewBox=\"0 0 24 24\"\n",
              "     width=\"24px\">\n",
              "    <g>\n",
              "        <path d=\"M19 3H5c-1.1 0-2 .9-2 2v14c0 1.1.9 2 2 2h14c1.1 0 2-.9 2-2V5c0-1.1-.9-2-2-2zM9 17H7v-7h2v7zm4 0h-2V7h2v10zm4 0h-2v-4h2v4z\"/>\n",
              "    </g>\n",
              "</svg>\n",
              "  </button>\n",
              "\n",
              "<style>\n",
              "  .colab-df-quickchart {\n",
              "      --bg-color: #E8F0FE;\n",
              "      --fill-color: #1967D2;\n",
              "      --hover-bg-color: #E2EBFA;\n",
              "      --hover-fill-color: #174EA6;\n",
              "      --disabled-fill-color: #AAA;\n",
              "      --disabled-bg-color: #DDD;\n",
              "  }\n",
              "\n",
              "  [theme=dark] .colab-df-quickchart {\n",
              "      --bg-color: #3B4455;\n",
              "      --fill-color: #D2E3FC;\n",
              "      --hover-bg-color: #434B5C;\n",
              "      --hover-fill-color: #FFFFFF;\n",
              "      --disabled-bg-color: #3B4455;\n",
              "      --disabled-fill-color: #666;\n",
              "  }\n",
              "\n",
              "  .colab-df-quickchart {\n",
              "    background-color: var(--bg-color);\n",
              "    border: none;\n",
              "    border-radius: 50%;\n",
              "    cursor: pointer;\n",
              "    display: none;\n",
              "    fill: var(--fill-color);\n",
              "    height: 32px;\n",
              "    padding: 0;\n",
              "    width: 32px;\n",
              "  }\n",
              "\n",
              "  .colab-df-quickchart:hover {\n",
              "    background-color: var(--hover-bg-color);\n",
              "    box-shadow: 0 1px 2px rgba(60, 64, 67, 0.3), 0 1px 3px 1px rgba(60, 64, 67, 0.15);\n",
              "    fill: var(--button-hover-fill-color);\n",
              "  }\n",
              "\n",
              "  .colab-df-quickchart-complete:disabled,\n",
              "  .colab-df-quickchart-complete:disabled:hover {\n",
              "    background-color: var(--disabled-bg-color);\n",
              "    fill: var(--disabled-fill-color);\n",
              "    box-shadow: none;\n",
              "  }\n",
              "\n",
              "  .colab-df-spinner {\n",
              "    border: 2px solid var(--fill-color);\n",
              "    border-color: transparent;\n",
              "    border-bottom-color: var(--fill-color);\n",
              "    animation:\n",
              "      spin 1s steps(1) infinite;\n",
              "  }\n",
              "\n",
              "  @keyframes spin {\n",
              "    0% {\n",
              "      border-color: transparent;\n",
              "      border-bottom-color: var(--fill-color);\n",
              "      border-left-color: var(--fill-color);\n",
              "    }\n",
              "    20% {\n",
              "      border-color: transparent;\n",
              "      border-left-color: var(--fill-color);\n",
              "      border-top-color: var(--fill-color);\n",
              "    }\n",
              "    30% {\n",
              "      border-color: transparent;\n",
              "      border-left-color: var(--fill-color);\n",
              "      border-top-color: var(--fill-color);\n",
              "      border-right-color: var(--fill-color);\n",
              "    }\n",
              "    40% {\n",
              "      border-color: transparent;\n",
              "      border-right-color: var(--fill-color);\n",
              "      border-top-color: var(--fill-color);\n",
              "    }\n",
              "    60% {\n",
              "      border-color: transparent;\n",
              "      border-right-color: var(--fill-color);\n",
              "    }\n",
              "    80% {\n",
              "      border-color: transparent;\n",
              "      border-right-color: var(--fill-color);\n",
              "      border-bottom-color: var(--fill-color);\n",
              "    }\n",
              "    90% {\n",
              "      border-color: transparent;\n",
              "      border-bottom-color: var(--fill-color);\n",
              "    }\n",
              "  }\n",
              "</style>\n",
              "\n",
              "  <script>\n",
              "    async function quickchart(key) {\n",
              "      const quickchartButtonEl =\n",
              "        document.querySelector('#' + key + ' button');\n",
              "      quickchartButtonEl.disabled = true;  // To prevent multiple clicks.\n",
              "      quickchartButtonEl.classList.add('colab-df-spinner');\n",
              "      try {\n",
              "        const charts = await google.colab.kernel.invokeFunction(\n",
              "            'suggestCharts', [key], {});\n",
              "      } catch (error) {\n",
              "        console.error('Error during call to suggestCharts:', error);\n",
              "      }\n",
              "      quickchartButtonEl.classList.remove('colab-df-spinner');\n",
              "      quickchartButtonEl.classList.add('colab-df-quickchart-complete');\n",
              "    }\n",
              "    (() => {\n",
              "      let quickchartButtonEl =\n",
              "        document.querySelector('#df-016f5062-25fc-40d9-963f-e5f216383a8f button');\n",
              "      quickchartButtonEl.style.display =\n",
              "        google.colab.kernel.accessAllowed ? 'block' : 'none';\n",
              "    })();\n",
              "  </script>\n",
              "</div>\n",
              "\n",
              "    </div>\n",
              "  </div>\n"
            ],
            "application/vnd.google.colaboratory.intrinsic+json": {
              "type": "dataframe",
              "variable_name": "valhalla",
              "summary": "{\n  \"name\": \"valhalla\",\n  \"rows\": 100,\n  \"fields\": [\n    {\n      \"column\": \"Celsius\",\n      \"properties\": {\n        \"dtype\": \"number\",\n        \"std\": 29.701685150046224,\n        \"min\": -18.81,\n        \"max\": 77.059,\n        \"num_unique_values\": 100,\n        \"samples\": [\n          34.972,\n          -3.7388,\n          64.072\n        ],\n        \"semantic_type\": \"\",\n        \"description\": \"\"\n      }\n    },\n    {\n      \"column\": \"Valks\",\n      \"properties\": {\n        \"dtype\": \"number\",\n        \"std\": 88.64891939836194,\n        \"min\": -186.09,\n        \"max\": 106.43,\n        \"num_unique_values\": 100,\n        \"samples\": [\n          -54.496,\n          60.614,\n          -127.1\n        ],\n        \"semantic_type\": \"\",\n        \"description\": \"\"\n      }\n    }\n  ]\n}"
            }
          },
          "metadata": {},
          "execution_count": 4
        }
      ]
    },
    {
      "cell_type": "markdown",
      "source": [
        "definimos la semilla con los ultimos cuatro digitos de mi matricula que es A00829679"
      ],
      "metadata": {
        "id": "VCOOQZIDfJng"
      }
    },
    {
      "cell_type": "code",
      "source": [
        "semilla = 9679"
      ],
      "metadata": {
        "id": "Qk-kc1lyfPS5"
      },
      "execution_count": null,
      "outputs": []
    },
    {
      "cell_type": "markdown",
      "source": [
        "\n",
        "**Conjunto de entrenamiento:** Datos usados para aprender y ajustar los parámetros del modelo.\n",
        "\n",
        "\n",
        "**Conjunto de validación:** Datos empleados para optimizar y ajustar los hiperparámetros del modelo, ayudando a prevenir la sobreadaptación.\n",
        "\n",
        "**Conjunto de prueba:** Datos utilizados para evaluar el rendimiento final del modelo de manera imparcial.\n",
        "\n",
        "\n",
        " divide el set de datos en entrenamiento (40%), validación (40%), y prueba (20%)\n",
        "\n",
        " primero inicializamos las variables para su division\n"
      ],
      "metadata": {
        "id": "DUPU8dK4fVXG"
      }
    },
    {
      "cell_type": "code",
      "source": [
        "x = valhalla[['Celsius']] #dejamos el doble corchete para que se mantenga como un dataframe (en lugar de una serie de pandas)\n",
        "y = valhalla['Valks']\n"
      ],
      "metadata": {
        "id": "_8hZnaq4fWJv"
      },
      "execution_count": null,
      "outputs": []
    },
    {
      "cell_type": "markdown",
      "source": [
        "despues lo dividimos en 3 partes"
      ],
      "metadata": {
        "id": "-t0q7fzufiDi"
      }
    },
    {
      "cell_type": "code",
      "source": [
        "#dividimos los datos en lo que será primero el 20% prueba y el 40% de validacion + el oreo 40% de entrenamiento\n",
        "# x_train_val y y_train_val contiene el 80% de los datos que se volverán a dividir\n",
        "#el parametro test_size del método train_test_split es un porcentaje en valor de 0 a 1\n",
        "x_train_val, x_test, y_train_val, y_test = train_test_split(x, y, test_size=0.2, random_state=semilla)\n",
        "\n",
        "#ahora vamos a hacer la división del otro conjunto\n",
        "x_train, x_val, y_train, y_val = train_test_split(x_train_val, y_train_val, test_size=0.5, random_state=semilla)"
      ],
      "metadata": {
        "id": "gbd87IeAfbpt"
      },
      "execution_count": null,
      "outputs": []
    },
    {
      "cell_type": "markdown",
      "source": [
        "Entrena un modelo base de tipo SGDRegressor que utilice una tasa de aprendizaje de 1E-4, un máximo de iteraciones de un millón, y que utilice la semilla definida arriba. Al momento de utilizar el modelo SGDRegressor, tenemos que escalar los datos"
      ],
      "metadata": {
        "id": "CaFsFT62UM5w"
      }
    },
    {
      "cell_type": "code",
      "source": [
        "# Inicializar el escalador\n",
        "scaler = StandardScaler()\n",
        "\n",
        "# Ajustar el escalador a los datos de entrenamiento y transformar tanto los datos de entrenamiento como los de prueba\n",
        "x_train_scaled = scaler.fit_transform(x_train)\n",
        "x_test_scaled = scaler.transform(x_test)\n",
        "x_val_scaled =  scaler.transform(x_val)"
      ],
      "metadata": {
        "id": "0ZGlgFFCUQAG"
      },
      "execution_count": null,
      "outputs": []
    },
    {
      "cell_type": "markdown",
      "source": [
        "# Configuracion y entrenamiento\n",
        "Entrena un modelo base de tipo SGDRegressor que utilice una tasa de aprendizaje de 1E-4, un máximo de iteraciones de un millón, y que utilice la semilla definida arriba"
      ],
      "metadata": {
        "id": "rxgXqGbrjCqW"
      }
    },
    {
      "cell_type": "code",
      "source": [
        "# Inicializar el modelo con los parámetros elegidos\n",
        "model = SGDRegressor(penalty='l2', alpha=0.001, max_iter=1000000, learning_rate='optimal', random_state=semilla)\n",
        "\n",
        "# Ajustar el modelo a los datos de entrenamiento escalados\n",
        "#model.fit(x_train_scaled, y_train)\n",
        "\n",
        "model.fit(x_train_scaled, y_train)\n"
      ],
      "metadata": {
        "colab": {
          "base_uri": "https://localhost:8080/",
          "height": 91
        },
        "id": "2DWYhB8bjCCf",
        "outputId": "0deb2954-0640-438a-cfd0-5f9ddb6357a8"
      },
      "execution_count": null,
      "outputs": [
        {
          "output_type": "execute_result",
          "data": {
            "text/plain": [
              "SGDRegressor(alpha=0.001, learning_rate='optimal', max_iter=1000000,\n",
              "             random_state=9679)"
            ],
            "text/html": [
              "<style>#sk-container-id-1 {color: black;}#sk-container-id-1 pre{padding: 0;}#sk-container-id-1 div.sk-toggleable {background-color: white;}#sk-container-id-1 label.sk-toggleable__label {cursor: pointer;display: block;width: 100%;margin-bottom: 0;padding: 0.3em;box-sizing: border-box;text-align: center;}#sk-container-id-1 label.sk-toggleable__label-arrow:before {content: \"▸\";float: left;margin-right: 0.25em;color: #696969;}#sk-container-id-1 label.sk-toggleable__label-arrow:hover:before {color: black;}#sk-container-id-1 div.sk-estimator:hover label.sk-toggleable__label-arrow:before {color: black;}#sk-container-id-1 div.sk-toggleable__content {max-height: 0;max-width: 0;overflow: hidden;text-align: left;background-color: #f0f8ff;}#sk-container-id-1 div.sk-toggleable__content pre {margin: 0.2em;color: black;border-radius: 0.25em;background-color: #f0f8ff;}#sk-container-id-1 input.sk-toggleable__control:checked~div.sk-toggleable__content {max-height: 200px;max-width: 100%;overflow: auto;}#sk-container-id-1 input.sk-toggleable__control:checked~label.sk-toggleable__label-arrow:before {content: \"▾\";}#sk-container-id-1 div.sk-estimator input.sk-toggleable__control:checked~label.sk-toggleable__label {background-color: #d4ebff;}#sk-container-id-1 div.sk-label input.sk-toggleable__control:checked~label.sk-toggleable__label {background-color: #d4ebff;}#sk-container-id-1 input.sk-hidden--visually {border: 0;clip: rect(1px 1px 1px 1px);clip: rect(1px, 1px, 1px, 1px);height: 1px;margin: -1px;overflow: hidden;padding: 0;position: absolute;width: 1px;}#sk-container-id-1 div.sk-estimator {font-family: monospace;background-color: #f0f8ff;border: 1px dotted black;border-radius: 0.25em;box-sizing: border-box;margin-bottom: 0.5em;}#sk-container-id-1 div.sk-estimator:hover {background-color: #d4ebff;}#sk-container-id-1 div.sk-parallel-item::after {content: \"\";width: 100%;border-bottom: 1px solid gray;flex-grow: 1;}#sk-container-id-1 div.sk-label:hover label.sk-toggleable__label {background-color: #d4ebff;}#sk-container-id-1 div.sk-serial::before {content: \"\";position: absolute;border-left: 1px solid gray;box-sizing: border-box;top: 0;bottom: 0;left: 50%;z-index: 0;}#sk-container-id-1 div.sk-serial {display: flex;flex-direction: column;align-items: center;background-color: white;padding-right: 0.2em;padding-left: 0.2em;position: relative;}#sk-container-id-1 div.sk-item {position: relative;z-index: 1;}#sk-container-id-1 div.sk-parallel {display: flex;align-items: stretch;justify-content: center;background-color: white;position: relative;}#sk-container-id-1 div.sk-item::before, #sk-container-id-1 div.sk-parallel-item::before {content: \"\";position: absolute;border-left: 1px solid gray;box-sizing: border-box;top: 0;bottom: 0;left: 50%;z-index: -1;}#sk-container-id-1 div.sk-parallel-item {display: flex;flex-direction: column;z-index: 1;position: relative;background-color: white;}#sk-container-id-1 div.sk-parallel-item:first-child::after {align-self: flex-end;width: 50%;}#sk-container-id-1 div.sk-parallel-item:last-child::after {align-self: flex-start;width: 50%;}#sk-container-id-1 div.sk-parallel-item:only-child::after {width: 0;}#sk-container-id-1 div.sk-dashed-wrapped {border: 1px dashed gray;margin: 0 0.4em 0.5em 0.4em;box-sizing: border-box;padding-bottom: 0.4em;background-color: white;}#sk-container-id-1 div.sk-label label {font-family: monospace;font-weight: bold;display: inline-block;line-height: 1.2em;}#sk-container-id-1 div.sk-label-container {text-align: center;}#sk-container-id-1 div.sk-container {/* jupyter's `normalize.less` sets `[hidden] { display: none; }` but bootstrap.min.css set `[hidden] { display: none !important; }` so we also need the `!important` here to be able to override the default hidden behavior on the sphinx rendered scikit-learn.org. See: https://github.com/scikit-learn/scikit-learn/issues/21755 */display: inline-block !important;position: relative;}#sk-container-id-1 div.sk-text-repr-fallback {display: none;}</style><div id=\"sk-container-id-1\" class=\"sk-top-container\"><div class=\"sk-text-repr-fallback\"><pre>SGDRegressor(alpha=0.001, learning_rate=&#x27;optimal&#x27;, max_iter=1000000,\n",
              "             random_state=9679)</pre><b>In a Jupyter environment, please rerun this cell to show the HTML representation or trust the notebook. <br />On GitHub, the HTML representation is unable to render, please try loading this page with nbviewer.org.</b></div><div class=\"sk-container\" hidden><div class=\"sk-item\"><div class=\"sk-estimator sk-toggleable\"><input class=\"sk-toggleable__control sk-hidden--visually\" id=\"sk-estimator-id-1\" type=\"checkbox\" checked><label for=\"sk-estimator-id-1\" class=\"sk-toggleable__label sk-toggleable__label-arrow\">SGDRegressor</label><div class=\"sk-toggleable__content\"><pre>SGDRegressor(alpha=0.001, learning_rate=&#x27;optimal&#x27;, max_iter=1000000,\n",
              "             random_state=9679)</pre></div></div></div></div></div>"
            ]
          },
          "metadata": {},
          "execution_count": 9
        }
      ]
    },
    {
      "cell_type": "markdown",
      "source": [
        "se termino utilizando una tasa de entrenamiento diferente ya que la tasa propuesta no estaba dando resultados. dicha tasa se escogio de menera arbitraria y se mantuvo ya que dio resultados positivos."
      ],
      "metadata": {
        "id": "FTi7euf4zCe5"
      }
    },
    {
      "cell_type": "markdown",
      "source": [
        "# Evaluacion del modelo\n",
        "Calcula el error cuadrático medio para este modelo, sobre los datos de entrenamiento, validación, y prueba. Estos datos servirán como línea base."
      ],
      "metadata": {
        "id": "ZKI3Ol9x_sCQ"
      }
    },
    {
      "cell_type": "code",
      "source": [
        "\n",
        "y_train_pred = model.predict(x_train_scaled) #Genera predicciones usando el modelo entrenado para los datos de entrenamiento.\n",
        "y_test_pred = model.predict(x_test_scaled) #Genera predicciones usando el modelo entrenado para los datos de prueba.\n",
        "y_val_pred = model.predict(x_val_scaled) #Genera predicciones usando el modelo entrenado para los datos de validación.\n",
        "\n",
        "#alcula el error cuadrático medio (MSE) para el conjunto de entrenamiento,\n",
        "#comparando las predicciones (y_train_pred) con los valores reales (y_train).\n",
        "train_mse = mean_squared_error(y_train, y_train_pred)\n",
        "\n",
        "#Calcula el MSE para el conjunto de prueba, comparando las predicciones (y_test_pred)\n",
        "#con los valores reales (y_test).\n",
        "test_mse = mean_squared_error(y_test, y_test_pred)\n",
        "\n",
        "#calculamos el MSE para el conjunto de validación, comparando las predicciones (y_val_pred)\n",
        "# con los valores reales (y_val)\n",
        "val_mse = mean_squared_error(y_val, y_val_pred)\n",
        "\n",
        "#imprimimos los resultados de nuestras metricas\n",
        "print(f\"Error Cuadrático Medio en Entrenamiento: {train_mse}\")\n",
        "print(f\"Error Cuadrático Medio en Prueba: {test_mse}\")\n",
        "print(f\"Error Cuadrático Medio en Prueba: {val_mse}\")"
      ],
      "metadata": {
        "colab": {
          "base_uri": "https://localhost:8080/"
        },
        "id": "TWA8okSK_sqo",
        "outputId": "7f4aceb5-760a-4cc9-cfff-6c0afb9968f7"
      },
      "execution_count": null,
      "outputs": [
        {
          "output_type": "stream",
          "name": "stdout",
          "text": [
            "Error Cuadrático Medio en Entrenamiento: 95.47031956733436\n",
            "Error Cuadrático Medio en Prueba: 175.12423900631777\n",
            "Error Cuadrático Medio en Prueba: 114.53411326863386\n"
          ]
        }
      ]
    },
    {
      "cell_type": "markdown",
      "source": [
        "Realiza una gráfica donde muestres cada subconjunto de datos (entrenamiento, validación, prueba) y el modelo de regresión obtenido (como una recta)"
      ],
      "metadata": {
        "id": "BJyFEg0gAqzf"
      }
    },
    {
      "cell_type": "code",
      "source": [
        "plt.figure(figsize=(10, 6))\n",
        "\n",
        "\n",
        "\n",
        "plt.scatter(x_train_scaled, y_train, color='blue', label='Training Data')\n",
        "plt.scatter(x_val_scaled, y_val, color='green', label='Validation Data')\n",
        "plt.scatter(x_test_scaled, y_test, color='darkorange', label='Test Data)')\n",
        "\n",
        "plt.plot(x_test_scaled, y_test_pred, color='red', label='Predicciones del Modelo')\n",
        "\n",
        "\n",
        "\n",
        "plt.xlabel('Celsius')\n",
        "plt.ylabel('Valks')\n",
        "plt.title('Prediccion vs Valores Reales (train, val, test)')\n",
        "plt.legend()\n",
        "plt.show()"
      ],
      "metadata": {
        "id": "X_TonQqtArfr",
        "colab": {
          "base_uri": "https://localhost:8080/",
          "height": 564
        },
        "outputId": "bda7fa54-99a8-4b95-fcca-b702c5bbea82"
      },
      "execution_count": null,
      "outputs": [
        {
          "output_type": "display_data",
          "data": {
            "text/plain": [
              "<Figure size 1000x600 with 1 Axes>"
            ],
            "image/png": "[encoded data removed]"
          },
          "metadata": {}
        }
      ]
    },
    {
      "cell_type": "markdown",
      "source": [
        "# Instrucciones del reporte\n",
        "Crea una lista que contenga 20 elementos (enteros) entre 2 y 39 (sin repetición, y que incluyan el número 2). Estos valores representarán la cantidad de instancias que se usarán para el análisis"
      ],
      "metadata": {
        "id": "VPNA0dyDHv3i"
      }
    },
    {
      "cell_type": "code",
      "source": [
        "import random\n",
        "\n",
        "# Generar los números entre 3 y 39\n",
        "numeros = list(range(3, 40))\n",
        "\n",
        "# Selecciona 19 números aleatorios sin repetición\n",
        "numeros = random.sample(numeros, 19)\n",
        "\n",
        "# Añade el número 2 a la lista\n",
        "numeros.append(2)\n",
        "\n",
        "numeros = np.sort(numeros)\n",
        "\n",
        "print(numeros)"
      ],
      "metadata": {
        "id": "SefnhUGTHvSm",
        "colab": {
          "base_uri": "https://localhost:8080/"
        },
        "outputId": "1f7644a8-738b-493b-b61a-4b547cdcb296"
      },
      "execution_count": null,
      "outputs": [
        {
          "output_type": "stream",
          "name": "stdout",
          "text": [
            "[ 2  5  6  7  9 10 14 17 19 20 21 23 24 25 30 31 32 33 34 35]\n"
          ]
        }
      ]
    },
    {
      "cell_type": "markdown",
      "source": [
        "Para cada uno de los tamaños del punto anterior, entrena 100 modelos usando un subconjunto aleatorio del set de entrenamiento que contenga esa cantidad de muestras. Por ejemplo, para el tamaño de 2 muestras, se deben entrenar 100 modelos utilizando 2 muestras seleccionadas aleatoriamente de las 40 muestras disponibles en el set de entrenamiento.\n",
        "\n",
        "Para cada uno de los modelos del punto anterior, calcula el error cuadrático medio en el subconjunto de entrenamiento (el que tiene un número cambiante de muestras), y en el subconjunto de validación.\n",
        "\n",
        "Calcula el promedio de las 100 repeticiones para cada uno de los modelos y sus errores. Esto debería generar dos listas de 20 valores cada uno, donde cada elemento representa el error promedio de las 100 repeticiones que se hicieron para cada subconjunto de entrenamiento"
      ],
      "metadata": {
        "id": "lP98enqBIVRf"
      }
    },
    {
      "cell_type": "code",
      "source": [
        "# aeeay que  va a almacenar los indices del array\n",
        "indices_estaticos = np.arange(len(x_train_scaled))\n",
        "\n",
        "#array que va a almacenar la media del error cuadratico por subconjunto aleatorio  train del conjunto train\n",
        "error_train = np.zeros(20)\n",
        "\n",
        "#array que va a almacenar la media del error cuadratico por subconjunto aleatorio  train del conjunto val\n",
        "error_val = np.zeros(20)\n",
        "\n",
        "\n",
        "\n",
        "for i, valor in enumerate(numeros):\n",
        "\n",
        "  #en este array almacenaremos los errores cuadraticos para train\n",
        "  mean_error_array_train = np.zeros(100)\n",
        "\n",
        "  #en este array almacenaremos los errores cuadraticos para val\n",
        "  mean_error_array_val = np.zeros(100)\n",
        "\n",
        "  for x in range(100):\n",
        "\n",
        "    #Obtenemos una lista de indices al azar del tamaño de nuestro conjunto valor\n",
        "    indices = random.sample(indices_estaticos.tolist(), valor)\n",
        "\n",
        "    #es importante al momento de entrenar un modelo que los valores entre x y y correspondan por lo que ...\n",
        "    #hacemos un nuevo array para x que contenga los valores de los indices especificados\n",
        "    new_x_train_scaled = x_train_scaled[indices]\n",
        "    #hacemos un nuevo array para x que contenga los valores de los indices especificados\n",
        "    new_y_train_scaled = y_train.to_numpy()[indices]\n",
        "\n",
        "\n",
        "    #especificamos el modelo\n",
        "    new_model = SGDRegressor(penalty='l2', alpha=0.001, max_iter=1000000, learning_rate='optimal', random_state=semilla)\n",
        "    #lo entrenamos\n",
        "    new_model.fit(new_x_train_scaled, new_y_train_scaled)\n",
        "\n",
        "    #hacemos una prediccion para el conjunto train (utilizando los valores previamente introducidos)\n",
        "    new_y_train_pred = new_model.predict(new_x_train_scaled)\n",
        "\n",
        "    #hacemos una prediccion para el conjunto val (utilizando los valores previamente introducidos) y especificando que es con los valores de los indices\n",
        "    new_y_val_pred = new_model.predict(x_val_scaled[indices])\n",
        "\n",
        "    #calculamos el error para ambos, esta parte es un poco tricky por que para el error cuadrativo de val es necesario convertir de series a numpy\n",
        "    # y tomar los valores correspondientes a los indices\n",
        "    new_train_mse = mean_squared_error(new_y_train_scaled, new_y_train_pred)\n",
        "    new_val_mse = mean_squared_error(y_val.to_numpy()[indices], new_y_val_pred)\n",
        "\n",
        "\n",
        "    #guardamos los errores en el array de errores\n",
        "    mean_error_array_train[x] = new_train_mse\n",
        "    mean_error_array_val[x] = new_val_mse\n",
        "\n",
        "  #calculamos la media de los errores del array donde originalmente guardamos los 100 errores por cada numero de muestras\n",
        "  mean_error_train = np.mean(mean_error_array_train)\n",
        "  mean_error_val = np.mean(mean_error_array_val)\n",
        "\n",
        "\n",
        "  #guardamos las medias calculadas de  errores en el array de errores correspondiente a cada conjunto\n",
        "  error_train[i] = mean_error_train\n",
        "  error_val[i] = mean_error_val\n"
      ],
      "metadata": {
        "id": "Z6f3WkE6IZwC"
      },
      "execution_count": null,
      "outputs": []
    },
    {
      "cell_type": "markdown",
      "source": [
        "Agrega a las listas anteriores los errores de entrenamiento y validación de la línea base\n"
      ],
      "metadata": {
        "id": "ep1iitH8Dvls"
      }
    },
    {
      "cell_type": "code",
      "source": [
        "error_train = np.append(error_train,train_mse)\n",
        "error_val = np.append(error_val,val_mse)"
      ],
      "metadata": {
        "id": "jXWsOc5Xqc7c"
      },
      "execution_count": null,
      "outputs": []
    },
    {
      "cell_type": "markdown",
      "source": [
        "vamos a agregarle a numeros el valor correspondiente del tamaño de la mas muestras"
      ],
      "metadata": {
        "id": "IaolL0PZvkOW"
      }
    },
    {
      "cell_type": "code",
      "source": [
        "numeros = np.append(numeros,40)"
      ],
      "metadata": {
        "id": "2o0XJI9kvWj5"
      },
      "execution_count": null,
      "outputs": []
    },
    {
      "cell_type": "markdown",
      "source": [
        "Haz una gráfica donde se muestre la evolución del error promedio de entrenamiento y validación, para cada uno de los diferentes tamaños de entrenamiento"
      ],
      "metadata": {
        "id": "fR0rtQLLs-ma"
      }
    },
    {
      "cell_type": "code",
      "source": [
        "print(len(numeros))\n",
        "print(len(error_train))"
      ],
      "metadata": {
        "colab": {
          "base_uri": "https://localhost:8080/"
        },
        "id": "OVvAIbWxvsnb",
        "outputId": "cc29033a-28f8-4791-8960-808885b7a65a"
      },
      "execution_count": null,
      "outputs": [
        {
          "output_type": "stream",
          "name": "stdout",
          "text": [
            "21\n",
            "21\n"
          ]
        }
      ]
    },
    {
      "cell_type": "code",
      "source": [
        "plt.figure(figsize=(10, 6))\n",
        "\n",
        "plt.scatter(numeros,error_train,color='blue', alpha=0.6, s=200, label='Train error x sample size')\n",
        "plt.scatter(numeros,error_val,  color='red',alpha=0.6, s=100, label='Val error x sample size')\n",
        "\n",
        "\n",
        "plt.xlabel('Sample size')\n",
        "plt.ylabel('Error')\n",
        "plt.title('Error x Sample size')\n",
        "plt.legend()\n",
        "plt.show()"
      ],
      "metadata": {
        "colab": {
          "base_uri": "https://localhost:8080/",
          "height": 564
        },
        "id": "QgA3AmcftByd",
        "outputId": "41c298fa-056d-475c-c0d7-7683d228bf20"
      },
      "execution_count": null,
      "outputs": [
        {
          "output_type": "display_data",
          "data": {
            "text/plain": [
              "<Figure size 1000x600 with 1 Axes>"
            ],
            "image/png": "[encoded data removed]"
          },
          "metadata": {}
        }
      ]
    },
    {
      "cell_type": "markdown",
      "source": [
        "Con base en la grafica anterior, explica el tipo de ajuste obtenido para el primer modelo (el entrenado sobre 2 muestras) y para el modelo final (el entrenado sobre 40 muestras). También explica como cambia el tipo de ajuste a medida que se incrementa el número de muestras del entrenamiento. Incluye también en tu análisis el grado de sesgo y de varianza para los diferentes modelos.Con base en la gráfica y los datos, identifica la cantidad de muestras más adecuada para realizar el entrenamiento. Justifica tu selección.\n",
        "\n",
        "# Explicacion de la gráfica\n",
        "\n",
        "En la siguiente grafica se observa como a medida que disminuye el numero de elementos del subjconjunto de entrenamiento de los modelos, aumenta el error de forma significativa. Parece ser que desde 33 muestras en adelante el error no parece disminuir de forma considerable por lo que podriamos hacer una división de datos menor para el entrenamiento y poder evalualar con más datos el modelo."
      ],
      "metadata": {
        "id": "P0n6qU3ixNiD"
      }
    },
    {
      "cell_type": "markdown",
      "source": [
        "# Conjunto óptimo de entrenamiento vs Máximo\n",
        "Entrena un nuevo modelo utilizando esa cantidad de muestras, y calcula su error cuadrático medio sobre el subconjunto de entrenamiento (el de la cantidad de muestras seleccionadas), el de validación, y el de prueba."
      ],
      "metadata": {
        "id": "PLCskAr_y3FA"
      }
    },
    {
      "cell_type": "code",
      "source": [
        "#Vamos a hacer el array de valores de entrenamiento con 33 muestras\n",
        "#nos aseguramos que los valores de x correspondan a los de y\n",
        "\n",
        "optimal_x_train_scaled = x_train_scaled[:33]\n",
        "optimal_y_train = y_train[:33]\n"
      ],
      "metadata": {
        "id": "whcMSRZAr1b1"
      },
      "execution_count": null,
      "outputs": []
    },
    {
      "cell_type": "code",
      "source": [
        "#ahora vamos a entrenar el modelo\n",
        "new_model_vs = SGDRegressor(penalty='l2', alpha=0.001, max_iter=1000000, learning_rate='optimal', random_state=semilla)\n",
        "\n",
        "new_model_vs.fit(optimal_x_train_scaled , optimal_y_train)\n"
      ],
      "metadata": {
        "colab": {
          "base_uri": "https://localhost:8080/",
          "height": 91
        },
        "id": "JB4Rutx-ysc1",
        "outputId": "d994ee46-ab33-469f-ef26-70e5faab9a12"
      },
      "execution_count": null,
      "outputs": [
        {
          "output_type": "execute_result",
          "data": {
            "text/plain": [
              "SGDRegressor(alpha=0.001, learning_rate='optimal', max_iter=1000000,\n",
              "             random_state=9679)"
            ],
            "text/html": [
              "<style>#sk-container-id-2 {color: black;}#sk-container-id-2 pre{padding: 0;}#sk-container-id-2 div.sk-toggleable {background-color: white;}#sk-container-id-2 label.sk-toggleable__label {cursor: pointer;display: block;width: 100%;margin-bottom: 0;padding: 0.3em;box-sizing: border-box;text-align: center;}#sk-container-id-2 label.sk-toggleable__label-arrow:before {content: \"▸\";float: left;margin-right: 0.25em;color: #696969;}#sk-container-id-2 label.sk-toggleable__label-arrow:hover:before {color: black;}#sk-container-id-2 div.sk-estimator:hover label.sk-toggleable__label-arrow:before {color: black;}#sk-container-id-2 div.sk-toggleable__content {max-height: 0;max-width: 0;overflow: hidden;text-align: left;background-color: #f0f8ff;}#sk-container-id-2 div.sk-toggleable__content pre {margin: 0.2em;color: black;border-radius: 0.25em;background-color: #f0f8ff;}#sk-container-id-2 input.sk-toggleable__control:checked~div.sk-toggleable__content {max-height: 200px;max-width: 100%;overflow: auto;}#sk-container-id-2 input.sk-toggleable__control:checked~label.sk-toggleable__label-arrow:before {content: \"▾\";}#sk-container-id-2 div.sk-estimator input.sk-toggleable__control:checked~label.sk-toggleable__label {background-color: #d4ebff;}#sk-container-id-2 div.sk-label input.sk-toggleable__control:checked~label.sk-toggleable__label {background-color: #d4ebff;}#sk-container-id-2 input.sk-hidden--visually {border: 0;clip: rect(1px 1px 1px 1px);clip: rect(1px, 1px, 1px, 1px);height: 1px;margin: -1px;overflow: hidden;padding: 0;position: absolute;width: 1px;}#sk-container-id-2 div.sk-estimator {font-family: monospace;background-color: #f0f8ff;border: 1px dotted black;border-radius: 0.25em;box-sizing: border-box;margin-bottom: 0.5em;}#sk-container-id-2 div.sk-estimator:hover {background-color: #d4ebff;}#sk-container-id-2 div.sk-parallel-item::after {content: \"\";width: 100%;border-bottom: 1px solid gray;flex-grow: 1;}#sk-container-id-2 div.sk-label:hover label.sk-toggleable__label {background-color: #d4ebff;}#sk-container-id-2 div.sk-serial::before {content: \"\";position: absolute;border-left: 1px solid gray;box-sizing: border-box;top: 0;bottom: 0;left: 50%;z-index: 0;}#sk-container-id-2 div.sk-serial {display: flex;flex-direction: column;align-items: center;background-color: white;padding-right: 0.2em;padding-left: 0.2em;position: relative;}#sk-container-id-2 div.sk-item {position: relative;z-index: 1;}#sk-container-id-2 div.sk-parallel {display: flex;align-items: stretch;justify-content: center;background-color: white;position: relative;}#sk-container-id-2 div.sk-item::before, #sk-container-id-2 div.sk-parallel-item::before {content: \"\";position: absolute;border-left: 1px solid gray;box-sizing: border-box;top: 0;bottom: 0;left: 50%;z-index: -1;}#sk-container-id-2 div.sk-parallel-item {display: flex;flex-direction: column;z-index: 1;position: relative;background-color: white;}#sk-container-id-2 div.sk-parallel-item:first-child::after {align-self: flex-end;width: 50%;}#sk-container-id-2 div.sk-parallel-item:last-child::after {align-self: flex-start;width: 50%;}#sk-container-id-2 div.sk-parallel-item:only-child::after {width: 0;}#sk-container-id-2 div.sk-dashed-wrapped {border: 1px dashed gray;margin: 0 0.4em 0.5em 0.4em;box-sizing: border-box;padding-bottom: 0.4em;background-color: white;}#sk-container-id-2 div.sk-label label {font-family: monospace;font-weight: bold;display: inline-block;line-height: 1.2em;}#sk-container-id-2 div.sk-label-container {text-align: center;}#sk-container-id-2 div.sk-container {/* jupyter's `normalize.less` sets `[hidden] { display: none; }` but bootstrap.min.css set `[hidden] { display: none !important; }` so we also need the `!important` here to be able to override the default hidden behavior on the sphinx rendered scikit-learn.org. See: https://github.com/scikit-learn/scikit-learn/issues/21755 */display: inline-block !important;position: relative;}#sk-container-id-2 div.sk-text-repr-fallback {display: none;}</style><div id=\"sk-container-id-2\" class=\"sk-top-container\"><div class=\"sk-text-repr-fallback\"><pre>SGDRegressor(alpha=0.001, learning_rate=&#x27;optimal&#x27;, max_iter=1000000,\n",
              "             random_state=9679)</pre><b>In a Jupyter environment, please rerun this cell to show the HTML representation or trust the notebook. <br />On GitHub, the HTML representation is unable to render, please try loading this page with nbviewer.org.</b></div><div class=\"sk-container\" hidden><div class=\"sk-item\"><div class=\"sk-estimator sk-toggleable\"><input class=\"sk-toggleable__control sk-hidden--visually\" id=\"sk-estimator-id-2\" type=\"checkbox\" checked><label for=\"sk-estimator-id-2\" class=\"sk-toggleable__label sk-toggleable__label-arrow\">SGDRegressor</label><div class=\"sk-toggleable__content\"><pre>SGDRegressor(alpha=0.001, learning_rate=&#x27;optimal&#x27;, max_iter=1000000,\n",
              "             random_state=9679)</pre></div></div></div></div></div>"
            ]
          },
          "metadata": {},
          "execution_count": 19
        }
      ]
    },
    {
      "cell_type": "code",
      "source": [
        "#calculamos el error para cada subconjunto con el modelo optimo\n",
        "\n",
        "\n",
        "optimal_y_train_pred = new_model_vs.predict(x_train_scaled) #Genera predicciones usando el modelo entrenado para los datos de entrenamiento.\n",
        "optimal_y_test_pred = new_model_vs.predict(x_test_scaled) #Genera predicciones usando el modelo entrenado para los datos de prueba.\n",
        "optimal_y_val_pred = new_model_vs.predict(x_val_scaled) #Genera predicciones usando el modelo entrenado para los datos de validación.\n",
        "\n",
        "#alcula el error cuadrático medio (MSE) para el conjunto de entrenamiento,\n",
        "#comparando las predicciones (y_train_pred) con los valores reales (y_train).\n",
        "optimal_train_mse = mean_squared_error(y_train, optimal_y_train_pred)\n",
        "\n",
        "#Calcula el MSE para el conjunto de prueba, comparando las predicciones (y_test_pred)\n",
        "#con los valores reales (y_test).\n",
        "optimal_test_mse = mean_squared_error(y_test, optimal_y_test_pred)\n",
        "\n",
        "#calculamos el MSE para el conjunto de validación, comparando las predicciones (y_val_pred)\n",
        "# con los valores reales (y_val)\n",
        "optimal_val_mse = mean_squared_error(y_val, optimal_y_val_pred)\n",
        "\n",
        "#imprimimos los resultados de nuestras metricas\n",
        "print(f\"Error Cuadrático Medio en Entrenamiento para el subconjunto optimo de entrenamiento: {optimal_train_mse}\")\n",
        "print(f\"Error Cuadrático Medio en Prueba para el subconjunto optimo de entrenamiento: {optimal_test_mse}\")\n",
        "print(f\"Error Cuadrático Medio en Prueba para el subconjunto optimo de entrenamiento: {optimal_val_mse}\")\n"
      ],
      "metadata": {
        "colab": {
          "base_uri": "https://localhost:8080/"
        },
        "id": "8dhbJQCktekX",
        "outputId": "97038f02-0cf9-42dd-9bb9-62d4d3d01f2c"
      },
      "execution_count": null,
      "outputs": [
        {
          "output_type": "stream",
          "name": "stdout",
          "text": [
            "Error Cuadrático Medio en Entrenamiento para el subconjunto optimo de entrenamiento: 91.04214699808705\n",
            "Error Cuadrático Medio en Prueba para el subconjunto optimo de entrenamiento: 170.4639424093911\n",
            "Error Cuadrático Medio en Prueba para el subconjunto optimo de entrenamiento: 106.27942657728968\n"
          ]
        }
      ]
    },
    {
      "cell_type": "markdown",
      "source": [
        "Compara los valores del punto anterior contra los errores obtenidos para la línea base (ver punto 5)"
      ],
      "metadata": {
        "id": "jyU9tFoyu0Bh"
      }
    },
    {
      "cell_type": "code",
      "source": [
        "\n",
        "print(f\"Diferencia de mse entre conjunto optimo de entrenamiento y base: {optimal_train_mse - train_mse}\")\n",
        "print(f\"Diferencia de mse entre conjunto optimo de prueba y base: {optimal_test_mse - test_mse}\")\n",
        "print(f\"Diferencia de mse entre conjunto optimo de validacion y base: {optimal_val_mse - val_mse}\")"
      ],
      "metadata": {
        "colab": {
          "base_uri": "https://localhost:8080/"
        },
        "id": "6rm8UqIfu0qJ",
        "outputId": "4b5625bf-928d-419b-c4db-b5a571401f64"
      },
      "execution_count": null,
      "outputs": [
        {
          "output_type": "stream",
          "name": "stdout",
          "text": [
            "Diferencia de mse entre conjunto optimo de entrenamiento y base: -4.428172569247309\n",
            "Diferencia de mse entre conjunto optimo de prueba y base: -4.660296596926656\n",
            "Diferencia de mse entre conjunto optimo de validacion y base: -8.254686691344176\n"
          ]
        }
      ]
    },
    {
      "cell_type": "markdown",
      "source": [
        "# Conclusiones\n",
        "\n",
        "El modelo que mejores resultados tuvo fue el que utilizo menos muestras, en concreto 7 muestras menos. Se puede concluir debido a que la diferencia de errores fue negativa para todos los conjuntos reduciendo asi la posibilidad de que hubiera overfitting. La razón por la que se comporta mejor es compleja y requeriría un análisis mas extenso debido a que puede ser debido a multiples raaones como que existiera ruido en los datos de entrenamiento y se removieron los datos que ocasionaban dicho ruido, un overfitting debido a la cantidad de datos, o incluso un desbalance entre las clases que hiciera un modelo más sesgado. Si se quisieran saber los detalles debería hacerse un análisis exhaustivo para encontrar los multiples posibles factores que ocasionan la discrepancia."
      ],
      "metadata": {
        "id": "ty8Ww3Riv-9T"
      }
    }
  ]
}